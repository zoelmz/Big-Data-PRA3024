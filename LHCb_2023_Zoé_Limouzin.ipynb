{
  "nbformat": 4,
  "nbformat_minor": 0,
  "metadata": {
    "colab": {
      "provenance": [],
      "collapsed_sections": [
        "dzybWZylomGu"
      ],
      "include_colab_link": true
    },
    "kernelspec": {
      "name": "python3",
      "display_name": "Python 3"
    },
    "gpuClass": "standard",
    "language_info": {
      "name": "python"
    },
    "accelerator": "TPU"
  },
  "cells": [
    {
      "cell_type": "markdown",
      "metadata": {
        "id": "view-in-github",
        "colab_type": "text"
      },
      "source": [
        "<a href=\"https://colab.research.google.com/github/zoelmz/Big-Data---PRA3024/blob/main/LHCb_2023_Zo%C3%A9_Limouzin.ipynb\" target=\"_parent\"><img src=\"https://colab.research.google.com/assets/colab-badge.svg\" alt=\"Open In Colab\"/></a>"
      ]
    },
    {
      "cell_type": "markdown",
      "metadata": {
        "id": "1JafiSIrvEKW"
      },
      "source": [
        "Welcome to Week 2!\n",
        "\n",
        "We will be focussing in Particle Physics Analysis and detecting matter/antimatter assymetries in the production of certain types of particles. ![LHCb detector](https://www1b.physik.rwth-aachen.de/~schael/LHCb_files/LHCB%20PREVIEW-white-bg.jpg)\n",
        "\n",
        "The data we are using comes from LHCb - one of the experiments at LHC. It is a highly specialised detector aimed at detecting decays involving the B-quark. Unlike the other major experiments, LHCb detects particles very close to the source and looks almost exclusively in the forward direction - this gives the detector many advantages compared to other experiments at LHC.\n",
        "\n",
        "In order to get started, we need to access the [ROOT framework](https://root.cern.ch/) and download some datafiles into this machine.\n",
        "."
      ]
    },
    {
      "cell_type": "code",
      "source": [
        "from google.colab import drive\n",
        "drive.mount('/content/drive')"
      ],
      "metadata": {
        "colab": {
          "base_uri": "https://localhost:8080/"
        },
        "id": "HdFCUYuMj6uP",
        "outputId": "bdc70903-e03b-43df-9187-fcf4f54c8465"
      },
      "execution_count": 1,
      "outputs": [
        {
          "output_type": "stream",
          "name": "stdout",
          "text": [
            "Drive already mounted at /content/drive; to attempt to forcibly remount, call drive.mount(\"/content/drive\", force_remount=True).\n"
          ]
        }
      ]
    },
    {
      "cell_type": "code",
      "metadata": {
        "id": "vFclIR72w0mU",
        "colab": {
          "base_uri": "https://localhost:8080/",
          "height": 70
        },
        "outputId": "b2b1d7a1-93d9-4faa-8fd1-04b86326063f"
      },
      "source": [
        "!wget https://github.com/MohamedElashri/HEP-ML/releases/download/ROOT/ROOT.tar.zip\n",
        "!unzip /content/ROOT.tar.zip\n",
        "!tar -xf  ROOT.tar\n",
        "!apt-get install git dpkg-dev cmake g++ gcc binutils libx11-dev libxpm-dev libxft-dev libxext-dev tar gfortran subversion libpython3.6 \n",
        "!pip install root_numpy # optional if you want to convert Trees to numpy arrays and other things like that\n",
        "\n",
        "\n"
      ],
      "execution_count": 2,
      "outputs": [
        {
          "output_type": "execute_result",
          "data": {
            "text/plain": [
              "'!wget https://github.com/MohamedElashri/HEP-ML/releases/download/ROOT/ROOT.tar.zip\\n!unzip /content/ROOT.tar.zip\\n!tar -xf  ROOT.tar\\n!apt-get install git dpkg-dev cmake g++ gcc binutils libx11-dev libxpm-dev libxft-dev libxext-dev tar gfortran subversion libpython3.6 \\n!pip install root_numpy # optional if you want to convert Trees to numpy arrays and other things like that'"
            ],
            "application/vnd.google.colaboratory.intrinsic+json": {
              "type": "string"
            }
          },
          "metadata": {},
          "execution_count": 2
        }
      ]
    },
    {
      "cell_type": "code",
      "source": [
        "import sys\n",
        "sys.path.append(\"/content/root_build/\")\n",
        "sys.path.append(\"/content/root_build/bin/\")\n",
        "sys.path.append(\"/content/root_build/include/\")\n",
        "sys.path.append(\"/content/root_build/lib/\")\n",
        "\n"
      ],
      "metadata": {
        "id": "zC7znVqfPx3z"
      },
      "execution_count": 1,
      "outputs": []
    },
    {
      "cell_type": "code",
      "metadata": {
        "id": "COPyXIvbxqht",
        "colab": {
          "base_uri": "https://localhost:8080/",
          "height": 122
        },
        "outputId": "4483ec5a-f5d6-420e-edd4-284594fc36af"
      },
      "source": [
        "import ctypes\n",
        "ctypes.cdll.LoadLibrary('/content/root_build/lib/libCore.so')\n",
        "ctypes.cdll.LoadLibrary('/content/root_build/lib/libThread.so')\n",
        "ctypes.cdll.LoadLibrary('/content/root_build/lib/libTreePlayer.so')\n",
        "'''ctypes.cdll.LoadLibrary('/content/root_build/lib/libImt.so')\n",
        "ctypes.cdll.LoadLibrary('/content/root_build/lib/libRIO.so')\n",
        "ctypes.cdll.LoadLibrary('/content/root_build/lib/libNet.so')\n",
        "ctypes.cdll.LoadLibrary('/content/root_build/lib/libTree.so')\n",
        "ctypes.cdll.LoadLibrary('/content/root_build/lib/libMathCore.so')\n",
        "ctypes.cdll.LoadLibrary('/content/root_build/lib/libMatrix.so')\n",
        "ctypes.cdll.LoadLibrary('/content/root_build/lib/libHist.so')\n",
        "ctypes.cdll.LoadLibrary('/content/root_build/lib/libGraf.so')\n",
        "ctypes.cdll.LoadLibrary('/content/root_build/lib/libGpad.so')\n",
        "ctypes.cdll.LoadLibrary('/content/root_build/lib/libGraf3d.so')\n",
        "ctypes.cdll.LoadLibrary('/content/root_build/lib/libMultiProc.so')\n",
        "ctypes.cdll.LoadLibrary('/content/root_build/lib/libMinuit.so')\n",
        "ctypes.cdll.LoadLibrary('/content/root_build/lib/libFoam.so')\n",
        "#ctypes.cdll.LoadLibrary('/content/root_build/lib/libPyROOT.so')'''"
      ],
      "execution_count": 2,
      "outputs": [
        {
          "output_type": "execute_result",
          "data": {
            "text/plain": [
              "\"ctypes.cdll.LoadLibrary('/content/root_build/lib/libImt.so')\\nctypes.cdll.LoadLibrary('/content/root_build/lib/libRIO.so')\\nctypes.cdll.LoadLibrary('/content/root_build/lib/libNet.so')\\nctypes.cdll.LoadLibrary('/content/root_build/lib/libTree.so')\\nctypes.cdll.LoadLibrary('/content/root_build/lib/libMathCore.so')\\nctypes.cdll.LoadLibrary('/content/root_build/lib/libMatrix.so')\\nctypes.cdll.LoadLibrary('/content/root_build/lib/libHist.so')\\nctypes.cdll.LoadLibrary('/content/root_build/lib/libGraf.so')\\nctypes.cdll.LoadLibrary('/content/root_build/lib/libGpad.so')\\nctypes.cdll.LoadLibrary('/content/root_build/lib/libGraf3d.so')\\nctypes.cdll.LoadLibrary('/content/root_build/lib/libMultiProc.so')\\nctypes.cdll.LoadLibrary('/content/root_build/lib/libMinuit.so')\\nctypes.cdll.LoadLibrary('/content/root_build/lib/libFoam.so')\\n#ctypes.cdll.LoadLibrary('/content/root_build/lib/libPyROOT.so')\""
            ],
            "application/vnd.google.colaboratory.intrinsic+json": {
              "type": "string"
            }
          },
          "metadata": {},
          "execution_count": 2
        }
      ]
    },
    {
      "cell_type": "code",
      "source": [
        "!which python"
      ],
      "metadata": {
        "id": "s2vh3GOm73bj",
        "colab": {
          "base_uri": "https://localhost:8080/"
        },
        "outputId": "a82b6cfc-be21-47f5-d115-b01737afe6c5"
      },
      "execution_count": 5,
      "outputs": [
        {
          "output_type": "stream",
          "name": "stdout",
          "text": [
            "/usr/local/bin/python\n"
          ]
        }
      ]
    },
    {
      "cell_type": "code",
      "metadata": {
        "id": "QTVz7NQMyDCb",
        "colab": {
          "base_uri": "https://localhost:8080/",
          "height": 606
        },
        "outputId": "8d47012d-4025-45b5-91ba-4cdca0aaf6d8"
      },
      "source": [
        "#Now we can check if we have everything working as we expect: \n",
        "#Import brings the ROOT framework into our python environment.\n",
        "import ROOT\n",
        "#We define a 1 dimensional histogram, with 100 bins which ranges from -4 to +4\n",
        "h = ROOT.TH1F(\"gauss\",\"Example histogram\",100,-4,4)\n",
        "#Fill the histogram with gaussian (random) distribution\n",
        "h.FillRandom(\"gaus\")\n",
        "#make a Canvas (i.e. a drawing)\n",
        "c = ROOT.TCanvas(\"myCanvasName\",\"The Canvas Title\",800,600)\n",
        "#Draw my histogram\n",
        "h.Draw()\n",
        "#Show me the canvas\n",
        "c.Draw()"
      ],
      "execution_count": 6,
      "outputs": [
        {
          "output_type": "stream",
          "name": "stdout",
          "text": [
            "Welcome to JupyROOT 6.14/04\n"
          ]
        },
        {
          "output_type": "display_data",
          "data": {
            "image/png": "[encoded data removed]",
            "text/plain": [
              "<IPython.core.display.Image object>"
            ]
          },
          "metadata": {}
        }
      ]
    },
    {
      "cell_type": "markdown",
      "metadata": {
        "id": "VXW1M6XB0tXP"
      },
      "source": [
        "All being well - this should give no errors and we should have some kind of Gaussian distribution above.\n",
        "\n",
        "The next step is to get our data file - you can find it on Canvas here: https://canvas.maastrichtuniversity.nl/courses/12320/modules/items/450514\n",
        "\n",
        "Then upload it either directly or to your Google Drive and then mount this to your Colab environment"
      ]
    },
    {
      "cell_type": "code",
      "metadata": {
        "id": "Co476pbmBvBB",
        "colab": {
          "base_uri": "https://localhost:8080/",
          "height": 506
        },
        "outputId": "3e1053fb-11ba-4590-e810-8f1c7c77b1ba"
      },
      "source": [
        "#Since we need to use ROOT, we must first import this into Python:\n",
        "import ROOT\n",
        "#Then we open the ROOT file using the TFile command. - note you need to make this file path correct for your own setup!\n",
        "f = ROOT.TFile.Open(\"/content/drive/MyDrive/B2HHH_MagnetUp.root\", \"READONLY\")\n",
        "#From our file, we have to extract the DecayTree \n",
        "tree=f.Get(\"DecayTree\")\n",
        "#Now we can grab some variables as a test:\n",
        "ymomentum = ROOT.RooRealVar(\"H1_PY\",\"H1 Y Momentum\",-3000,3000,\"MeV/c\")\n",
        "xmomentum = ROOT.RooRealVar(\"H1_PX\",\"H1 X Momentum\",-3000,3000,\"MeV/c\")\n",
        "zmomentum = ROOT.RooRealVar(\"H1_PZ\",\"H1 Z Momentum\",-3000,3000,\"MeV/c\")\n",
        "# We then create a dataset for us to play with\n",
        "data = ROOT.RooDataSet(\"data\",\"data set\", tree, ROOT.RooArgSet(xmomentum,ymomentum,zmomentum), \"1==1\")\n",
        "# Now we create a canvas, plot our data onto the canvas and draw it:\n",
        "c = ROOT.TCanvas(\"c\",\"c\")\n",
        "frame = xmomentum.frame()\n",
        "data.plotOn(frame)\n",
        "frame.Draw()\n",
        "c.Draw()"
      ],
      "execution_count": 3,
      "outputs": [
        {
          "output_type": "stream",
          "name": "stdout",
          "text": [
            "Welcome to JupyROOT 6.14/04\n"
          ]
        },
        {
          "output_type": "display_data",
          "data": {
            "image/png": "[encoded data removed]",
            "text/plain": [
              "<IPython.core.display.Image object>"
            ]
          },
          "metadata": {}
        }
      ]
    },
    {
      "cell_type": "markdown",
      "metadata": {
        "id": "4e4n4iS3IJZi"
      },
      "source": [
        "#Why are we here?\n",
        "\n",
        "This week is about finding out something about one of the fundemental questions in physics. Why do we have \"stuff\".\n",
        "\n",
        "According to many of our models, and according to many measurements in particle physics, matter and anti-matter appear to be produced in equal quantities.\n",
        "\n",
        "However, when one looks at the Universe in general, we have more matter than anti-matter left - so there need to be some processes where anti-matter and matter are not produced equally. You can find out more about the Matter/Anti-Matter Asymmetry [here](http://press.web.cern.ch/backgrounders/matterantimatter-asymmetry)\n",
        "\n",
        "One place we look for this asymetry is in [charge-partity (CP) violation](https://www.symmetrymagazine.org/article/october-2005/explain-it-in-60-seconds) in particle physics processes. This essentially says that the processes that happen in the anti-particle version of a decay do not **exactly** match to the processes that happen in the particle version of the decay.\n",
        "\n",
        "\n",
        "\n",
        "---\n",
        "\n",
        "\n",
        "\n",
        "At LHCb, we produce both particle of the  B<sup>+</sup> meson and it's antiparticle the B<sup>-</sup> meson.\n",
        "\n",
        "We cannot detect these mesons directly. They decay into other things before we have a chance to measure them properly. So we collect data on the decay products, often called daughter particles. There are 524 [documented](http://pdg.lbl.gov/2014/listings/rpp2014-list-B-plus-minus.pdf) ways that the B<sup>+/-</sup> decays into various combinations. In order to simplify the process, we choose decay combinations that are convenient or have particular properties.\n",
        "\n",
        "In this analysis, we will take the process:-\n",
        "\n",
        "B<sup>+</sup>->K<sup>+</sup> + K<sup>+</sup>  + K<sup>-</sup>\n",
        "\n",
        "or\n",
        "\n",
        "B<sup>-</sup>->K<sup>-</sup> + K<sup>-</sup>  + K<sup>+</sup>\n",
        "\n",
        "\n",
        "To do so, we are given the following data for each event in our system:-\n",
        "\n",
        "![alt text](https://raw.githubusercontent.com/lhcb/opendata-project/80d64a3796e593fc8f9b257e85f32ae2e54f131f/Images/Variables.png)\n",
        "\n",
        "Here, H1 is the detected daughter particle (so a Kaon or a Pion), **not** the B-meson - the mother particle. Normally we would have to do some reconstruction from the decay products (the Daughters) to the Mother to be able to make some conclusions.\n",
        "\n",
        "Let's get started with working with this data:"
      ]
    },
    {
      "cell_type": "markdown",
      "metadata": {
        "id": "LOhfj7kfP-ao"
      },
      "source": [
        "For our analysis, the momentum of each of the daughter particles is split into the three cartesian components. We have combined these into a variable called H1_Ptot"
      ]
    },
    {
      "cell_type": "code",
      "metadata": {
        "id": "Y4keyoyTPjsK",
        "colab": {
          "base_uri": "https://localhost:8080/",
          "height": 489
        },
        "outputId": "be6b7aa8-a21e-425d-e921-e53a09c92443"
      },
      "source": [
        "from math import *\n",
        "#Here make a plot of the Total momentum of each of the three daughters\n",
        "#Eli's code given in class \n",
        "\n",
        "#We have to grab the variables for the second and third daughter particles\n",
        "y2momentum = ROOT.RooRealVar(\"H2_PY\",\"H2 Y Momentum\",-3000,3000,\"MeV/c\")\n",
        "x2momentum = ROOT.RooRealVar(\"H2_PX\",\"H2 X Momentum\",-3000,3000,\"MeV/c\")\n",
        "z2momentum = ROOT.RooRealVar(\"H2_PZ\",\"H2 Z Momentum\",-3000,3000,\"MeV/c\")\n",
        "\n",
        "y3momentum = ROOT.RooRealVar(\"H3_PY\",\"H3 Y Momentum\",-3000,3000,\"MeV/c\")\n",
        "x3momentum = ROOT.RooRealVar(\"H3_PX\",\"H3 X Momentum\",-3000,3000,\"MeV/c\")\n",
        "z3momentum = ROOT.RooRealVar(\"H3_PZ\",\"H3 Z Momentum\",-3000,3000,\"MeV/c\")\n",
        "\n",
        "#Create some variables for the total momentum of each daughter particule \n",
        "PH1 = \"(sqrt((H1_PX**2)+(H1_PY**2)+(H1_PZ**2)))\"\n",
        "PH2 = \"(sqrt((H2_PX**2)+(H2_PY**2)+(H2_PZ**2)))\"\n",
        "PH3 = \"(sqrt((H3_PX**2)+(H3_PY**2)+(H3_PZ**2)))\"\n",
        "\n",
        "tree.SetName(\"tree\")\n",
        "canvas = ROOT.TCanvas(\"canvas\")\n",
        "bins = \"100\"\n",
        "\n",
        "#Create a 1 dimensional histogram \n",
        "histogram = ROOT.TH1F(\"P_H1\",\"Total Momentum\", int(bins), 0, 30000)\n",
        "histogram2 = ROOT.TH1F(\"P_H2\",\"Total Momentum\", int(bins), 0, 30000)\n",
        "histogram3 = ROOT.TH1F(\"P_H3\",\"Total Momentum\", int(bins), 0, 30000)\n",
        "#extract the total momentum of daughter particle  \n",
        "tree.Draw(PH1+\">>P_H1(\"+bins+\", 0, 30000\")\n",
        "tree.Draw(PH2+\">>P_H2(\"+bins+\", 0, 30000\")\n",
        "tree.Draw(PH3+\">>P_H3(\"+bins+\", 0, 30000\")\n",
        "#Create the histogram\n",
        "histogram = ROOT.gDirectory.Get(\"P_H1\")\n",
        "histogram2 = ROOT.gDirectory.Get(\"P_H2\")\n",
        "histogram3 = ROOT.gDirectory.Get(\"P_H3\")\n",
        "#Choose colors \n",
        "histogram.SetLineColor(2) #red = H1\n",
        "histogram2.SetLineColor(3) #green = H2\n",
        "histogram3.SetLineColor(4) #blue = H3\n",
        "#Name axis and give title \n",
        "histogram.GetXaxis().SetTitle(\"Momentum [MeV/c^2]\")\n",
        "histogram.GetYaxis().SetTitle(\"Number of events\")\n",
        "histogram.SetTitle(\"Total Momentum of each daughter particle vs number of events\")\n",
        "#Print histogram \n",
        "histogram.Draw()\n",
        "histogram2.Draw('same')\n",
        "histogram3.Draw('same')\n",
        "canvas.Update()\n",
        "canvas.Draw()"
      ],
      "execution_count": 4,
      "outputs": [
        {
          "output_type": "display_data",
          "data": {
            "image/png": "[encoded data removed]",
            "text/plain": [
              "<IPython.core.display.Image object>"
            ]
          },
          "metadata": {}
        }
      ]
    },
    {
      "cell_type": "markdown",
      "metadata": {
        "id": "C1lXLMCoR1Gi"
      },
      "source": [
        "Now plot the total momentum for the mother (M_Ptot)"
      ]
    },
    {
      "cell_type": "code",
      "metadata": {
        "id": "6kdbiNpPR1QG",
        "colab": {
          "base_uri": "https://localhost:8080/",
          "height": 506
        },
        "outputId": "5d1c028a-1c7a-4f70-d293-7e0a3c38ed28"
      },
      "source": [
        "#use the histogram plotting tools, plot the momentum of the mother\n",
        "\n",
        "#We create a variable for the total momentum of the mother particules\n",
        "Pmother = \"(sqrt(((H1_PX+H2_PX+H3_PX)**2)+((H1_PY+H2_PY+H3_PY)**2)+((H1_PZ+H2_PZ+H3_PZ)**2)))\"\n",
        "\n",
        "tree.SetName(\"tree\")\n",
        "canvas = ROOT.TCanvas(\"canvas\")\n",
        "bins = \"100\"\n",
        "#We use the same tools to plot \n",
        "histogramM= ROOT.TH1F(\"PM\",\"Total Momentum\", int(bins), 0, 600000)\n",
        "tree.Draw(Pmother+\">>PM(\"+bins+\", 0, 600000)\")\n",
        "histogramM = ROOT.gDirectory.Get(\"PM\")\n",
        "histogramM.GetXaxis().SetTitle(\"Momentum [MeV/c^2]\")\n",
        "histogramM.GetYaxis().SetTitle(\"Number of events\")\n",
        "histogramM.SetTitle(\"Total Momentum of the mother particle vs number of events\")\n",
        "histogramM.Draw()\n",
        "canvas.Update()\n",
        "canvas.Draw()"
      ],
      "execution_count": 5,
      "outputs": [
        {
          "output_type": "stream",
          "name": "stderr",
          "text": [
            "Warning in <TCanvas::Constructor>: Deleting canvas with same name: canvas\n"
          ]
        },
        {
          "output_type": "display_data",
          "data": {
            "image/png": "[encoded data removed]",
            "text/plain": [
              "<IPython.core.display.Image object>"
            ]
          },
          "metadata": {}
        }
      ]
    },
    {
      "cell_type": "markdown",
      "metadata": {
        "id": "Gj5qv5kqSMIF"
      },
      "source": [
        "Let's take a look at the whole data file that is available to us by looking at one specific entry - number 45"
      ]
    },
    {
      "cell_type": "code",
      "metadata": {
        "id": "QMkih_6SSG8I",
        "colab": {
          "base_uri": "https://localhost:8080/"
        },
        "outputId": "495cb395-83c4-441a-e7f7-fb3399f5b0b4"
      },
      "source": [
        "tree.Show(45)"
      ],
      "execution_count": 10,
      "outputs": [
        {
          "output_type": "stream",
          "name": "stdout",
          "text": [
            "======> EVENT:45\n",
            " B_FlightDistance = 4.71407\n",
            " B_VertexChi2    = 11.5278\n",
            " H1_PX           = 133.376\n",
            " H1_PY           = -1293.52\n",
            " H1_PZ           = 33534.2\n",
            " H1_ProbK        = 0.00735235\n",
            " H1_ProbPi       = 0.204907\n",
            " H1_Charge       = 1\n",
            " H1_IPChi2       = 22.9885\n",
            " H1_isMuon       = 0\n",
            " H2_PX           = 518.943\n",
            " H2_PY           = -1966.2\n",
            " H2_PZ           = 52184.7\n",
            " H2_ProbK        = 0.00482044\n",
            " H2_ProbPi       = 0.266655\n",
            " H2_Charge       = -1\n",
            " H2_IPChi2       = 20.5652\n",
            " H2_isMuon       = 0\n",
            " H3_PX           = 1383.62\n",
            " H3_PY           = -2008.35\n",
            " H3_PZ           = 12154\n",
            " H3_ProbK        = 0.0800247\n",
            " H3_ProbPi       = 0.403711\n",
            " H3_Charge       = -1\n",
            " H3_IPChi2       = 1584.95\n",
            " H3_isMuon       = 0\n"
          ]
        }
      ]
    },
    {
      "cell_type": "markdown",
      "metadata": {
        "id": "w3sqwtNTUEJd"
      },
      "source": [
        "We have now completed the initial steps and begun to work through what we need to with the data. This is a perfect moment to take a coffee!"
      ]
    },
    {
      "cell_type": "markdown",
      "metadata": {
        "id": "6RhWWqt3a8_e"
      },
      "source": [
        "Having discovered all of the relevant information about our daughter particles, we need to combine the measurements about them into a single mother - which will be our B<sup>+</sup> or our B<sup>-</sup>\n",
        "\n",
        "Having found our momentum and energy, we can use these quantities to find our experimental mass (not the theoretical mass as we have used for the reconstruction).\n",
        "\n",
        "When we calculate this, we will get a distribution of masses. This is due to errors in the measurements made either by the detector, or in the experiment itself. We hope to have a reasonably narrow peak to work with, but, sometimes this is not possible.\n",
        "\n",
        "Additionally there will be other particles in the detector - which means our daughters might have come from two or even three different processes. Events which don't come from the same process will give a higher or lower mass than we are looking for. This is typically called the *background* while events which come from our event of interest are called the *signal*"
      ]
    },
    {
      "cell_type": "code",
      "source": [
        "from math import *\n",
        "#We make the assumption that the daughters are Kaons, with a mass 'massk', and that the speed of light 'c' is one\n",
        "massk = \"493.677 \" #Mev/c**2 \n",
        "c = \"1\" #c\n",
        "\n",
        "#We know the formula E=sqrt(m^2c^4+p_i^2c^2) and we have the energies of each daughters \n",
        "E1 = \"(sqrt((\"+massk+\"**2) + ((H1_PX**2)+(H1_PY**2)+(H1_PZ**2))))\"\n",
        "E2 = \"(sqrt((\"+massk+\"**2) + ((H2_PX**2)+(H2_PY**2)+(H2_PZ**2))))\"\n",
        "E3 = \"(sqrt((\"+massk+\"**2) + ((H3_PX**2)+(H3_PY**2)+(H3_PZ**2))))\""
      ],
      "metadata": {
        "id": "lF1DYDD_vVQX"
      },
      "execution_count": 6,
      "outputs": []
    },
    {
      "cell_type": "code",
      "metadata": {
        "id": "onr7-8CMbbFf",
        "colab": {
          "base_uri": "https://localhost:8080/",
          "height": 489
        },
        "outputId": "2599a858-792b-42a5-f778-6ebbb518bc35"
      },
      "source": [
        "#Now plot a histogram of the range of masses of the B meson.\n",
        "tree.SetName(\"tree\")\n",
        "canvasROM = ROOT.TCanvas(\"canvasROM\")\n",
        "bins = \"100\"\n",
        "\n",
        "#We use the law of conservation of energy, meaning that the sum of the daughters' energies equals the energy of the mother particle \n",
        "#We use the same tools to plot the range of masses of the B meson (mother particle)\n",
        "histogramROM = ROOT.TH1F(\"Mass range B meson\",\"Total Mass\", int(bins), 4000, 7000)\n",
        "tree.Draw(\"sqrt(((\"+E1+\"+\"+E2+\"+\"+E3+\")**2) - (\"+Pmother+\"**2))>>Massrange(\"+bins+\", 4000, 7000)\")\n",
        "histogramROM = ROOT.gDirectory.Get(\"Massrange\") #important line for the program so it doesn't forget the histogram \n",
        "\n",
        "histogramROM.GetXaxis().SetTitle(\"Mass [MeV/c^2]\")\n",
        "histogramROM.GetYaxis().SetTitle(\"Number of events\")\n",
        "histogramROM.SetTitle(\"Range of masses of the B meson\")\n",
        "\n",
        "histogramROM.Draw()\n",
        "canvasROM.Update()\n",
        "canvasROM.Draw()\n",
        "#Does this match what we would expect from theory?\n",
        "#This matches what we would expect "
      ],
      "execution_count": 7,
      "outputs": [
        {
          "output_type": "display_data",
          "data": {
            "image/png": "[encoded data removed]",
            "text/plain": [
              "<IPython.core.display.Image object>"
            ]
          },
          "metadata": {}
        }
      ]
    },
    {
      "cell_type": "markdown",
      "metadata": {
        "id": "MWGFKFnXb0RP"
      },
      "source": [
        "We know that some of our particles are the B+ and some are the B- particle. There will also be some particles in our system that are not coming from a genuine B+/- or are a B+/- but are not constructed from Kaons.\n",
        "\n",
        "We have some tools available to help:-\n",
        "\n",
        "  *  During detection, software attributes the probability of a particle being a Kaon or a Pion (in the H1_ProbK or H1_ProbPi variable)\n",
        "  * The detector also knows if the particle was a Muon - since it has detectors specifically for these. So it can attribute a 0 or a 1 to this probability\n",
        "  * The reconstructed vertex has a some kind of quality associated with it (we call this the Vertex χ2 (this is the variable B_VertexChi2). This is the statistical measure that determines how well we found a single point to be the source of all three particles.\n",
        "\n"
      ]
    },
    {
      "cell_type": "markdown",
      "metadata": {
        "id": "fEpnSmH4b9HZ"
      },
      "source": [
        "In order to get a better result, we should select our data to have the properties we desire and make some rules (often called a selection) to cut away data we don't want to include for various reasons. e.g. we know we don't have any muons in our decay - so any time H1/H2/H3 are a muon they should be excluded. The other variables are not so clear - so we can plot them to make a decision."
      ]
    },
    {
      "cell_type": "code",
      "metadata": {
        "id": "k0vikJp0cAvv",
        "colab": {
          "base_uri": "https://localhost:8080/",
          "height": 1000
        },
        "outputId": "866fdf54-e6ae-4193-b619-600b7afdad8d"
      },
      "source": [
        "#Make plots of H1/H2/H3 _ProbK on one plot\n",
        "\n",
        "tree.SetName(\"tree\")\n",
        "canvasprobK = ROOT.TCanvas(\"canvasprobK\")\n",
        "bins = \"100\"\n",
        "\n",
        "histogramprobK1= ROOT.TH1F(\"ProbK\",\"Probability of Kaon\", int(bins), 0, 1)\n",
        "histogramprobK2= ROOT.TH1F(\"ProbKH2\",\"Probability of Kaon\", int(bins), 0, 1)\n",
        "histogramprobK3= ROOT.TH1F(\"ProbKH3\",\"Probability of Kaon\", int(bins), 0, 1)\n",
        "\n",
        "tree.Draw(\"H1_ProbK>>ProbK(\"+bins+\", 0, 1)\")\n",
        "tree.Draw(\"H2_ProbK>>ProbKH2(\"+bins+\", 0, 1)\")\n",
        "tree.Draw(\"H3_ProbK>>ProbKH3(\"+bins+\", 0, 1)\")\n",
        "\n",
        "histogramprobK1 = ROOT.gDirectory.Get(\"ProbK\")\n",
        "histogramprobK2 = ROOT.gDirectory.Get(\"ProbKH2\")\n",
        "histogramprobK3 = ROOT.gDirectory.Get(\"ProbKH3\")\n",
        "\n",
        "histogramprobK1.SetLineColor(2) #red = H1\n",
        "histogramprobK2.SetLineColor(3) #green = H2\n",
        "histogramprobK3.SetLineColor(4) #blue = H3\n",
        "\n",
        "histogramprobK1.GetXaxis().SetTitle(\"Probability\")\n",
        "histogramprobK1.GetYaxis().SetTitle(\"Number of events\")\n",
        "histogramprobK1.SetTitle(\"Probability of daughter particles to be Kaons\")\n",
        "\n",
        "histogramprobK1.Draw()\n",
        "histogramprobK2.Draw('same')\n",
        "histogramprobK3.Draw('same')\n",
        "canvasprobK.Update()\n",
        "canvasprobK.Draw()\n",
        "\n",
        "#Make plots of H1/H2/H3 _ProbPi on one plot\n",
        "tree.SetName(\"tree\")\n",
        "canvasprobPi = ROOT.TCanvas(\"canvasprobPi\")\n",
        "bins = \"100\"\n",
        "\n",
        "histogramprobPi= ROOT.TH1F(\"ProbPi\",\"Probability of Pion\", int(bins), 0, 1)\n",
        "histogramprobPi2= ROOT.TH1F(\"ProbPi2\",\"Probability of Pion\", int(bins), 0, 1)\n",
        "histogramprobPi3= ROOT.TH1F(\"ProbPi3\",\"Probability of Pion\", int(bins), 0, 1)\n",
        "\n",
        "tree.Draw(\"H1_ProbPi>>ProbPi(\"+bins+\", 0, 1)\")\n",
        "tree.Draw(\"H2_ProbPi>>ProbPi2(\"+bins+\", 0, 1)\")\n",
        "tree.Draw(\"H3_ProbPi>>ProbPi3(\"+bins+\", 0, 1)\")\n",
        "\n",
        "histogramprobPi = ROOT.gDirectory.Get(\"ProbPi\")\n",
        "histogramprobPi2 = ROOT.gDirectory.Get(\"ProbPi2\")\n",
        "histogramprobPi3 = ROOT.gDirectory.Get(\"ProbPi3\")\n",
        "\n",
        "histogramprobPi.SetLineColor(2) #red = H1\n",
        "histogramprobPi2.SetLineColor(3) #green = H2\n",
        "histogramprobPi3.SetLineColor(4) #blue = H3\n",
        "\n",
        "histogramprobPi.GetXaxis().SetTitle(\"Probability\")\n",
        "histogramprobPi.GetYaxis().SetTitle(\"Number of events\")\n",
        "histogramprobPi.SetTitle(\"Probability of daughter particles to be Pions\")\n",
        "\n",
        "histogramprobPi.Draw()\n",
        "histogramprobPi2.Draw('same')\n",
        "histogramprobPi3.Draw('same')\n",
        "\n",
        "canvasprobPi.Update()\n",
        "canvasprobPi.Draw()\n",
        "\n",
        "#For all our particles, make a plot of the B_VertexChi2\n",
        "tree.SetName(\"tree\")\n",
        "canvasV = ROOT.TCanvas(\"canvasV\")\n",
        "bins = \"100\"\n",
        "\n",
        "histogramV = ROOT.TH1F(\"Vertexchi2\",\"Chi2 of the quality of the vertex\", int(bins), 0, 13)\n",
        "tree.Draw(\"B_VertexChi2>>Vertexchi2(\"+bins+\", 0, 13)\")\n",
        "histogramV = ROOT.gDirectory.Get(\"Vertexchi2\") \n",
        "\n",
        "histogramV.GetXaxis().SetTitle(\"Chi2\")\n",
        "histogramV.GetYaxis().SetTitle(\"Number of events\")\n",
        "histogramV.SetTitle(\"Plot of Vertex Chi2 of the B meson\")\n",
        "\n",
        "histogramV.Draw()\n",
        "canvasV.Update()\n",
        "canvasV.Draw()"
      ],
      "execution_count": 13,
      "outputs": [
        {
          "output_type": "display_data",
          "data": {
            "image/png": "[encoded data removed]",
            "text/plain": [
              "<IPython.core.display.Image object>"
            ]
          },
          "metadata": {}
        },
        {
          "output_type": "display_data",
          "data": {
            "image/png": "[encoded data removed]",
            "text/plain": [
              "<IPython.core.display.Image object>"
            ]
          },
          "metadata": {}
        },
        {
          "output_type": "display_data",
          "data": {
            "image/png": "[encoded data removed]",
            "text/plain": [
              "<IPython.core.display.Image object>"
            ]
          },
          "metadata": {}
        }
      ]
    },
    {
      "cell_type": "markdown",
      "metadata": {
        "id": "DWmxBkZ0cDx1"
      },
      "source": [
        "Using these plots, we can now make a preselection string. This is a text string that looks like "
      ]
    },
    {
      "cell_type": "code",
      "metadata": {
        "id": "U1IGKyZXcGJP"
      },
      "source": [
        "#This example is for each daughter particle to have a Probability of being a Pion being more than 90% and H1 to not be a muon\n",
        "#This is not a good choice of selection - you should make your own :)\n",
        "selection=(\"H1_ProbPi>0.9&H2_ProbPi>0.9&H3_ProbPi>0.9&!H1_isMuon&H2_isElectron&H3_isElephant\")"
      ],
      "execution_count": 14,
      "outputs": []
    },
    {
      "cell_type": "code",
      "metadata": {
        "id": "MxD7JMeicMu0"
      },
      "source": [
        "#To apply the selection - we can use the copytree command:\n",
        "selection=(\"!H1_isMuon&!H2_isMuon&!H3_isMuon&H1_ProbK>0.7&H2_ProbK>0.7&H3_ProbK>0.7&H1_ProbPi<0.2&H2_ProbPi<0.2&H3_ProbPi<0.2\")\n",
        "CutTree=tree.CopyTree(selection)\n",
        "tree.SetName(\"CutTree\")\n",
        "\n",
        "#So now we take our data in tree and apply selection to it (so only events which comply with those rules are kept) and put the new data in CutTree"
      ],
      "execution_count": 8,
      "outputs": []
    },
    {
      "cell_type": "code",
      "metadata": {
        "id": "hmmsoUwEcOir",
        "colab": {
          "base_uri": "https://localhost:8080/",
          "height": 506
        },
        "outputId": "c9e54965-56f9-42d9-d9f3-169dc4553cfc"
      },
      "source": [
        "#Now as a good check, we should see the effect of applying our cuts.\n",
        "#On one histogram, plot the B meson mass, from both the tree (pre-cuts) and the CutTree (post-cuts)\n",
        "\n",
        "canvasMb = ROOT.TCanvas(\"canvasMb\")\n",
        "bins = \"100\"\n",
        "\n",
        "histogramMb = ROOT.TH1F(\"Mass B meson\",\"Mass\", int(bins), 4000, 7000)\n",
        "tree.Draw(\"sqrt(((\"+E1+\"+\"+E2+\"+\"+E3+\")**2) - (\"+Pmother+\"**2))>>MassB(\"+bins+\", 4000, 7000)\")\n",
        "histogramMb = ROOT.gDirectory.Get(\"MassB\") \n",
        "\n",
        "histogramMc = ROOT.TH1F(\"Mass B meson\",\"Mass\", int(bins), 4000, 7000)\n",
        "CutTree.Draw(\"sqrt(((\"+E1+\"+\"+E2+\"+\"+E3+\")**2) - (\"+Pmother+\"**2))>>MassBc(\"+bins+\", 4000, 7000)\")\n",
        "histogramMc = ROOT.gDirectory.Get(\"MassBc\") \n",
        "\n",
        "histogramMb.SetLineColor(2) #red = pre-cuts\n",
        "histogramMc.SetLineColor(3) #green = post-cuts\n",
        "\n",
        "histogramMb.GetXaxis().SetTitle(\"Mass [MeV/c^2]\")\n",
        "histogramMb.GetYaxis().SetTitle(\"Number of events\")\n",
        "histogramMb.SetTitle(\"Mass of B meson pre and post-cuts\")\n",
        "\n",
        "histogramMb.Draw()\n",
        "histogramMc.Draw('same')\n",
        "canvasMb.Update()\n",
        "canvasMb.Draw()\n",
        "\n",
        "#What do you notice about your histogram now?"
      ],
      "execution_count": 16,
      "outputs": [
        {
          "output_type": "stream",
          "name": "stderr",
          "text": [
            "Warning in <TFile::Append>: Replacing existing TH1: Mass B meson (Potential memory leak).\n"
          ]
        },
        {
          "output_type": "display_data",
          "data": {
            "image/png": "[encoded data removed]",
            "text/plain": [
              "<IPython.core.display.Image object>"
            ]
          },
          "metadata": {}
        }
      ]
    },
    {
      "cell_type": "markdown",
      "metadata": {
        "id": "N1tResqvcMgQ"
      },
      "source": [
        "#How do we count the number of events?\n",
        "\n",
        "We now have a histogram of events that we have reconstructed as a B meson. But some of these events are caused by a co-incidence of events which would still occur if there were no B mesons actually produced. We call this the background. Background and signal are indistinguishable now as the detector cannot tell the difference and our cuts were unable to remove the events for physics reasons. We can do some statistical analysis, if we know the approximate shapes of our signal and our background. Just like a least-squares fitting we can run a fit routine to minimise the error between the fitted curve and our data. As an example, if we know our data has an exponential background and a gaussian signal:\n",
        "\n",
        "![Gaussian+Exp Background](https://twiki.cern.ch/twiki/pub/RooStats/RooStatsTutorialsJune2013/GausExpModelFit.png)\n",
        "\n",
        "Here the red line represents our signal, the blue dotted line is our background and the solid blue line is our combined curve. The graph also shows the number of signal events and the number of background events. The signal now is a tiny fraction of the total data shown in the plot.\n",
        "\n",
        "In order to do this, we need to build a fit model, around which the software can try to fit our data.\n",
        "\n",
        "We use RooFit for this, which includes:\n",
        "* Gaussian\n",
        "* Exponential\n",
        "* Chebychev\n",
        "* Crystal Ball\n",
        "* Breit-Wigner\n",
        "\n",
        "As well as several other choices.\n",
        "\n",
        "Typically exponential and Chebychev functions are used for background and Gaussian, Crystal Ball and Breit-Wigner are used for signal. We can also combine them (e.g. 1 crystal ball, 1 gaussian, 1 exponential) in various ways."
      ]
    },
    {
      "cell_type": "code",
      "metadata": {
        "id": "R_7q_HY1qhiS"
      },
      "source": [
        "#define physical measurement that we want to fit using RooRealVar\n",
        "# var = ROOT.RooRealVar =(\"Variable from Python\", \"Nickname\",Min, Max, Units)\n",
        "mass = ROOT.RooRealVar(\"M_m0\",\"Mass\",4700,5900,\"MeV/C^{2}\")\n",
        "\n",
        "#passing the rest of the variables into the model\n",
        "#For the RooRealVar the last three parameters are given, \"starting value\" and min/max values\n",
        "gaussMean = ROOT.RooRealVar(\"Mean\",\"Mean\",4800,4900,5900)\n",
        "gaussWidth = ROOT.RooRealVar(\"Width\",\"Width\",40,0,7000)\n",
        "\n",
        "#Now we have enough to make our Model for the signal:\n",
        "\n",
        "Gauss=ROOT.RooGaussian(\"Gaussian Signal\",\"Gauss\",mass,gaussMean,gaussWidth)\n",
        "Gauss_Norm= ROOT.RooRealVar(\"Gauss_Norm\",\"Signal Yield\", tree.GetEntries()/30, 0, tree.GetEntries() * 3)\n",
        "#We also need a background, so let's use a (simple) exponential:\n",
        "\n",
        "exponent=ROOT.RooRealVar(\"exponent\", \"C\", -0.02, -2, +2)\n",
        "exp_Norm= ROOT.RooRealVar(\"exp_Norm\",\"Background Yield\", tree.GetEntries()/30, 0, tree.GetEntries() * 2)\n",
        "\n",
        "#Define the  model for the background:\n",
        "\n",
        "Bkgnd=ROOT.RooExponential(\"Exponential Background\",\"Bkgnd\",mass,exponent)\n",
        "\n",
        "#Now we need to combine these two functions into a single PDF (probability density function)\n",
        "#and we need to add the normalisation factors at the end as scaling factors\n",
        "\n",
        "model=ROOT.RooAddPdf(\"Full Model\",\"model\",ROOT.RooArgList(Gauss,Bkgnd),ROOT.RooArgList(Gauss_Norm, exp_Norm) )"
      ],
      "execution_count": 17,
      "outputs": []
    },
    {
      "cell_type": "code",
      "metadata": {
        "id": "PL-qVvs-dw86"
      },
      "source": [
        "#Put our data set into a RooDataSet structure\n",
        "\n",
        "data_to_fit=ROOT.RooDataSet(\"Data Set\",\"data_to_fit\", CutTree, ROOT.RooArgSet(mass))\n",
        "\n",
        "#Then we can do the fitting:\n",
        "\n",
        "model.fitTo(data_to_fit)\n",
        "\n",
        "#if everything went well, you will see the outputs of RooFit below"
      ],
      "execution_count": null,
      "outputs": []
    },
    {
      "cell_type": "code",
      "metadata": {
        "id": "bUhgxlRGd4XO"
      },
      "source": [
        "#Now to plot it all\n",
        "c1=ROOT.TCanvas(\"c1\",\"c1\")\n",
        "frame=mass.frame()\n",
        "data_to_fit.plotOn(frame)\n",
        "model.plotOn(frame, ROOT.RooFit.Components(\"Gauss\"),ROOT.RooFit.LineColor(8),ROOT.RooFit.LineStyle(2))\n",
        "model.plotOn(frame, ROOT.RooFit.Components(\"Bkgnd\"),ROOT.RooFit.LineColor(46),ROOT.RooFit.LineStyle(2))\n",
        "model.plotOn(frame)\n",
        "frame.Draw()\n",
        "c1.Update()"
      ],
      "execution_count": null,
      "outputs": []
    },
    {
      "cell_type": "code",
      "source": [
        "#Errors\n",
        "gauss_val = Gauss_Norm.getValV()\n",
        "gauss_err = Gauss_Norm.getError()\n",
        "chi2 = frame.chiSquare()\n",
        "print(gauss_val)\n",
        "print(gauss_err)\n",
        "print(chi2)"
      ],
      "metadata": {
        "id": "ltkl3GZq2IFM"
      },
      "execution_count": null,
      "outputs": []
    },
    {
      "cell_type": "markdown",
      "metadata": {
        "id": "60b4bs1od4M_"
      },
      "source": [
        "Using this structure, you can in theory build whatever models you like!\n",
        "\n",
        "Some recommendations (but not necessary to do all):-\n",
        "\n",
        "\n",
        "\n",
        "*   Gauss+Exponential (as above)\n",
        "*   Crystal Ball + Exponential\n",
        "*   Gauss+Crystal Ball+Exponential (now you need to weigh the two signal peaks and then the total signal against total background)\n",
        "*   Gauss+Chebychev\n",
        "*   Two Crystal Balls + Exponential"
      ]
    },
    {
      "cell_type": "markdown",
      "metadata": {
        "id": "vHivSaH1dwy7"
      },
      "source": [
        "So how good was the fit, and how many events do you have?\n",
        "\n",
        "We can use the .getValV() function on our signal and background *normalisation* components, e.g. Gauss_Norm=Gauss.getValV()\n",
        "\n",
        "To find the error (on this number) we can use .getError()\n",
        "\n",
        "Neither of these measures would tell us if this was a good fit or not. Normally we use a χ2 test to do so - this is built into the image we made (so we can do frame.chiSquare() to get this data)\n",
        "\n",
        "For each model you made, print the signal and background yields (with errors) and report the χ2"
      ]
    },
    {
      "cell_type": "markdown",
      "metadata": {
        "id": "ob2HARgWoTGe"
      },
      "source": [
        "#Counting\n",
        "\n",
        "So we have now loaded our data; we have reconstructed information about the mother B meson and we have cut away any data which looks like it might not be what we are looking for. We have then plotted histograms of the mass of the B meson and used this to fit a model, a function to describe the events there. We now have to identify which of our events belong to the B<sup>+</sup> and how many of them belong to B<sup>-</sup>.\n",
        "\n",
        "To do this, should split out data into two groups (and throw away data which doesn't comply with either decay)\n",
        "\n",
        "We will be looking for the events which are\n",
        "\n",
        "\n",
        "B<sup>+</sup>->K<sup>+</sup> + K<sup>+</sup>  + K<sup>-</sup>\n",
        "\n",
        "or\n",
        "\n",
        "B<sup>-</sup>->K<sup>-</sup> + K<sup>-</sup>  + K<sup>+</sup>\n",
        "\n",
        "We can look for the number of positive and negative charges in H1, H2 and H3 (using the variable ```H1_Charge``` etc.). If we have 0 or 3 positive charges, we should throw the event away and if we have 1 it should be assigned be a B<sup>-</sup>, with 2 it should be a B<sup>+</sup>"
      ]
    },
    {
      "cell_type": "markdown",
      "metadata": {
        "id": "r8VB5uN1obc4"
      },
      "source": [
        "Once we have defined if it's a B<sup>+</sup> or a B <sup>-</sup>, we should go ahead and ensure the pre-selection is applied and then plot our B mass, and fit the model to find the yield.\n",
        "\n",
        "We can then calculate the assymetry from this equation:\n",
        "\n",
        "$A=\\frac{(N^{B-}-N^{B+})}{(N^{B-}+N^{B+})}$\n",
        "\n",
        "Where N<sup>B+/- </sup> is the number of events found from the fitted yield of the signal from each data set.\n",
        "\n",
        "The uncertainty on this result is given by:\n",
        "\n",
        "$\\sigma_A=\\sqrt\\frac{1-A^2}{N^{B-}+N^{B+}}$\n",
        "\n",
        "Calculate these two values for your data and print them below:"
      ]
    },
    {
      "cell_type": "code",
      "source": [
        "#Here do your calculation of the final result\n",
        "#Create selections to determine B+ or B-\n",
        "Bp_selection=(\"H1_Charge+H2_Charge+H3_Charge==1\")\n",
        "Bm_selection=(\"H1_Charge+H2_Charge+H3_Charge==-1\")\n",
        "\n",
        "#Then create trees \n",
        "Bp_Tree = CutTree.CopyTree(Bp_selection)\n",
        "Bm_Tree = CutTree.CopyTree(Bm_selection)\n",
        "\n",
        "#Plot B mass \n",
        "canvas1 = ROOT.TCanvas(\"canvas1\")\n",
        "bins = \"100\"\n",
        "\n",
        "Bp_Tree.Draw(\"sqrt(((\"+E1+\"+\"+E2+\"+\"+E3+\")**2) - (\"+Pmother+\"**2))>>M_Bp(\"+bins+\", 4000, 7000)\")\n",
        "Bm_Tree.Draw(\"sqrt(((\"+E1+\"+\"+E2+\"+\"+E3+\")**2) - (\"+Pmother+\"**2))>>M_Bm(\"+bins+\",4000,7000)\")\n",
        "\n",
        "histogramP = ROOT.gDirectory.Get('M_Bp')\n",
        "histogramM = ROOT.gDirectory.Get('M_Bp')\n",
        "\n",
        "histogramP.SetLineColor(2)\n",
        "histogramM.SetLineColor(3)\n",
        "\n",
        "histogramP.GetXaxis().SetTitle(\"Mass [MeV/c^2]\")\n",
        "histogramP.GetYaxis().SetTitle(\"Number of events\")\n",
        "histogramP.SetTitle(\"Mass\")\n",
        "\n",
        "histogramP.Draw()\n",
        "histogramM.Draw('same')\n",
        "\n",
        "canvas1.Draw()"
      ],
      "metadata": {
        "colab": {
          "base_uri": "https://localhost:8080/",
          "height": 489
        },
        "id": "zTLwlrhyKt2I",
        "outputId": "863024c2-df5d-427d-bb02-fb4a1dba3108"
      },
      "execution_count": 9,
      "outputs": [
        {
          "output_type": "display_data",
          "data": {
            "image/png": "[encoded data removed]",
            "text/plain": [
              "<IPython.core.display.Image object>"
            ]
          },
          "metadata": {}
        }
      ]
    },
    {
      "cell_type": "code",
      "metadata": {
        "id": "UiPNe2iuobSK",
        "colab": {
          "base_uri": "https://localhost:8080/"
        },
        "outputId": "7aedceec-79d1-4180-825b-c2ddf7bdb2c1"
      },
      "source": [
        "#we want to plot the mass as explained earlier \n",
        "mass = ROOT.RooRealVar(\"sqrt(((\"+E1+\"+\"+E2+\"+\"+E3+\")**2) - (\"+Pmother+\"**2))\",\"Mass\",5000,5900,\"MeV/C^{2}\")\n",
        "\n",
        "gaussMean = ROOT.RooRealVar(\"Mean\",\"Mean\",4800,4900,5900)\n",
        "gaussWidth = ROOT.RooRealVar(\"Width\",\"Width\",40,0,7000)\n",
        "\n",
        "Gauss=ROOT.RooGaussian(\"Gaussian Signal\",\"Gauss\",mass,gaussMean,gaussWidth)\n",
        "Gauss_Norm_Bp= ROOT.RooRealVar(\"Gauss_Norm_Bp\",\"Signal Yield\", Bp_Tree.GetEntries()/30, 0, Bp_Tree.GetEntries() * 3)\n",
        "Gauss_Norm_Bm= ROOT.RooRealVar(\"Gauss_Norm_Bm\",\"Signal Yield\", Bm_Tree.GetEntries()/30, 0, Bm_Tree.GetEntries() * 3)\n",
        "\n",
        "exponent=ROOT.RooRealVar(\"exponent\", \"C\", -0.02, -2, +2)\n",
        "exp_Norm_Bp= ROOT.RooRealVar(\"exp_Norm_Bp\",\"Background Yield\", Bp_Tree.GetEntries()/30, 0, Bp_Tree.GetEntries() * 2)\n",
        "exp_Norm_Bm= ROOT.RooRealVar(\"exp_Norm_Bm\",\"Background Yield\", Bm_Tree.GetEntries()/30, 0, Bm_Tree.GetEntries() * 2)\n",
        "\n",
        "Bkgnd=ROOT.RooExponential(\"Exponential Background\",\"Bkgnd\",mass,exponent)\n",
        "\n",
        "model_Bp=ROOT.RooAddPdf(\"Full Model\",\"model\",ROOT.RooArgList(Gauss,Bkgnd),ROOT.RooArgList(Gauss_Norm_Bp, exp_Norm_Bp) )\n",
        "model_Bm=ROOT.RooAddPdf(\"Full Model\",\"model\",ROOT.RooArgList(Gauss,Bkgnd),ROOT.RooArgList(Gauss_Norm_Bm, exp_Norm_Bm) )\n",
        "\n",
        "data_to_fit_Bp=ROOT.RooDataSet(\"Data Set\",\"data_to_fit\", Bp_Tree, ROOT.RooArgSet(mass))\n",
        "data_to_fit_Bm=ROOT.RooDataSet(\"Data Set\",\"data_to_fit\", Bm_Tree, ROOT.RooArgSet(mass))\n",
        "\n",
        "#Then we can do the fitting:\n",
        "\n",
        "model_Bp.fitTo(data_to_fit_Bp)\n",
        "model_Bm.fitTo(data_to_fit_Bm)\n",
        "\n",
        "#if everything went well, you will see the outputs of RooFit below\n",
        "#Now to plot it all\n",
        "c1=ROOT.TCanvas(\"c1\",\"c1\")\n",
        "frame_Bp=mass.frame()\n",
        "data_to_fit_Bp.plotOn(frame_Bp)\n",
        "model_Bp.plotOn(frame_Bp, ROOT.RooFit.Components(\"Gaussian Signal\"),ROOT.RooFit.LineColor(8),ROOT.RooFit.LineStyle(2))\n",
        "model_Bp.plotOn(frame_Bp, ROOT.RooFit.Components(\"Exponential Background\"),ROOT.RooFit.LineColor(46),ROOT.RooFit.LineStyle(2))\n",
        "model_Bp.plotOn(frame_Bp)\n",
        "\n",
        "frame_Bp.Draw()\n",
        "c1.Update()\n",
        "\n",
        "c2=ROOT.TCanvas(\"c2\",\"c2\")\n",
        "frame_Bm=mass.frame()\n",
        "data_to_fit_Bm.plotOn(frame_Bm)\n",
        "model_Bm.plotOn(frame_Bm, ROOT.RooFit.Components(\"Gaussian Signal\"),ROOT.RooFit.LineColor(8),ROOT.RooFit.LineStyle(2))\n",
        "model_Bm.plotOn(frame_Bm, ROOT.RooFit.Components(\"Exponential Background\"),ROOT.RooFit.LineColor(46),ROOT.RooFit.LineStyle(2))\n",
        "model_Bm.plotOn(frame_Bm)\n",
        "\n",
        "frame_Bm.Draw()\n",
        "c2.Update()"
      ],
      "execution_count": 10,
      "outputs": [
        {
          "output_type": "stream",
          "name": "stdout",
          "text": [
            "[#1] INFO:Minization -- p.d.f. provides expected number of events, including extended term in likelihood.\n",
            "[#1] INFO:Minization -- RooMinimizer::optimizeConst: activating const optimization\n",
            "[#1] INFO:Minization --  The following expressions will be evaluated in cache-and-track mode: (Gaussian Signal,Exponential Background)\n",
            " **********\n",
            " **    1 **SET PRINT           1\n",
            " **********\n",
            " **********\n",
            " **    2 **SET NOGRAD\n",
            " **********\n",
            " PARAMETER DEFINITIONS:\n",
            "    NO.   NAME         VALUE      STEP SIZE      LIMITS\n",
            "     1 Gauss_Norm_Bp   5.37000e+01  2.68500e+01    0.00000e+00  4.83300e+03\n",
            "     2 Mean         4.90000e+03  1.00000e+02    4.90000e+03  5.90000e+03\n",
            " MINUIT WARNING IN PARAM DEF\n",
            " ============== STARTING VALUE IS AT LIMIT.\n",
            " MINUIT WARNING IN PARAMETR\n",
            " ============== VARIABLE2 IS AT ITS LOWER ALLOWED LIMIT.\n",
            " MINUIT WARNING IN PARAMETR\n",
            " ============== VARIABLE2 BROUGHT BACK INSIDE LIMITS.\n",
            "     3 Width        4.00000e+01  2.00000e+01    0.00000e+00  7.00000e+03\n",
            "     4 exp_Norm_Bp   5.37000e+01  2.68500e+01    0.00000e+00  3.22200e+03\n",
            "     5 exponent    -2.00000e-02  4.00000e-01   -2.00000e+00  2.00000e+00\n",
            " **********\n",
            " **    3 **SET ERR         0.5\n",
            " **********\n",
            " **********\n",
            " **    4 **SET PRINT           1\n",
            " **********\n",
            " **********\n",
            " **    5 **SET STR           1\n",
            " **********\n",
            " NOW USING STRATEGY  1: TRY TO BALANCE SPEED AGAINST RELIABILITY\n",
            " **********\n",
            " **    6 **MIGRAD        2500           1\n",
            " **********\n",
            " FIRST CALL TO USER FUNCTION AT NEW START POINT, WITH IFLAG=4.\n",
            " MINUIT WARNING IN MIGrad    \n",
            " ============== VARIABLE2 IS AT ITS LOWER ALLOWED LIMIT.\n",
            " START MIGRAD MINIMIZATION.  STRATEGY  1.  CONVERGENCE WHEN EDM .LT. 1.00e-03\n",
            " FCN=14491.4 FROM MIGRAD    STATUS=INITIATE       22 CALLS          23 TOTAL\n",
            "                     EDM= unknown      STRATEGY= 1      NO ERROR MATRIX       \n",
            "  EXT PARAMETER               CURRENT GUESS       STEP         FIRST   \n",
            "  NO.   NAME      VALUE            ERROR          SIZE      DERIVATIVE \n",
            "   1  Gauss_Norm_Bp   5.37000e+01   2.68500e+01   5.48560e-02   5.06605e+02\n",
            "   2  Mean         4.90000e+03   1.00000e+02   3.20776e-01   0.00000e+00\n",
            "   3  Width        4.00000e+01   2.00000e+01   3.92370e-02   0.00000e+00\n",
            "   4  exp_Norm_Bp   5.37000e+01   2.68500e+01   6.73659e-02  -1.19619e+04\n",
            "   5  exponent    -2.00000e-02   4.00000e-01   2.01369e-01  -1.28873e+06\n",
            "                               ERR DEF= 0.5\n",
            "[#0] WARNING:Minization -- RooMinimizerFcn: Minimized function has error status.\n",
            "Returning maximum FCN so far (30392.8) to force MIGRAD to back out of this region. Error log follows\n",
            "Parameter values: Gauss_Norm_Bp=0.0123549, Mean=4900, Width=40, exp_Norm_Bp=196.211, exponent=0.14001\n",
            "RooAddPdf::Full Model[ Gauss_Norm_Bp * Gaussian Signal + exp_Norm_Bp * Exponential Background ]\n",
            "     p.d.f value is Not-a-Number (-nan), forcing value to zero @ !refCoefNorm=(), !pdfs=(Gaussian Signal = 8.82556e-42/0.622655,Exponential Background = inf/inf), !coefficients=(Gauss_Norm_Bp = 0.0123549,exp_Norm_Bp = 196.211)\n",
            "     getLogVal() top-level p.d.f evaluates to zero @ !refCoefNorm=(), !pdfs=(Gaussian Signal = 8.82556e-42/0.622655,Exponential Background = inf/inf), !coefficients=(Gauss_Norm_Bp = 0.0123549,exp_Norm_Bp = 196.211)\n",
            "     p.d.f value is Not-a-Number (-nan), forcing value to zero @ !refCoefNorm=(), !pdfs=(Gaussian Signal = 8.82556e-42/0.622655,Exponential Background = inf/inf), !coefficients=(Gauss_Norm_Bp = 0.0123549,exp_Norm_Bp = 196.211)\n",
            "     getLogVal() top-level p.d.f evaluates to zero @ !refCoefNorm=(), !pdfs=(Gaussian Signal = 8.82556e-42/0.622655,Exponential Background = inf/inf), !coefficients=(Gauss_Norm_Bp = 0.0123549,exp_Norm_Bp = 196.211)\n",
            "     p.d.f value is Not-a-Number (-nan), forcing value to zero @ !refCoefNorm=(), !pdfs=(Gaussian Signal = 8.82556e-42/0.622655,Exponential Background = inf/inf), !coefficients=(Gauss_Norm_Bp = 0.0123549,exp_Norm_Bp = 196.211)\n",
            "     getLogVal() top-level p.d.f evaluates to zero @ !refCoefNorm=(), !pdfs=(Gaussian Signal = 8.82556e-42/0.622655,Exponential Background = inf/inf), !coefficients=(Gauss_Norm_Bp = 0.0123549,exp_Norm_Bp = 196.211)\n",
            "     p.d.f value is Not-a-Number (-nan), forcing value to zero @ !refCoefNorm=(), !pdfs=(Gaussian Signal = 8.82556e-42/0.622655,Exponential Background = inf/inf), !coefficients=(Gauss_Norm_Bp = 0.0123549,exp_Norm_Bp = 196.211)\n",
            "     getLogVal() top-level p.d.f evaluates to zero @ !refCoefNorm=(), !pdfs=(Gaussian Signal = 8.82556e-42/0.622655,Exponential Background = inf/inf), !coefficients=(Gauss_Norm_Bp = 0.0123549,exp_Norm_Bp = 196.211)\n",
            "     p.d.f value is Not-a-Number (-nan), forcing value to zero @ !refCoefNorm=(), !pdfs=(Gaussian Signal = 8.82556e-42/0.622655,Exponential Background = inf/inf), !coefficients=(Gauss_Norm_Bp = 0.0123549,exp_Norm_Bp = 196.211)\n",
            "     getLogVal() top-level p.d.f evaluates to zero @ !refCoefNorm=(), !pdfs=(Gaussian Signal = 8.82556e-42/0.622655,Exponential Background = inf/inf), !coefficients=(Gauss_Norm_Bp = 0.0123549,exp_Norm_Bp = 196.211)\n",
            "     p.d.f value is Not-a-Number (-nan), forcing value to zero @ !refCoefNorm=(), !pdfs=(Gaussian Signal = 8.82556e-42/0.622655,Exponential Background = inf/inf), !coefficients=(Gauss_Norm_Bp = 0.0123549,exp_Norm_Bp = 196.211)\n",
            "     getLogVal() top-level p.d.f evaluates to zero @ !refCoefNorm=(), !pdfs=(Gaussian Signal = 8.82556e-42/0.622655,Exponential Background = inf/inf), !coefficients=(Gauss_Norm_Bp = 0.0123549,exp_Norm_Bp = 196.211)\n",
            "    ... (remaining 2038 messages suppressed)\n",
            "RooNLLVar::nll_Full Model_Data Set[ paramSet=(Gauss_Norm_Bp,Mean,Width,exp_Norm_Bp,exponent) ]\n",
            "     function value is NAN @ paramSet=(Gauss_Norm_Bp = 0.0123549,Mean = 4900,Width = 40,exp_Norm_Bp = 196.211,exponent = 0.14001)\n",
            "\n",
            "[#0] WARNING:Minization -- RooMinimizerFcn: Minimized function has error status.\n",
            "Returning maximum FCN so far (33437.5) to force MIGRAD to back out of this region. Error log follows\n",
            "Parameter values: Gauss_Norm_Bp=38.2489, Mean=4900, Width=11.001, exp_Norm_Bp=70.007, exponent=0.00468422\n",
            "RooGaussian::Gaussian Signal[ x=sqrt((((sqrt((493.677 **2) + ((H1_PX**2)+(H1_PY**2)+(H1_PZ**2))))+(sqrt((493.677 **2) + ((H2_PX**2)+(H2_PY**2)+(H2_PZ**2))))+(sqrt((493.677 **2) + ((H3_PX**2)+(H3_PY**2)+(H3_PZ**2)))))**2) - ((sqrt(((H1_PX+H2_PX+H3_PX)**2)+((H1_PY+H2_PY+H3_PY)**2)+((H1_PZ+H2_PZ+H3_PZ)**2)))**2)) mean=Mean sigma=Width ]\n",
            "     p.d.f normalization integral is zero or negative @ x=sqrt((((sqrt((493.677 **2) + ((H1_PX**2)+(H1_PY**2)+(H1_PZ**2))))+(sqrt((493.677 **2) + ((H2_PX**2)+(H2_PY**2)+(H2_PZ**2))))+(sqrt((493.677 **2) + ((H3_PX**2)+(H3_PY**2)+(H3_PZ**2)))))**2) - ((sqrt(((H1_PX+H2_PX+H3_PX)**2)+((H1_PY+H2_PY+H3_PY)**2)+((H1_PZ+H2_PZ+H3_PZ)**2)))**2))=5450, mean=Mean=4900, sigma=Width=11.001\n",
            "     p.d.f normalization integral is zero or negative @ x=sqrt((((sqrt((493.677 **2) + ((H1_PX**2)+(H1_PY**2)+(H1_PZ**2))))+(sqrt((493.677 **2) + ((H2_PX**2)+(H2_PY**2)+(H2_PZ**2))))+(sqrt((493.677 **2) + ((H3_PX**2)+(H3_PY**2)+(H3_PZ**2)))))**2) - ((sqrt(((H1_PX+H2_PX+H3_PX)**2)+((H1_PY+H2_PY+H3_PY)**2)+((H1_PZ+H2_PZ+H3_PZ)**2)))**2))=5450, mean=Mean=4900, sigma=Width=11.001\n",
            "     p.d.f normalization integral is zero or negative @ x=sqrt((((sqrt((493.677 **2) + ((H1_PX**2)+(H1_PY**2)+(H1_PZ**2))))+(sqrt((493.677 **2) + ((H2_PX**2)+(H2_PY**2)+(H2_PZ**2))))+(sqrt((493.677 **2) + ((H3_PX**2)+(H3_PY**2)+(H3_PZ**2)))))**2) - ((sqrt(((H1_PX+H2_PX+H3_PX)**2)+((H1_PY+H2_PY+H3_PY)**2)+((H1_PZ+H2_PZ+H3_PZ)**2)))**2))=5450, mean=Mean=4900, sigma=Width=11.001\n",
            "     p.d.f normalization integral is zero or negative @ x=sqrt((((sqrt((493.677 **2) + ((H1_PX**2)+(H1_PY**2)+(H1_PZ**2))))+(sqrt((493.677 **2) + ((H2_PX**2)+(H2_PY**2)+(H2_PZ**2))))+(sqrt((493.677 **2) + ((H3_PX**2)+(H3_PY**2)+(H3_PZ**2)))))**2) - ((sqrt(((H1_PX+H2_PX+H3_PX)**2)+((H1_PY+H2_PY+H3_PY)**2)+((H1_PZ+H2_PZ+H3_PZ)**2)))**2))=5450, mean=Mean=4900, sigma=Width=11.001\n",
            "     p.d.f normalization integral is zero or negative @ x=sqrt((((sqrt((493.677 **2) + ((H1_PX**2)+(H1_PY**2)+(H1_PZ**2))))+(sqrt((493.677 **2) + ((H2_PX**2)+(H2_PY**2)+(H2_PZ**2))))+(sqrt((493.677 **2) + ((H3_PX**2)+(H3_PY**2)+(H3_PZ**2)))))**2) - ((sqrt(((H1_PX+H2_PX+H3_PX)**2)+((H1_PY+H2_PY+H3_PY)**2)+((H1_PZ+H2_PZ+H3_PZ)**2)))**2))=5450, mean=Mean=4900, sigma=Width=11.001\n",
            "     p.d.f normalization integral is zero or negative @ x=sqrt((((sqrt((493.677 **2) + ((H1_PX**2)+(H1_PY**2)+(H1_PZ**2))))+(sqrt((493.677 **2) + ((H2_PX**2)+(H2_PY**2)+(H2_PZ**2))))+(sqrt((493.677 **2) + ((H3_PX**2)+(H3_PY**2)+(H3_PZ**2)))))**2) - ((sqrt(((H1_PX+H2_PX+H3_PX)**2)+((H1_PY+H2_PY+H3_PY)**2)+((H1_PZ+H2_PZ+H3_PZ)**2)))**2))=5450, mean=Mean=4900, sigma=Width=11.001\n",
            "     p.d.f normalization integral is zero or negative @ x=sqrt((((sqrt((493.677 **2) + ((H1_PX**2)+(H1_PY**2)+(H1_PZ**2))))+(sqrt((493.677 **2) + ((H2_PX**2)+(H2_PY**2)+(H2_PZ**2))))+(sqrt((493.677 **2) + ((H3_PX**2)+(H3_PY**2)+(H3_PZ**2)))))**2) - ((sqrt(((H1_PX+H2_PX+H3_PX)**2)+((H1_PY+H2_PY+H3_PY)**2)+((H1_PZ+H2_PZ+H3_PZ)**2)))**2))=5450, mean=Mean=4900, sigma=Width=11.001\n",
            "     p.d.f normalization integral is zero or negative @ x=sqrt((((sqrt((493.677 **2) + ((H1_PX**2)+(H1_PY**2)+(H1_PZ**2))))+(sqrt((493.677 **2) + ((H2_PX**2)+(H2_PY**2)+(H2_PZ**2))))+(sqrt((493.677 **2) + ((H3_PX**2)+(H3_PY**2)+(H3_PZ**2)))))**2) - ((sqrt(((H1_PX+H2_PX+H3_PX)**2)+((H1_PY+H2_PY+H3_PY)**2)+((H1_PZ+H2_PZ+H3_PZ)**2)))**2))=5450, mean=Mean=4900, sigma=Width=11.001\n",
            "     p.d.f normalization integral is zero or negative @ x=sqrt((((sqrt((493.677 **2) + ((H1_PX**2)+(H1_PY**2)+(H1_PZ**2))))+(sqrt((493.677 **2) + ((H2_PX**2)+(H2_PY**2)+(H2_PZ**2))))+(sqrt((493.677 **2) + ((H3_PX**2)+(H3_PY**2)+(H3_PZ**2)))))**2) - ((sqrt(((H1_PX+H2_PX+H3_PX)**2)+((H1_PY+H2_PY+H3_PY)**2)+((H1_PZ+H2_PZ+H3_PZ)**2)))**2))=5450, mean=Mean=4900, sigma=Width=11.001\n",
            "     p.d.f normalization integral is zero or negative @ x=sqrt((((sqrt((493.677 **2) + ((H1_PX**2)+(H1_PY**2)+(H1_PZ**2))))+(sqrt((493.677 **2) + ((H2_PX**2)+(H2_PY**2)+(H2_PZ**2))))+(sqrt((493.677 **2) + ((H3_PX**2)+(H3_PY**2)+(H3_PZ**2)))))**2) - ((sqrt(((H1_PX+H2_PX+H3_PX)**2)+((H1_PY+H2_PY+H3_PY)**2)+((H1_PZ+H2_PZ+H3_PZ)**2)))**2))=5450, mean=Mean=4900, sigma=Width=11.001\n",
            "     p.d.f normalization integral is zero or negative @ x=sqrt((((sqrt((493.677 **2) + ((H1_PX**2)+(H1_PY**2)+(H1_PZ**2))))+(sqrt((493.677 **2) + ((H2_PX**2)+(H2_PY**2)+(H2_PZ**2))))+(sqrt((493.677 **2) + ((H3_PX**2)+(H3_PY**2)+(H3_PZ**2)))))**2) - ((sqrt(((H1_PX+H2_PX+H3_PX)**2)+((H1_PY+H2_PY+H3_PY)**2)+((H1_PZ+H2_PZ+H3_PZ)**2)))**2))=5450, mean=Mean=4900, sigma=Width=11.001\n",
            "     p.d.f normalization integral is zero or negative @ x=sqrt((((sqrt((493.677 **2) + ((H1_PX**2)+(H1_PY**2)+(H1_PZ**2))))+(sqrt((493.677 **2) + ((H2_PX**2)+(H2_PY**2)+(H2_PZ**2))))+(sqrt((493.677 **2) + ((H3_PX**2)+(H3_PY**2)+(H3_PZ**2)))))**2) - ((sqrt(((H1_PX+H2_PX+H3_PX)**2)+((H1_PY+H2_PY+H3_PY)**2)+((H1_PZ+H2_PZ+H3_PZ)**2)))**2))=5450, mean=Mean=4900, sigma=Width=11.001\n",
            "    ... (remaining 1601 messages suppressed)\n",
            "\n",
            "[#0] WARNING:Minization -- RooMinimizerFcn: Minimized function has error status.\n",
            "Returning maximum FCN so far (33437.5) to force MIGRAD to back out of this region. Error log follows\n",
            "Parameter values: Gauss_Norm_Bp=38.2489, Mean=4900, Width=11.001, exp_Norm_Bp=70.007, exponent=0.00468422\n",
            "RooGaussian::Gaussian Signal[ x=sqrt((((sqrt((493.677 **2) + ((H1_PX**2)+(H1_PY**2)+(H1_PZ**2))))+(sqrt((493.677 **2) + ((H2_PX**2)+(H2_PY**2)+(H2_PZ**2))))+(sqrt((493.677 **2) + ((H3_PX**2)+(H3_PY**2)+(H3_PZ**2)))))**2) - ((sqrt(((H1_PX+H2_PX+H3_PX)**2)+((H1_PY+H2_PY+H3_PY)**2)+((H1_PZ+H2_PZ+H3_PZ)**2)))**2)) mean=Mean sigma=Width ]\n",
            "     p.d.f normalization integral is zero or negative @ x=sqrt((((sqrt((493.677 **2) + ((H1_PX**2)+(H1_PY**2)+(H1_PZ**2))))+(sqrt((493.677 **2) + ((H2_PX**2)+(H2_PY**2)+(H2_PZ**2))))+(sqrt((493.677 **2) + ((H3_PX**2)+(H3_PY**2)+(H3_PZ**2)))))**2) - ((sqrt(((H1_PX+H2_PX+H3_PX)**2)+((H1_PY+H2_PY+H3_PY)**2)+((H1_PZ+H2_PZ+H3_PZ)**2)))**2))=5450, mean=Mean=4900, sigma=Width=11.001\n",
            "     p.d.f normalization integral is zero or negative @ x=sqrt((((sqrt((493.677 **2) + ((H1_PX**2)+(H1_PY**2)+(H1_PZ**2))))+(sqrt((493.677 **2) + ((H2_PX**2)+(H2_PY**2)+(H2_PZ**2))))+(sqrt((493.677 **2) + ((H3_PX**2)+(H3_PY**2)+(H3_PZ**2)))))**2) - ((sqrt(((H1_PX+H2_PX+H3_PX)**2)+((H1_PY+H2_PY+H3_PY)**2)+((H1_PZ+H2_PZ+H3_PZ)**2)))**2))=5450, mean=Mean=4900, sigma=Width=11.001\n",
            "     p.d.f normalization integral is zero or negative @ x=sqrt((((sqrt((493.677 **2) + ((H1_PX**2)+(H1_PY**2)+(H1_PZ**2))))+(sqrt((493.677 **2) + ((H2_PX**2)+(H2_PY**2)+(H2_PZ**2))))+(sqrt((493.677 **2) + ((H3_PX**2)+(H3_PY**2)+(H3_PZ**2)))))**2) - ((sqrt(((H1_PX+H2_PX+H3_PX)**2)+((H1_PY+H2_PY+H3_PY)**2)+((H1_PZ+H2_PZ+H3_PZ)**2)))**2))=5450, mean=Mean=4900, sigma=Width=11.001\n",
            "     p.d.f normalization integral is zero or negative @ x=sqrt((((sqrt((493.677 **2) + ((H1_PX**2)+(H1_PY**2)+(H1_PZ**2))))+(sqrt((493.677 **2) + ((H2_PX**2)+(H2_PY**2)+(H2_PZ**2))))+(sqrt((493.677 **2) + ((H3_PX**2)+(H3_PY**2)+(H3_PZ**2)))))**2) - ((sqrt(((H1_PX+H2_PX+H3_PX)**2)+((H1_PY+H2_PY+H3_PY)**2)+((H1_PZ+H2_PZ+H3_PZ)**2)))**2))=5450, mean=Mean=4900, sigma=Width=11.001\n",
            "     p.d.f normalization integral is zero or negative @ x=sqrt((((sqrt((493.677 **2) + ((H1_PX**2)+(H1_PY**2)+(H1_PZ**2))))+(sqrt((493.677 **2) + ((H2_PX**2)+(H2_PY**2)+(H2_PZ**2))))+(sqrt((493.677 **2) + ((H3_PX**2)+(H3_PY**2)+(H3_PZ**2)))))**2) - ((sqrt(((H1_PX+H2_PX+H3_PX)**2)+((H1_PY+H2_PY+H3_PY)**2)+((H1_PZ+H2_PZ+H3_PZ)**2)))**2))=5450, mean=Mean=4900, sigma=Width=11.001\n",
            "     p.d.f normalization integral is zero or negative @ x=sqrt((((sqrt((493.677 **2) + ((H1_PX**2)+(H1_PY**2)+(H1_PZ**2))))+(sqrt((493.677 **2) + ((H2_PX**2)+(H2_PY**2)+(H2_PZ**2))))+(sqrt((493.677 **2) + ((H3_PX**2)+(H3_PY**2)+(H3_PZ**2)))))**2) - ((sqrt(((H1_PX+H2_PX+H3_PX)**2)+((H1_PY+H2_PY+H3_PY)**2)+((H1_PZ+H2_PZ+H3_PZ)**2)))**2))=5450, mean=Mean=4900, sigma=Width=11.001\n",
            "     p.d.f normalization integral is zero or negative @ x=sqrt((((sqrt((493.677 **2) + ((H1_PX**2)+(H1_PY**2)+(H1_PZ**2))))+(sqrt((493.677 **2) + ((H2_PX**2)+(H2_PY**2)+(H2_PZ**2))))+(sqrt((493.677 **2) + ((H3_PX**2)+(H3_PY**2)+(H3_PZ**2)))))**2) - ((sqrt(((H1_PX+H2_PX+H3_PX)**2)+((H1_PY+H2_PY+H3_PY)**2)+((H1_PZ+H2_PZ+H3_PZ)**2)))**2))=5450, mean=Mean=4900, sigma=Width=11.001\n",
            "     p.d.f normalization integral is zero or negative @ x=sqrt((((sqrt((493.677 **2) + ((H1_PX**2)+(H1_PY**2)+(H1_PZ**2))))+(sqrt((493.677 **2) + ((H2_PX**2)+(H2_PY**2)+(H2_PZ**2))))+(sqrt((493.677 **2) + ((H3_PX**2)+(H3_PY**2)+(H3_PZ**2)))))**2) - ((sqrt(((H1_PX+H2_PX+H3_PX)**2)+((H1_PY+H2_PY+H3_PY)**2)+((H1_PZ+H2_PZ+H3_PZ)**2)))**2))=5450, mean=Mean=4900, sigma=Width=11.001\n",
            "     p.d.f normalization integral is zero or negative @ x=sqrt((((sqrt((493.677 **2) + ((H1_PX**2)+(H1_PY**2)+(H1_PZ**2))))+(sqrt((493.677 **2) + ((H2_PX**2)+(H2_PY**2)+(H2_PZ**2))))+(sqrt((493.677 **2) + ((H3_PX**2)+(H3_PY**2)+(H3_PZ**2)))))**2) - ((sqrt(((H1_PX+H2_PX+H3_PX)**2)+((H1_PY+H2_PY+H3_PY)**2)+((H1_PZ+H2_PZ+H3_PZ)**2)))**2))=5450, mean=Mean=4900, sigma=Width=11.001\n",
            "     p.d.f normalization integral is zero or negative @ x=sqrt((((sqrt((493.677 **2) + ((H1_PX**2)+(H1_PY**2)+(H1_PZ**2))))+(sqrt((493.677 **2) + ((H2_PX**2)+(H2_PY**2)+(H2_PZ**2))))+(sqrt((493.677 **2) + ((H3_PX**2)+(H3_PY**2)+(H3_PZ**2)))))**2) - ((sqrt(((H1_PX+H2_PX+H3_PX)**2)+((H1_PY+H2_PY+H3_PY)**2)+((H1_PZ+H2_PZ+H3_PZ)**2)))**2))=5450, mean=Mean=4900, sigma=Width=11.001\n",
            "     p.d.f normalization integral is zero or negative @ x=sqrt((((sqrt((493.677 **2) + ((H1_PX**2)+(H1_PY**2)+(H1_PZ**2))))+(sqrt((493.677 **2) + ((H2_PX**2)+(H2_PY**2)+(H2_PZ**2))))+(sqrt((493.677 **2) + ((H3_PX**2)+(H3_PY**2)+(H3_PZ**2)))))**2) - ((sqrt(((H1_PX+H2_PX+H3_PX)**2)+((H1_PY+H2_PY+H3_PY)**2)+((H1_PZ+H2_PZ+H3_PZ)**2)))**2))=5450, mean=Mean=4900, sigma=Width=11.001\n",
            "     p.d.f normalization integral is zero or negative @ x=sqrt((((sqrt((493.677 **2) + ((H1_PX**2)+(H1_PY**2)+(H1_PZ**2))))+(sqrt((493.677 **2) + ((H2_PX**2)+(H2_PY**2)+(H2_PZ**2))))+(sqrt((493.677 **2) + ((H3_PX**2)+(H3_PY**2)+(H3_PZ**2)))))**2) - ((sqrt(((H1_PX+H2_PX+H3_PX)**2)+((H1_PY+H2_PY+H3_PY)**2)+((H1_PZ+H2_PZ+H3_PZ)**2)))**2))=5450, mean=Mean=4900, sigma=Width=11.001\n",
            "    ... (remaining 1601 messages suppressed)\n",
            "\n",
            "[#0] WARNING:Minization -- RooMinimizerFcn: Minimized function has error status.\n",
            "Returning maximum FCN so far (33437.5) to force MIGRAD to back out of this region. Error log follows\n",
            "Parameter values: Gauss_Norm_Bp=0.700206, Mean=4900, Width=6854.28, exp_Norm_Bp=214.583, exponent=0.155558\n",
            "RooAddPdf::Full Model[ Gauss_Norm_Bp * Gaussian Signal + exp_Norm_Bp * Exponential Background ]\n",
            "     p.d.f value is Not-a-Number (-nan), forcing value to zero @ !refCoefNorm=(), !pdfs=(Gaussian Signal = 0.996786/896.467,Exponential Background = inf/-nan), !coefficients=(Gauss_Norm_Bp = 0.700206,exp_Norm_Bp = 214.583)\n",
            "     getLogVal() top-level p.d.f evaluates to zero @ !refCoefNorm=(), !pdfs=(Gaussian Signal = 0.996786/896.467,Exponential Background = inf/-nan), !coefficients=(Gauss_Norm_Bp = 0.700206,exp_Norm_Bp = 214.583)\n",
            "     p.d.f value is Not-a-Number (-nan), forcing value to zero @ !refCoefNorm=(), !pdfs=(Gaussian Signal = 0.996786/896.467,Exponential Background = inf/-nan), !coefficients=(Gauss_Norm_Bp = 0.700206,exp_Norm_Bp = 214.583)\n",
            "     getLogVal() top-level p.d.f evaluates to zero @ !refCoefNorm=(), !pdfs=(Gaussian Signal = 0.996786/896.467,Exponential Background = inf/-nan), !coefficients=(Gauss_Norm_Bp = 0.700206,exp_Norm_Bp = 214.583)\n",
            "     p.d.f value is Not-a-Number (-nan), forcing value to zero @ !refCoefNorm=(), !pdfs=(Gaussian Signal = 0.996786/896.467,Exponential Background = inf/-nan), !coefficients=(Gauss_Norm_Bp = 0.700206,exp_Norm_Bp = 214.583)\n",
            "     getLogVal() top-level p.d.f evaluates to zero @ !refCoefNorm=(), !pdfs=(Gaussian Signal = 0.996786/896.467,Exponential Background = inf/-nan), !coefficients=(Gauss_Norm_Bp = 0.700206,exp_Norm_Bp = 214.583)\n",
            "     p.d.f value is Not-a-Number (-nan), forcing value to zero @ !refCoefNorm=(), !pdfs=(Gaussian Signal = 0.996786/896.467,Exponential Background = inf/-nan), !coefficients=(Gauss_Norm_Bp = 0.700206,exp_Norm_Bp = 214.583)\n",
            "     getLogVal() top-level p.d.f evaluates to zero @ !refCoefNorm=(), !pdfs=(Gaussian Signal = 0.996786/896.467,Exponential Background = inf/-nan), !coefficients=(Gauss_Norm_Bp = 0.700206,exp_Norm_Bp = 214.583)\n",
            "     p.d.f value is Not-a-Number (-nan), forcing value to zero @ !refCoefNorm=(), !pdfs=(Gaussian Signal = 0.996786/896.467,Exponential Background = inf/-nan), !coefficients=(Gauss_Norm_Bp = 0.700206,exp_Norm_Bp = 214.583)\n",
            "     getLogVal() top-level p.d.f evaluates to zero @ !refCoefNorm=(), !pdfs=(Gaussian Signal = 0.996786/896.467,Exponential Background = inf/-nan), !coefficients=(Gauss_Norm_Bp = 0.700206,exp_Norm_Bp = 214.583)\n",
            "     p.d.f value is Not-a-Number (-nan), forcing value to zero @ !refCoefNorm=(), !pdfs=(Gaussian Signal = 0.996786/896.467,Exponential Background = inf/-nan), !coefficients=(Gauss_Norm_Bp = 0.700206,exp_Norm_Bp = 214.583)\n",
            "     getLogVal() top-level p.d.f evaluates to zero @ !refCoefNorm=(), !pdfs=(Gaussian Signal = 0.996786/896.467,Exponential Background = inf/-nan), !coefficients=(Gauss_Norm_Bp = 0.700206,exp_Norm_Bp = 214.583)\n",
            "    ... (remaining 2038 messages suppressed)\n",
            "RooNLLVar::nll_Full Model_Data Set[ paramSet=(Gauss_Norm_Bp,Mean,Width,exp_Norm_Bp,exponent) ]\n",
            "     function value is NAN @ paramSet=(Gauss_Norm_Bp = 0.700206,Mean = 4900,Width = 6854.28,exp_Norm_Bp = 214.583,exponent = 0.155558)\n",
            "RooRealIntegral::Exponential Background_Int[sqrt((((sqrt((493.677 **2) + ((H1_PX**2)+(H1_PY**2)+(H1_PZ**2))))+(sqrt((493.677 **2) + ((H2_PX**2)+(H2_PY**2)+(H2_PZ**2))))+(sqrt((493.677 **2) + ((H3_PX**2)+(H3_PY**2)+(H3_PZ**2)))))**2) - ((sqrt(((H1_PX+H2_PX+H3_PX)**2)+((H1_PY+H2_PY+H3_PY)**2)+((H1_PZ+H2_PZ+H3_PZ)**2)))**2))][ Int Exponential Backgroundd[Ana](sqrt((((sqrt((493.677 **2) + ((H1_PX**2)+(H1_PY**2)+(H1_PZ**2))))+(sqrt((493.677 **2) + ((H2_PX**2)+(H2_PY**2)+(H2_PZ**2))))+(sqrt((493.677 **2) + ((H3_PX**2)+(H3_PY**2)+(H3_PZ**2)))))**2) - ((sqrt(((H1_PX+H2_PX+H3_PX)**2)+((H1_PY+H2_PY+H3_PY)**2)+((H1_PZ+H2_PZ+H3_PZ)**2)))**2))) ]\n",
            "     function value is NAN @ !sumList=(), !intList=(), !anaList=(sqrt((((sqrt((493.677 **2) + ((H1_PX**2)+(H1_PY**2)+(H1_PZ**2))))+(sqrt((493.677 **2) + ((H2_PX**2)+(H2_PY**2)+(H2_PZ**2))))+(sqrt((493.677 **2) + ((H3_PX**2)+(H3_PY**2)+(H3_PZ**2)))))**2) - ((sqrt(((H1_PX+H2_PX+H3_PX)**2)+((H1_PY+H2_PY+H3_PY)**2)+((H1_PZ+H2_PZ+H3_PZ)**2)))**2)) = 5450), !jacList=(), !facList=(), !func=Exponential Background=inf/2.03467e+14, !sumCat=()\n",
            "\n",
            " MIGRAD FAILS TO FIND IMPROVEMENT\n",
            " MINUIT WARNING IN HESSE\n",
            " ============== Second derivative enters zero, param 2\n",
            " MINUIT WARNING IN HESSE\n",
            " ============== Second derivative zero for parameter2\n",
            "  MNHESS FAILS AND WILL RETURN DIAGONAL MATRIX. \n",
            " FCN=5276.33 FROM HESSE     STATUS=FAILED          5 CALLS          58 TOTAL\n",
            "                     EDM=26665.1    STRATEGY= 1  ERROR MATRIX UNCERTAINTY 100.0 per cent\n",
            "  EXT PARAMETER                APPROXIMATE        STEP         FIRST   \n",
            "  NO.   NAME      VALUE            ERROR          SIZE      DERIVATIVE \n",
            "   1  Gauss_Norm_Bp   3.82489e+01   8.78078e+00   1.03195e-03   4.28245e+02\n",
            "   2  Mean         4.90000e+03   5.11191e+02  -0.00000e+00   0.00000e+00\n",
            "   3  Width        4.00000e+01   7.32256e-01   0.00000e+00  -6.22318e+04\n",
            "   4  exp_Norm_Bp   7.00070e+01   2.39052e+00   0.00000e+00  -1.03401e+04\n",
            "   5  exponent     4.68422e-03   1.36618e-04   0.00000e+00   8.05500e+05\n",
            "                               ERR DEF= 0.5\n",
            " MINUIT WARNING IN MIGRAD  \n",
            " ============== Negative diagonal element 2 in Error Matrix\n",
            " MINUIT WARNING IN MIGRAD  \n",
            " ============== 10.899 added to diagonal of error matrix\n",
            "[#0] WARNING:Minization -- RooMinimizerFcn: Minimized function has error status.\n",
            "Returning maximum FCN so far (33437.5) to force MIGRAD to back out of this region. Error log follows\n",
            "Parameter values: Gauss_Norm_Bp=1760.27, Mean=5618.77, Width=1491.41, exp_Norm_Bp=1600.12, exponent=-1.99997\n",
            "RooExponential::Exponential Background[ x=sqrt((((sqrt((493.677 **2) + ((H1_PX**2)+(H1_PY**2)+(H1_PZ**2))))+(sqrt((493.677 **2) + ((H2_PX**2)+(H2_PY**2)+(H2_PZ**2))))+(sqrt((493.677 **2) + ((H3_PX**2)+(H3_PY**2)+(H3_PZ**2)))))**2) - ((sqrt(((H1_PX+H2_PX+H3_PX)**2)+((H1_PY+H2_PY+H3_PY)**2)+((H1_PZ+H2_PZ+H3_PZ)**2)))**2)) c=exponent ]\n",
            "     p.d.f normalization integral is zero or negative @ x=sqrt((((sqrt((493.677 **2) + ((H1_PX**2)+(H1_PY**2)+(H1_PZ**2))))+(sqrt((493.677 **2) + ((H2_PX**2)+(H2_PY**2)+(H2_PZ**2))))+(sqrt((493.677 **2) + ((H3_PX**2)+(H3_PY**2)+(H3_PZ**2)))))**2) - ((sqrt(((H1_PX+H2_PX+H3_PX)**2)+((H1_PY+H2_PY+H3_PY)**2)+((H1_PZ+H2_PZ+H3_PZ)**2)))**2))=5450, c=exponent=-1.99997\n",
            "     p.d.f normalization integral is zero or negative @ x=sqrt((((sqrt((493.677 **2) + ((H1_PX**2)+(H1_PY**2)+(H1_PZ**2))))+(sqrt((493.677 **2) + ((H2_PX**2)+(H2_PY**2)+(H2_PZ**2))))+(sqrt((493.677 **2) + ((H3_PX**2)+(H3_PY**2)+(H3_PZ**2)))))**2) - ((sqrt(((H1_PX+H2_PX+H3_PX)**2)+((H1_PY+H2_PY+H3_PY)**2)+((H1_PZ+H2_PZ+H3_PZ)**2)))**2))=5450, c=exponent=-1.99997\n",
            "     p.d.f normalization integral is zero or negative @ x=sqrt((((sqrt((493.677 **2) + ((H1_PX**2)+(H1_PY**2)+(H1_PZ**2))))+(sqrt((493.677 **2) + ((H2_PX**2)+(H2_PY**2)+(H2_PZ**2))))+(sqrt((493.677 **2) + ((H3_PX**2)+(H3_PY**2)+(H3_PZ**2)))))**2) - ((sqrt(((H1_PX+H2_PX+H3_PX)**2)+((H1_PY+H2_PY+H3_PY)**2)+((H1_PZ+H2_PZ+H3_PZ)**2)))**2))=5450, c=exponent=-1.99997\n",
            "     p.d.f normalization integral is zero or negative @ x=sqrt((((sqrt((493.677 **2) + ((H1_PX**2)+(H1_PY**2)+(H1_PZ**2))))+(sqrt((493.677 **2) + ((H2_PX**2)+(H2_PY**2)+(H2_PZ**2))))+(sqrt((493.677 **2) + ((H3_PX**2)+(H3_PY**2)+(H3_PZ**2)))))**2) - ((sqrt(((H1_PX+H2_PX+H3_PX)**2)+((H1_PY+H2_PY+H3_PY)**2)+((H1_PZ+H2_PZ+H3_PZ)**2)))**2))=5450, c=exponent=-1.99997\n",
            "     p.d.f normalization integral is zero or negative @ x=sqrt((((sqrt((493.677 **2) + ((H1_PX**2)+(H1_PY**2)+(H1_PZ**2))))+(sqrt((493.677 **2) + ((H2_PX**2)+(H2_PY**2)+(H2_PZ**2))))+(sqrt((493.677 **2) + ((H3_PX**2)+(H3_PY**2)+(H3_PZ**2)))))**2) - ((sqrt(((H1_PX+H2_PX+H3_PX)**2)+((H1_PY+H2_PY+H3_PY)**2)+((H1_PZ+H2_PZ+H3_PZ)**2)))**2))=5450, c=exponent=-1.99997\n",
            "     p.d.f normalization integral is zero or negative @ x=sqrt((((sqrt((493.677 **2) + ((H1_PX**2)+(H1_PY**2)+(H1_PZ**2))))+(sqrt((493.677 **2) + ((H2_PX**2)+(H2_PY**2)+(H2_PZ**2))))+(sqrt((493.677 **2) + ((H3_PX**2)+(H3_PY**2)+(H3_PZ**2)))))**2) - ((sqrt(((H1_PX+H2_PX+H3_PX)**2)+((H1_PY+H2_PY+H3_PY)**2)+((H1_PZ+H2_PZ+H3_PZ)**2)))**2))=5450, c=exponent=-1.99997\n",
            "     p.d.f normalization integral is zero or negative @ x=sqrt((((sqrt((493.677 **2) + ((H1_PX**2)+(H1_PY**2)+(H1_PZ**2))))+(sqrt((493.677 **2) + ((H2_PX**2)+(H2_PY**2)+(H2_PZ**2))))+(sqrt((493.677 **2) + ((H3_PX**2)+(H3_PY**2)+(H3_PZ**2)))))**2) - ((sqrt(((H1_PX+H2_PX+H3_PX)**2)+((H1_PY+H2_PY+H3_PY)**2)+((H1_PZ+H2_PZ+H3_PZ)**2)))**2))=5450, c=exponent=-1.99997\n",
            "     p.d.f normalization integral is zero or negative @ x=sqrt((((sqrt((493.677 **2) + ((H1_PX**2)+(H1_PY**2)+(H1_PZ**2))))+(sqrt((493.677 **2) + ((H2_PX**2)+(H2_PY**2)+(H2_PZ**2))))+(sqrt((493.677 **2) + ((H3_PX**2)+(H3_PY**2)+(H3_PZ**2)))))**2) - ((sqrt(((H1_PX+H2_PX+H3_PX)**2)+((H1_PY+H2_PY+H3_PY)**2)+((H1_PZ+H2_PZ+H3_PZ)**2)))**2))=5450, c=exponent=-1.99997\n",
            "     p.d.f normalization integral is zero or negative @ x=sqrt((((sqrt((493.677 **2) + ((H1_PX**2)+(H1_PY**2)+(H1_PZ**2))))+(sqrt((493.677 **2) + ((H2_PX**2)+(H2_PY**2)+(H2_PZ**2))))+(sqrt((493.677 **2) + ((H3_PX**2)+(H3_PY**2)+(H3_PZ**2)))))**2) - ((sqrt(((H1_PX+H2_PX+H3_PX)**2)+((H1_PY+H2_PY+H3_PY)**2)+((H1_PZ+H2_PZ+H3_PZ)**2)))**2))=5450, c=exponent=-1.99997\n",
            "     p.d.f normalization integral is zero or negative @ x=sqrt((((sqrt((493.677 **2) + ((H1_PX**2)+(H1_PY**2)+(H1_PZ**2))))+(sqrt((493.677 **2) + ((H2_PX**2)+(H2_PY**2)+(H2_PZ**2))))+(sqrt((493.677 **2) + ((H3_PX**2)+(H3_PY**2)+(H3_PZ**2)))))**2) - ((sqrt(((H1_PX+H2_PX+H3_PX)**2)+((H1_PY+H2_PY+H3_PY)**2)+((H1_PZ+H2_PZ+H3_PZ)**2)))**2))=5450, c=exponent=-1.99997\n",
            "     p.d.f normalization integral is zero or negative @ x=sqrt((((sqrt((493.677 **2) + ((H1_PX**2)+(H1_PY**2)+(H1_PZ**2))))+(sqrt((493.677 **2) + ((H2_PX**2)+(H2_PY**2)+(H2_PZ**2))))+(sqrt((493.677 **2) + ((H3_PX**2)+(H3_PY**2)+(H3_PZ**2)))))**2) - ((sqrt(((H1_PX+H2_PX+H3_PX)**2)+((H1_PY+H2_PY+H3_PY)**2)+((H1_PZ+H2_PZ+H3_PZ)**2)))**2))=5450, c=exponent=-1.99997\n",
            "     p.d.f normalization integral is zero or negative @ x=sqrt((((sqrt((493.677 **2) + ((H1_PX**2)+(H1_PY**2)+(H1_PZ**2))))+(sqrt((493.677 **2) + ((H2_PX**2)+(H2_PY**2)+(H2_PZ**2))))+(sqrt((493.677 **2) + ((H3_PX**2)+(H3_PY**2)+(H3_PZ**2)))))**2) - ((sqrt(((H1_PX+H2_PX+H3_PX)**2)+((H1_PY+H2_PY+H3_PY)**2)+((H1_PZ+H2_PZ+H3_PZ)**2)))**2))=5450, c=exponent=-1.99997\n",
            "    ... (remaining 1601 messages suppressed)\n",
            "\n",
            "[#0] WARNING:Minization -- RooMinimizerFcn: Minimized function has error status.\n",
            "Returning maximum FCN so far (33437.5) to force MIGRAD to back out of this region. Error log follows\n",
            "Parameter values: Gauss_Norm_Bp=4507.63, Mean=4902.16, Width=188.499, exp_Norm_Bp=0.0351717, exponent=1.34912\n",
            "RooAddPdf::Full Model[ Gauss_Norm_Bp * Gaussian Signal + exp_Norm_Bp * Exponential Background ]\n",
            "     p.d.f value is Not-a-Number (-nan), forcing value to zero @ !refCoefNorm=(), !pdfs=(Gaussian Signal = 0.0146482/142.626,Exponential Background = inf/-nan), !coefficients=(Gauss_Norm_Bp = 4507.63,exp_Norm_Bp = 0.0351717)\n",
            "     getLogVal() top-level p.d.f evaluates to zero @ !refCoefNorm=(), !pdfs=(Gaussian Signal = 0.0146482/142.626,Exponential Background = inf/-nan), !coefficients=(Gauss_Norm_Bp = 4507.63,exp_Norm_Bp = 0.0351717)\n",
            "     p.d.f value is Not-a-Number (-nan), forcing value to zero @ !refCoefNorm=(), !pdfs=(Gaussian Signal = 0.0146482/142.626,Exponential Background = inf/-nan), !coefficients=(Gauss_Norm_Bp = 4507.63,exp_Norm_Bp = 0.0351717)\n",
            "     getLogVal() top-level p.d.f evaluates to zero @ !refCoefNorm=(), !pdfs=(Gaussian Signal = 0.0146482/142.626,Exponential Background = inf/-nan), !coefficients=(Gauss_Norm_Bp = 4507.63,exp_Norm_Bp = 0.0351717)\n",
            "     p.d.f value is Not-a-Number (-nan), forcing value to zero @ !refCoefNorm=(), !pdfs=(Gaussian Signal = 0.0146482/142.626,Exponential Background = inf/-nan), !coefficients=(Gauss_Norm_Bp = 4507.63,exp_Norm_Bp = 0.0351717)\n",
            "     getLogVal() top-level p.d.f evaluates to zero @ !refCoefNorm=(), !pdfs=(Gaussian Signal = 0.0146482/142.626,Exponential Background = inf/-nan), !coefficients=(Gauss_Norm_Bp = 4507.63,exp_Norm_Bp = 0.0351717)\n",
            "     p.d.f value is Not-a-Number (-nan), forcing value to zero @ !refCoefNorm=(), !pdfs=(Gaussian Signal = 0.0146482/142.626,Exponential Background = inf/-nan), !coefficients=(Gauss_Norm_Bp = 4507.63,exp_Norm_Bp = 0.0351717)\n",
            "     getLogVal() top-level p.d.f evaluates to zero @ !refCoefNorm=(), !pdfs=(Gaussian Signal = 0.0146482/142.626,Exponential Background = inf/-nan), !coefficients=(Gauss_Norm_Bp = 4507.63,exp_Norm_Bp = 0.0351717)\n",
            "     p.d.f value is Not-a-Number (-nan), forcing value to zero @ !refCoefNorm=(), !pdfs=(Gaussian Signal = 0.0146482/142.626,Exponential Background = inf/-nan), !coefficients=(Gauss_Norm_Bp = 4507.63,exp_Norm_Bp = 0.0351717)\n",
            "     getLogVal() top-level p.d.f evaluates to zero @ !refCoefNorm=(), !pdfs=(Gaussian Signal = 0.0146482/142.626,Exponential Background = inf/-nan), !coefficients=(Gauss_Norm_Bp = 4507.63,exp_Norm_Bp = 0.0351717)\n",
            "     p.d.f value is Not-a-Number (-nan), forcing value to zero @ !refCoefNorm=(), !pdfs=(Gaussian Signal = 0.0146482/142.626,Exponential Background = inf/-nan), !coefficients=(Gauss_Norm_Bp = 4507.63,exp_Norm_Bp = 0.0351717)\n",
            "     getLogVal() top-level p.d.f evaluates to zero @ !refCoefNorm=(), !pdfs=(Gaussian Signal = 0.0146482/142.626,Exponential Background = inf/-nan), !coefficients=(Gauss_Norm_Bp = 4507.63,exp_Norm_Bp = 0.0351717)\n",
            "    ... (remaining 2038 messages suppressed)\n",
            "RooNLLVar::nll_Full Model_Data Set[ paramSet=(Gauss_Norm_Bp,Mean,Width,exp_Norm_Bp,exponent) ]\n",
            "     function value is NAN @ paramSet=(Gauss_Norm_Bp = 4507.63,Mean = 4902.16,Width = 188.499,exp_Norm_Bp = 0.0351717,exponent = 1.34912)\n",
            "RooRealIntegral::Exponential Background_Int[sqrt((((sqrt((493.677 **2) + ((H1_PX**2)+(H1_PY**2)+(H1_PZ**2))))+(sqrt((493.677 **2) + ((H2_PX**2)+(H2_PY**2)+(H2_PZ**2))))+(sqrt((493.677 **2) + ((H3_PX**2)+(H3_PY**2)+(H3_PZ**2)))))**2) - ((sqrt(((H1_PX+H2_PX+H3_PX)**2)+((H1_PY+H2_PY+H3_PY)**2)+((H1_PZ+H2_PZ+H3_PZ)**2)))**2))][ Int Exponential Backgroundd[Ana](sqrt((((sqrt((493.677 **2) + ((H1_PX**2)+(H1_PY**2)+(H1_PZ**2))))+(sqrt((493.677 **2) + ((H2_PX**2)+(H2_PY**2)+(H2_PZ**2))))+(sqrt((493.677 **2) + ((H3_PX**2)+(H3_PY**2)+(H3_PZ**2)))))**2) - ((sqrt(((H1_PX+H2_PX+H3_PX)**2)+((H1_PY+H2_PY+H3_PY)**2)+((H1_PZ+H2_PZ+H3_PZ)**2)))**2))) ]\n",
            "     function value is NAN @ !sumList=(), !intList=(), !anaList=(sqrt((((sqrt((493.677 **2) + ((H1_PX**2)+(H1_PY**2)+(H1_PZ**2))))+(sqrt((493.677 **2) + ((H2_PX**2)+(H2_PY**2)+(H2_PZ**2))))+(sqrt((493.677 **2) + ((H3_PX**2)+(H3_PY**2)+(H3_PZ**2)))))**2) - ((sqrt(((H1_PX+H2_PX+H3_PX)**2)+((H1_PY+H2_PY+H3_PY)**2)+((H1_PZ+H2_PZ+H3_PZ)**2)))**2)) = 5450), !jacList=(), !facList=(), !func=Exponential Background=inf/-0, !sumCat=()\n",
            "\n",
            "[#0] WARNING:Minization -- RooMinimizerFcn: Minimized function has error status.\n",
            "Returning maximum FCN so far (33437.5) to force MIGRAD to back out of this region. Error log follows\n",
            "Parameter values: Gauss_Norm_Bp=2752.56, Mean=5078.55, Width=0.381012, exp_Norm_Bp=2765.19, exponent=1.89692\n",
            "RooAddPdf::Full Model[ Gauss_Norm_Bp * Gaussian Signal + exp_Norm_Bp * Exponential Background ]\n",
            "     p.d.f value is Not-a-Number (-nan), forcing value to zero @ !refCoefNorm=(), !pdfs=(Gaussian Signal = 0/0.955057,Exponential Background = inf/-nan), !coefficients=(Gauss_Norm_Bp = 2752.56,exp_Norm_Bp = 2765.19)\n",
            "     getLogVal() top-level p.d.f evaluates to zero @ !refCoefNorm=(), !pdfs=(Gaussian Signal = 0/0.955057,Exponential Background = inf/-nan), !coefficients=(Gauss_Norm_Bp = 2752.56,exp_Norm_Bp = 2765.19)\n",
            "     p.d.f value is Not-a-Number (-nan), forcing value to zero @ !refCoefNorm=(), !pdfs=(Gaussian Signal = 0/0.955057,Exponential Background = inf/-nan), !coefficients=(Gauss_Norm_Bp = 2752.56,exp_Norm_Bp = 2765.19)\n",
            "     getLogVal() top-level p.d.f evaluates to zero @ !refCoefNorm=(), !pdfs=(Gaussian Signal = 0/0.955057,Exponential Background = inf/-nan), !coefficients=(Gauss_Norm_Bp = 2752.56,exp_Norm_Bp = 2765.19)\n",
            "     p.d.f value is Not-a-Number (-nan), forcing value to zero @ !refCoefNorm=(), !pdfs=(Gaussian Signal = 0/0.955057,Exponential Background = inf/-nan), !coefficients=(Gauss_Norm_Bp = 2752.56,exp_Norm_Bp = 2765.19)\n",
            "     getLogVal() top-level p.d.f evaluates to zero @ !refCoefNorm=(), !pdfs=(Gaussian Signal = 0/0.955057,Exponential Background = inf/-nan), !coefficients=(Gauss_Norm_Bp = 2752.56,exp_Norm_Bp = 2765.19)\n",
            "     p.d.f value is Not-a-Number (-nan), forcing value to zero @ !refCoefNorm=(), !pdfs=(Gaussian Signal = 0/0.955057,Exponential Background = inf/-nan), !coefficients=(Gauss_Norm_Bp = 2752.56,exp_Norm_Bp = 2765.19)\n",
            "     getLogVal() top-level p.d.f evaluates to zero @ !refCoefNorm=(), !pdfs=(Gaussian Signal = 0/0.955057,Exponential Background = inf/-nan), !coefficients=(Gauss_Norm_Bp = 2752.56,exp_Norm_Bp = 2765.19)\n",
            "     p.d.f value is Not-a-Number (-nan), forcing value to zero @ !refCoefNorm=(), !pdfs=(Gaussian Signal = 0/0.955057,Exponential Background = inf/-nan), !coefficients=(Gauss_Norm_Bp = 2752.56,exp_Norm_Bp = 2765.19)\n",
            "     getLogVal() top-level p.d.f evaluates to zero @ !refCoefNorm=(), !pdfs=(Gaussian Signal = 0/0.955057,Exponential Background = inf/-nan), !coefficients=(Gauss_Norm_Bp = 2752.56,exp_Norm_Bp = 2765.19)\n",
            "     p.d.f value is Not-a-Number (-nan), forcing value to zero @ !refCoefNorm=(), !pdfs=(Gaussian Signal = 0/0.955057,Exponential Background = inf/-nan), !coefficients=(Gauss_Norm_Bp = 2752.56,exp_Norm_Bp = 2765.19)\n",
            "     getLogVal() top-level p.d.f evaluates to zero @ !refCoefNorm=(), !pdfs=(Gaussian Signal = 0/0.955057,Exponential Background = inf/-nan), !coefficients=(Gauss_Norm_Bp = 2752.56,exp_Norm_Bp = 2765.19)\n",
            "    ... (remaining 2038 messages suppressed)\n",
            "RooNLLVar::nll_Full Model_Data Set[ paramSet=(Gauss_Norm_Bp,Mean,Width,exp_Norm_Bp,exponent) ]\n",
            "     function value is NAN @ paramSet=(Gauss_Norm_Bp = 2752.56,Mean = 5078.55,Width = 0.381012,exp_Norm_Bp = 2765.19,exponent = 1.89692)\n",
            "RooRealIntegral::Exponential Background_Int[sqrt((((sqrt((493.677 **2) + ((H1_PX**2)+(H1_PY**2)+(H1_PZ**2))))+(sqrt((493.677 **2) + ((H2_PX**2)+(H2_PY**2)+(H2_PZ**2))))+(sqrt((493.677 **2) + ((H3_PX**2)+(H3_PY**2)+(H3_PZ**2)))))**2) - ((sqrt(((H1_PX+H2_PX+H3_PX)**2)+((H1_PY+H2_PY+H3_PY)**2)+((H1_PZ+H2_PZ+H3_PZ)**2)))**2))][ Int Exponential Backgroundd[Ana](sqrt((((sqrt((493.677 **2) + ((H1_PX**2)+(H1_PY**2)+(H1_PZ**2))))+(sqrt((493.677 **2) + ((H2_PX**2)+(H2_PY**2)+(H2_PZ**2))))+(sqrt((493.677 **2) + ((H3_PX**2)+(H3_PY**2)+(H3_PZ**2)))))**2) - ((sqrt(((H1_PX+H2_PX+H3_PX)**2)+((H1_PY+H2_PY+H3_PY)**2)+((H1_PZ+H2_PZ+H3_PZ)**2)))**2))) ]\n",
            "     function value is NAN @ !sumList=(), !intList=(), !anaList=(sqrt((((sqrt((493.677 **2) + ((H1_PX**2)+(H1_PY**2)+(H1_PZ**2))))+(sqrt((493.677 **2) + ((H2_PX**2)+(H2_PY**2)+(H2_PZ**2))))+(sqrt((493.677 **2) + ((H3_PX**2)+(H3_PY**2)+(H3_PZ**2)))))**2) - ((sqrt(((H1_PX+H2_PX+H3_PX)**2)+((H1_PY+H2_PY+H3_PY)**2)+((H1_PZ+H2_PZ+H3_PZ)**2)))**2)) = 5450), !jacList=(), !facList=(), !func=Exponential Background=inf/-nan, !sumCat=()\n",
            "\n",
            "[#0] WARNING:Minization -- RooMinimizerFcn: Minimized function has error status.\n",
            "Returning maximum FCN so far (33437.5) to force MIGRAD to back out of this region. Error log follows\n",
            "Parameter values: Gauss_Norm_Bp=4213.65, Mean=5506.96, Width=35.5809, exp_Norm_Bp=133.087, exponent=1.24494\n",
            "RooAddPdf::Full Model[ Gauss_Norm_Bp * Gaussian Signal + exp_Norm_Bp * Exponential Background ]\n",
            "     p.d.f value is Not-a-Number (-nan), forcing value to zero @ !refCoefNorm=(), !pdfs=(Gaussian Signal = 0.277596/89.188,Exponential Background = inf/-nan), !coefficients=(Gauss_Norm_Bp = 4213.65,exp_Norm_Bp = 133.087)\n",
            "     getLogVal() top-level p.d.f evaluates to zero @ !refCoefNorm=(), !pdfs=(Gaussian Signal = 0.277596/89.188,Exponential Background = inf/-nan), !coefficients=(Gauss_Norm_Bp = 4213.65,exp_Norm_Bp = 133.087)\n",
            "     p.d.f value is Not-a-Number (-nan), forcing value to zero @ !refCoefNorm=(), !pdfs=(Gaussian Signal = 0.277596/89.188,Exponential Background = inf/-nan), !coefficients=(Gauss_Norm_Bp = 4213.65,exp_Norm_Bp = 133.087)\n",
            "     getLogVal() top-level p.d.f evaluates to zero @ !refCoefNorm=(), !pdfs=(Gaussian Signal = 0.277596/89.188,Exponential Background = inf/-nan), !coefficients=(Gauss_Norm_Bp = 4213.65,exp_Norm_Bp = 133.087)\n",
            "     p.d.f value is Not-a-Number (-nan), forcing value to zero @ !refCoefNorm=(), !pdfs=(Gaussian Signal = 0.277596/89.188,Exponential Background = inf/-nan), !coefficients=(Gauss_Norm_Bp = 4213.65,exp_Norm_Bp = 133.087)\n",
            "     getLogVal() top-level p.d.f evaluates to zero @ !refCoefNorm=(), !pdfs=(Gaussian Signal = 0.277596/89.188,Exponential Background = inf/-nan), !coefficients=(Gauss_Norm_Bp = 4213.65,exp_Norm_Bp = 133.087)\n",
            "     p.d.f value is Not-a-Number (-nan), forcing value to zero @ !refCoefNorm=(), !pdfs=(Gaussian Signal = 0.277596/89.188,Exponential Background = inf/-nan), !coefficients=(Gauss_Norm_Bp = 4213.65,exp_Norm_Bp = 133.087)\n",
            "     getLogVal() top-level p.d.f evaluates to zero @ !refCoefNorm=(), !pdfs=(Gaussian Signal = 0.277596/89.188,Exponential Background = inf/-nan), !coefficients=(Gauss_Norm_Bp = 4213.65,exp_Norm_Bp = 133.087)\n",
            "     p.d.f value is Not-a-Number (-nan), forcing value to zero @ !refCoefNorm=(), !pdfs=(Gaussian Signal = 0.277596/89.188,Exponential Background = inf/-nan), !coefficients=(Gauss_Norm_Bp = 4213.65,exp_Norm_Bp = 133.087)\n",
            "     getLogVal() top-level p.d.f evaluates to zero @ !refCoefNorm=(), !pdfs=(Gaussian Signal = 0.277596/89.188,Exponential Background = inf/-nan), !coefficients=(Gauss_Norm_Bp = 4213.65,exp_Norm_Bp = 133.087)\n",
            "     p.d.f value is Not-a-Number (-nan), forcing value to zero @ !refCoefNorm=(), !pdfs=(Gaussian Signal = 0.277596/89.188,Exponential Background = inf/-nan), !coefficients=(Gauss_Norm_Bp = 4213.65,exp_Norm_Bp = 133.087)\n",
            "     getLogVal() top-level p.d.f evaluates to zero @ !refCoefNorm=(), !pdfs=(Gaussian Signal = 0.277596/89.188,Exponential Background = inf/-nan), !coefficients=(Gauss_Norm_Bp = 4213.65,exp_Norm_Bp = 133.087)\n",
            "    ... (remaining 2038 messages suppressed)\n",
            "RooNLLVar::nll_Full Model_Data Set[ paramSet=(Gauss_Norm_Bp,Mean,Width,exp_Norm_Bp,exponent) ]\n",
            "     function value is NAN @ paramSet=(Gauss_Norm_Bp = 4213.65,Mean = 5506.96,Width = 35.5809,exp_Norm_Bp = 133.087,exponent = 1.24494)\n",
            "RooRealIntegral::Exponential Background_Int[sqrt((((sqrt((493.677 **2) + ((H1_PX**2)+(H1_PY**2)+(H1_PZ**2))))+(sqrt((493.677 **2) + ((H2_PX**2)+(H2_PY**2)+(H2_PZ**2))))+(sqrt((493.677 **2) + ((H3_PX**2)+(H3_PY**2)+(H3_PZ**2)))))**2) - ((sqrt(((H1_PX+H2_PX+H3_PX)**2)+((H1_PY+H2_PY+H3_PY)**2)+((H1_PZ+H2_PZ+H3_PZ)**2)))**2))][ Int Exponential Backgroundd[Ana](sqrt((((sqrt((493.677 **2) + ((H1_PX**2)+(H1_PY**2)+(H1_PZ**2))))+(sqrt((493.677 **2) + ((H2_PX**2)+(H2_PY**2)+(H2_PZ**2))))+(sqrt((493.677 **2) + ((H3_PX**2)+(H3_PY**2)+(H3_PZ**2)))))**2) - ((sqrt(((H1_PX+H2_PX+H3_PX)**2)+((H1_PY+H2_PY+H3_PY)**2)+((H1_PZ+H2_PZ+H3_PZ)**2)))**2))) ]\n",
            "     function value is NAN @ !sumList=(), !intList=(), !anaList=(sqrt((((sqrt((493.677 **2) + ((H1_PX**2)+(H1_PY**2)+(H1_PZ**2))))+(sqrt((493.677 **2) + ((H2_PX**2)+(H2_PY**2)+(H2_PZ**2))))+(sqrt((493.677 **2) + ((H3_PX**2)+(H3_PY**2)+(H3_PZ**2)))))**2) - ((sqrt(((H1_PX+H2_PX+H3_PX)**2)+((H1_PY+H2_PY+H3_PY)**2)+((H1_PZ+H2_PZ+H3_PZ)**2)))**2)) = 5450), !jacList=(), !facList=(), !func=Exponential Background=inf/-nan, !sumCat=()\n",
            "\n",
            "[#0] WARNING:Minization -- RooMinimizerFcn: Minimized function has error status.\n",
            "Returning maximum FCN so far (33437.5) to force MIGRAD to back out of this region. Error log follows\n",
            "Parameter values: Gauss_Norm_Bp=2998.31, Mean=4900.17, Width=85.4658, exp_Norm_Bp=2966.65, exponent=0.748651\n",
            "RooAddPdf::Full Model[ Gauss_Norm_Bp * Gaussian Signal + exp_Norm_Bp * Exponential Background ]\n",
            "     p.d.f value is Not-a-Number (-nan), forcing value to zero @ !refCoefNorm=(), !pdfs=(Gaussian Signal = 1.02949e-09/26.0032,Exponential Background = inf/-nan), !coefficients=(Gauss_Norm_Bp = 2998.31,exp_Norm_Bp = 2966.65)\n",
            "     getLogVal() top-level p.d.f evaluates to zero @ !refCoefNorm=(), !pdfs=(Gaussian Signal = 1.02949e-09/26.0032,Exponential Background = inf/-nan), !coefficients=(Gauss_Norm_Bp = 2998.31,exp_Norm_Bp = 2966.65)\n",
            "     p.d.f value is Not-a-Number (-nan), forcing value to zero @ !refCoefNorm=(), !pdfs=(Gaussian Signal = 1.02949e-09/26.0032,Exponential Background = inf/-nan), !coefficients=(Gauss_Norm_Bp = 2998.31,exp_Norm_Bp = 2966.65)\n",
            "     getLogVal() top-level p.d.f evaluates to zero @ !refCoefNorm=(), !pdfs=(Gaussian Signal = 1.02949e-09/26.0032,Exponential Background = inf/-nan), !coefficients=(Gauss_Norm_Bp = 2998.31,exp_Norm_Bp = 2966.65)\n",
            "     p.d.f value is Not-a-Number (-nan), forcing value to zero @ !refCoefNorm=(), !pdfs=(Gaussian Signal = 1.02949e-09/26.0032,Exponential Background = inf/-nan), !coefficients=(Gauss_Norm_Bp = 2998.31,exp_Norm_Bp = 2966.65)\n",
            "     getLogVal() top-level p.d.f evaluates to zero @ !refCoefNorm=(), !pdfs=(Gaussian Signal = 1.02949e-09/26.0032,Exponential Background = inf/-nan), !coefficients=(Gauss_Norm_Bp = 2998.31,exp_Norm_Bp = 2966.65)\n",
            "     p.d.f value is Not-a-Number (-nan), forcing value to zero @ !refCoefNorm=(), !pdfs=(Gaussian Signal = 1.02949e-09/26.0032,Exponential Background = inf/-nan), !coefficients=(Gauss_Norm_Bp = 2998.31,exp_Norm_Bp = 2966.65)\n",
            "     getLogVal() top-level p.d.f evaluates to zero @ !refCoefNorm=(), !pdfs=(Gaussian Signal = 1.02949e-09/26.0032,Exponential Background = inf/-nan), !coefficients=(Gauss_Norm_Bp = 2998.31,exp_Norm_Bp = 2966.65)\n",
            "     p.d.f value is Not-a-Number (-nan), forcing value to zero @ !refCoefNorm=(), !pdfs=(Gaussian Signal = 1.02949e-09/26.0032,Exponential Background = inf/-nan), !coefficients=(Gauss_Norm_Bp = 2998.31,exp_Norm_Bp = 2966.65)\n",
            "     getLogVal() top-level p.d.f evaluates to zero @ !refCoefNorm=(), !pdfs=(Gaussian Signal = 1.02949e-09/26.0032,Exponential Background = inf/-nan), !coefficients=(Gauss_Norm_Bp = 2998.31,exp_Norm_Bp = 2966.65)\n",
            "     p.d.f value is Not-a-Number (-nan), forcing value to zero @ !refCoefNorm=(), !pdfs=(Gaussian Signal = 1.02949e-09/26.0032,Exponential Background = inf/-nan), !coefficients=(Gauss_Norm_Bp = 2998.31,exp_Norm_Bp = 2966.65)\n",
            "     getLogVal() top-level p.d.f evaluates to zero @ !refCoefNorm=(), !pdfs=(Gaussian Signal = 1.02949e-09/26.0032,Exponential Background = inf/-nan), !coefficients=(Gauss_Norm_Bp = 2998.31,exp_Norm_Bp = 2966.65)\n",
            "    ... (remaining 2038 messages suppressed)\n",
            "RooNLLVar::nll_Full Model_Data Set[ paramSet=(Gauss_Norm_Bp,Mean,Width,exp_Norm_Bp,exponent) ]\n",
            "     function value is NAN @ paramSet=(Gauss_Norm_Bp = 2998.31,Mean = 4900.17,Width = 85.4658,exp_Norm_Bp = 2966.65,exponent = 0.748651)\n",
            "RooRealIntegral::Exponential Background_Int[sqrt((((sqrt((493.677 **2) + ((H1_PX**2)+(H1_PY**2)+(H1_PZ**2))))+(sqrt((493.677 **2) + ((H2_PX**2)+(H2_PY**2)+(H2_PZ**2))))+(sqrt((493.677 **2) + ((H3_PX**2)+(H3_PY**2)+(H3_PZ**2)))))**2) - ((sqrt(((H1_PX+H2_PX+H3_PX)**2)+((H1_PY+H2_PY+H3_PY)**2)+((H1_PZ+H2_PZ+H3_PZ)**2)))**2))][ Int Exponential Backgroundd[Ana](sqrt((((sqrt((493.677 **2) + ((H1_PX**2)+(H1_PY**2)+(H1_PZ**2))))+(sqrt((493.677 **2) + ((H2_PX**2)+(H2_PY**2)+(H2_PZ**2))))+(sqrt((493.677 **2) + ((H3_PX**2)+(H3_PY**2)+(H3_PZ**2)))))**2) - ((sqrt(((H1_PX+H2_PX+H3_PX)**2)+((H1_PY+H2_PY+H3_PY)**2)+((H1_PZ+H2_PZ+H3_PZ)**2)))**2))) ]\n",
            "     function value is NAN @ !sumList=(), !intList=(), !anaList=(sqrt((((sqrt((493.677 **2) + ((H1_PX**2)+(H1_PY**2)+(H1_PZ**2))))+(sqrt((493.677 **2) + ((H2_PX**2)+(H2_PY**2)+(H2_PZ**2))))+(sqrt((493.677 **2) + ((H3_PX**2)+(H3_PY**2)+(H3_PZ**2)))))**2) - ((sqrt(((H1_PX+H2_PX+H3_PX)**2)+((H1_PY+H2_PY+H3_PY)**2)+((H1_PZ+H2_PZ+H3_PZ)**2)))**2)) = 5450), !jacList=(), !facList=(), !func=Exponential Background=inf/-nan, !sumCat=()\n",
            "\n",
            "[#0] WARNING:Minization -- RooMinimizerFcn: Minimized function has error status.\n",
            "Returning maximum FCN so far (33437.5) to force MIGRAD to back out of this region. Error log follows\n",
            "Parameter values: Gauss_Norm_Bp=4127.57, Mean=5101.81, Width=6881.63, exp_Norm_Bp=3016.99, exponent=0.474547\n",
            "RooAddPdf::Full Model[ Gauss_Norm_Bp * Gaussian Signal + exp_Norm_Bp * Exponential Background ]\n",
            "     p.d.f value is Not-a-Number (-nan), forcing value to zero @ !refCoefNorm=(), !pdfs=(Gaussian Signal = 0.998721/898.21,Exponential Background = inf/-nan), !coefficients=(Gauss_Norm_Bp = 4127.57,exp_Norm_Bp = 3016.99)\n",
            "     getLogVal() top-level p.d.f evaluates to zero @ !refCoefNorm=(), !pdfs=(Gaussian Signal = 0.998721/898.21,Exponential Background = inf/-nan), !coefficients=(Gauss_Norm_Bp = 4127.57,exp_Norm_Bp = 3016.99)\n",
            "     p.d.f value is Not-a-Number (-nan), forcing value to zero @ !refCoefNorm=(), !pdfs=(Gaussian Signal = 0.998721/898.21,Exponential Background = inf/-nan), !coefficients=(Gauss_Norm_Bp = 4127.57,exp_Norm_Bp = 3016.99)\n",
            "     getLogVal() top-level p.d.f evaluates to zero @ !refCoefNorm=(), !pdfs=(Gaussian Signal = 0.998721/898.21,Exponential Background = inf/-nan), !coefficients=(Gauss_Norm_Bp = 4127.57,exp_Norm_Bp = 3016.99)\n",
            "     p.d.f value is Not-a-Number (-nan), forcing value to zero @ !refCoefNorm=(), !pdfs=(Gaussian Signal = 0.998721/898.21,Exponential Background = inf/-nan), !coefficients=(Gauss_Norm_Bp = 4127.57,exp_Norm_Bp = 3016.99)\n",
            "     getLogVal() top-level p.d.f evaluates to zero @ !refCoefNorm=(), !pdfs=(Gaussian Signal = 0.998721/898.21,Exponential Background = inf/-nan), !coefficients=(Gauss_Norm_Bp = 4127.57,exp_Norm_Bp = 3016.99)\n",
            "     p.d.f value is Not-a-Number (-nan), forcing value to zero @ !refCoefNorm=(), !pdfs=(Gaussian Signal = 0.998721/898.21,Exponential Background = inf/-nan), !coefficients=(Gauss_Norm_Bp = 4127.57,exp_Norm_Bp = 3016.99)\n",
            "     getLogVal() top-level p.d.f evaluates to zero @ !refCoefNorm=(), !pdfs=(Gaussian Signal = 0.998721/898.21,Exponential Background = inf/-nan), !coefficients=(Gauss_Norm_Bp = 4127.57,exp_Norm_Bp = 3016.99)\n",
            "     p.d.f value is Not-a-Number (-nan), forcing value to zero @ !refCoefNorm=(), !pdfs=(Gaussian Signal = 0.998721/898.21,Exponential Background = inf/-nan), !coefficients=(Gauss_Norm_Bp = 4127.57,exp_Norm_Bp = 3016.99)\n",
            "     getLogVal() top-level p.d.f evaluates to zero @ !refCoefNorm=(), !pdfs=(Gaussian Signal = 0.998721/898.21,Exponential Background = inf/-nan), !coefficients=(Gauss_Norm_Bp = 4127.57,exp_Norm_Bp = 3016.99)\n",
            "     p.d.f value is Not-a-Number (-nan), forcing value to zero @ !refCoefNorm=(), !pdfs=(Gaussian Signal = 0.998721/898.21,Exponential Background = inf/-nan), !coefficients=(Gauss_Norm_Bp = 4127.57,exp_Norm_Bp = 3016.99)\n",
            "     getLogVal() top-level p.d.f evaluates to zero @ !refCoefNorm=(), !pdfs=(Gaussian Signal = 0.998721/898.21,Exponential Background = inf/-nan), !coefficients=(Gauss_Norm_Bp = 4127.57,exp_Norm_Bp = 3016.99)\n",
            "    ... (remaining 2038 messages suppressed)\n",
            "RooNLLVar::nll_Full Model_Data Set[ paramSet=(Gauss_Norm_Bp,Mean,Width,exp_Norm_Bp,exponent) ]\n",
            "     function value is NAN @ paramSet=(Gauss_Norm_Bp = 4127.57,Mean = 5101.81,Width = 6881.63,exp_Norm_Bp = 3016.99,exponent = 0.474547)\n",
            "RooRealIntegral::Exponential Background_Int[sqrt((((sqrt((493.677 **2) + ((H1_PX**2)+(H1_PY**2)+(H1_PZ**2))))+(sqrt((493.677 **2) + ((H2_PX**2)+(H2_PY**2)+(H2_PZ**2))))+(sqrt((493.677 **2) + ((H3_PX**2)+(H3_PY**2)+(H3_PZ**2)))))**2) - ((sqrt(((H1_PX+H2_PX+H3_PX)**2)+((H1_PY+H2_PY+H3_PY)**2)+((H1_PZ+H2_PZ+H3_PZ)**2)))**2))][ Int Exponential Backgroundd[Ana](sqrt((((sqrt((493.677 **2) + ((H1_PX**2)+(H1_PY**2)+(H1_PZ**2))))+(sqrt((493.677 **2) + ((H2_PX**2)+(H2_PY**2)+(H2_PZ**2))))+(sqrt((493.677 **2) + ((H3_PX**2)+(H3_PY**2)+(H3_PZ**2)))))**2) - ((sqrt(((H1_PX+H2_PX+H3_PX)**2)+((H1_PY+H2_PY+H3_PY)**2)+((H1_PZ+H2_PZ+H3_PZ)**2)))**2))) ]\n",
            "     function value is NAN @ !sumList=(), !intList=(), !anaList=(sqrt((((sqrt((493.677 **2) + ((H1_PX**2)+(H1_PY**2)+(H1_PZ**2))))+(sqrt((493.677 **2) + ((H2_PX**2)+(H2_PY**2)+(H2_PZ**2))))+(sqrt((493.677 **2) + ((H3_PX**2)+(H3_PY**2)+(H3_PZ**2)))))**2) - ((sqrt(((H1_PX+H2_PX+H3_PX)**2)+((H1_PY+H2_PY+H3_PY)**2)+((H1_PZ+H2_PZ+H3_PZ)**2)))**2)) = 5450), !jacList=(), !facList=(), !func=Exponential Background=inf/-nan, !sumCat=()\n",
            "\n",
            "[#0] WARNING:Minization -- RooMinimizerFcn: Minimized function has error status.\n",
            "Returning maximum FCN so far (33437.5) to force MIGRAD to back out of this region. Error log follows\n",
            "Parameter values: Gauss_Norm_Bp=1774.13, Mean=5307.57, Width=2531.09, exp_Norm_Bp=809.953, exponent=0.33344\n",
            "RooAddPdf::Full Model[ Gauss_Norm_Bp * Gaussian Signal + exp_Norm_Bp * Exponential Background ]\n",
            "     p.d.f value is Not-a-Number (-nan), forcing value to zero @ !refCoefNorm=(), !pdfs=(Gaussian Signal = 0.998418/893.879,Exponential Background = inf/-nan), !coefficients=(Gauss_Norm_Bp = 1774.13,exp_Norm_Bp = 809.953)\n",
            "     getLogVal() top-level p.d.f evaluates to zero @ !refCoefNorm=(), !pdfs=(Gaussian Signal = 0.998418/893.879,Exponential Background = inf/-nan), !coefficients=(Gauss_Norm_Bp = 1774.13,exp_Norm_Bp = 809.953)\n",
            "     p.d.f value is Not-a-Number (-nan), forcing value to zero @ !refCoefNorm=(), !pdfs=(Gaussian Signal = 0.998418/893.879,Exponential Background = inf/-nan), !coefficients=(Gauss_Norm_Bp = 1774.13,exp_Norm_Bp = 809.953)\n",
            "     getLogVal() top-level p.d.f evaluates to zero @ !refCoefNorm=(), !pdfs=(Gaussian Signal = 0.998418/893.879,Exponential Background = inf/-nan), !coefficients=(Gauss_Norm_Bp = 1774.13,exp_Norm_Bp = 809.953)\n",
            "     p.d.f value is Not-a-Number (-nan), forcing value to zero @ !refCoefNorm=(), !pdfs=(Gaussian Signal = 0.998418/893.879,Exponential Background = inf/-nan), !coefficients=(Gauss_Norm_Bp = 1774.13,exp_Norm_Bp = 809.953)\n",
            "     getLogVal() top-level p.d.f evaluates to zero @ !refCoefNorm=(), !pdfs=(Gaussian Signal = 0.998418/893.879,Exponential Background = inf/-nan), !coefficients=(Gauss_Norm_Bp = 1774.13,exp_Norm_Bp = 809.953)\n",
            "     p.d.f value is Not-a-Number (-nan), forcing value to zero @ !refCoefNorm=(), !pdfs=(Gaussian Signal = 0.998418/893.879,Exponential Background = inf/-nan), !coefficients=(Gauss_Norm_Bp = 1774.13,exp_Norm_Bp = 809.953)\n",
            "     getLogVal() top-level p.d.f evaluates to zero @ !refCoefNorm=(), !pdfs=(Gaussian Signal = 0.998418/893.879,Exponential Background = inf/-nan), !coefficients=(Gauss_Norm_Bp = 1774.13,exp_Norm_Bp = 809.953)\n",
            "     p.d.f value is Not-a-Number (-nan), forcing value to zero @ !refCoefNorm=(), !pdfs=(Gaussian Signal = 0.998418/893.879,Exponential Background = inf/-nan), !coefficients=(Gauss_Norm_Bp = 1774.13,exp_Norm_Bp = 809.953)\n",
            "     getLogVal() top-level p.d.f evaluates to zero @ !refCoefNorm=(), !pdfs=(Gaussian Signal = 0.998418/893.879,Exponential Background = inf/-nan), !coefficients=(Gauss_Norm_Bp = 1774.13,exp_Norm_Bp = 809.953)\n",
            "     p.d.f value is Not-a-Number (-nan), forcing value to zero @ !refCoefNorm=(), !pdfs=(Gaussian Signal = 0.998418/893.879,Exponential Background = inf/-nan), !coefficients=(Gauss_Norm_Bp = 1774.13,exp_Norm_Bp = 809.953)\n",
            "     getLogVal() top-level p.d.f evaluates to zero @ !refCoefNorm=(), !pdfs=(Gaussian Signal = 0.998418/893.879,Exponential Background = inf/-nan), !coefficients=(Gauss_Norm_Bp = 1774.13,exp_Norm_Bp = 809.953)\n",
            "    ... (remaining 2038 messages suppressed)\n",
            "RooNLLVar::nll_Full Model_Data Set[ paramSet=(Gauss_Norm_Bp,Mean,Width,exp_Norm_Bp,exponent) ]\n",
            "     function value is NAN @ paramSet=(Gauss_Norm_Bp = 1774.13,Mean = 5307.57,Width = 2531.09,exp_Norm_Bp = 809.953,exponent = 0.33344)\n",
            "RooRealIntegral::Exponential Background_Int[sqrt((((sqrt((493.677 **2) + ((H1_PX**2)+(H1_PY**2)+(H1_PZ**2))))+(sqrt((493.677 **2) + ((H2_PX**2)+(H2_PY**2)+(H2_PZ**2))))+(sqrt((493.677 **2) + ((H3_PX**2)+(H3_PY**2)+(H3_PZ**2)))))**2) - ((sqrt(((H1_PX+H2_PX+H3_PX)**2)+((H1_PY+H2_PY+H3_PY)**2)+((H1_PZ+H2_PZ+H3_PZ)**2)))**2))][ Int Exponential Backgroundd[Ana](sqrt((((sqrt((493.677 **2) + ((H1_PX**2)+(H1_PY**2)+(H1_PZ**2))))+(sqrt((493.677 **2) + ((H2_PX**2)+(H2_PY**2)+(H2_PZ**2))))+(sqrt((493.677 **2) + ((H3_PX**2)+(H3_PY**2)+(H3_PZ**2)))))**2) - ((sqrt(((H1_PX+H2_PX+H3_PX)**2)+((H1_PY+H2_PY+H3_PY)**2)+((H1_PZ+H2_PZ+H3_PZ)**2)))**2))) ]\n",
            "     function value is NAN @ !sumList=(), !intList=(), !anaList=(sqrt((((sqrt((493.677 **2) + ((H1_PX**2)+(H1_PY**2)+(H1_PZ**2))))+(sqrt((493.677 **2) + ((H2_PX**2)+(H2_PY**2)+(H2_PZ**2))))+(sqrt((493.677 **2) + ((H3_PX**2)+(H3_PY**2)+(H3_PZ**2)))))**2) - ((sqrt(((H1_PX+H2_PX+H3_PX)**2)+((H1_PY+H2_PY+H3_PY)**2)+((H1_PZ+H2_PZ+H3_PZ)**2)))**2)) = 5450), !jacList=(), !facList=(), !func=Exponential Background=inf/-nan, !sumCat=()\n",
            "\n",
            "[#0] WARNING:Minization -- RooMinimizerFcn: Minimized function has error status.\n",
            "Returning maximum FCN so far (33437.5) to force MIGRAD to back out of this region. Error log follows\n",
            "Parameter values: Gauss_Norm_Bp=688.101, Mean=5420.28, Width=420.213, exp_Norm_Bp=50.17, exponent=-0.262191\n",
            "RooExponential::Exponential Background[ x=sqrt((((sqrt((493.677 **2) + ((H1_PX**2)+(H1_PY**2)+(H1_PZ**2))))+(sqrt((493.677 **2) + ((H2_PX**2)+(H2_PY**2)+(H2_PZ**2))))+(sqrt((493.677 **2) + ((H3_PX**2)+(H3_PY**2)+(H3_PZ**2)))))**2) - ((sqrt(((H1_PX+H2_PX+H3_PX)**2)+((H1_PY+H2_PY+H3_PY)**2)+((H1_PZ+H2_PZ+H3_PZ)**2)))**2)) c=exponent ]\n",
            "     p.d.f normalization integral is zero or negative @ x=sqrt((((sqrt((493.677 **2) + ((H1_PX**2)+(H1_PY**2)+(H1_PZ**2))))+(sqrt((493.677 **2) + ((H2_PX**2)+(H2_PY**2)+(H2_PZ**2))))+(sqrt((493.677 **2) + ((H3_PX**2)+(H3_PY**2)+(H3_PZ**2)))))**2) - ((sqrt(((H1_PX+H2_PX+H3_PX)**2)+((H1_PY+H2_PY+H3_PY)**2)+((H1_PZ+H2_PZ+H3_PZ)**2)))**2))=5450, c=exponent=-0.262191\n",
            "     p.d.f normalization integral is zero or negative @ x=sqrt((((sqrt((493.677 **2) + ((H1_PX**2)+(H1_PY**2)+(H1_PZ**2))))+(sqrt((493.677 **2) + ((H2_PX**2)+(H2_PY**2)+(H2_PZ**2))))+(sqrt((493.677 **2) + ((H3_PX**2)+(H3_PY**2)+(H3_PZ**2)))))**2) - ((sqrt(((H1_PX+H2_PX+H3_PX)**2)+((H1_PY+H2_PY+H3_PY)**2)+((H1_PZ+H2_PZ+H3_PZ)**2)))**2))=5450, c=exponent=-0.262191\n",
            "     p.d.f normalization integral is zero or negative @ x=sqrt((((sqrt((493.677 **2) + ((H1_PX**2)+(H1_PY**2)+(H1_PZ**2))))+(sqrt((493.677 **2) + ((H2_PX**2)+(H2_PY**2)+(H2_PZ**2))))+(sqrt((493.677 **2) + ((H3_PX**2)+(H3_PY**2)+(H3_PZ**2)))))**2) - ((sqrt(((H1_PX+H2_PX+H3_PX)**2)+((H1_PY+H2_PY+H3_PY)**2)+((H1_PZ+H2_PZ+H3_PZ)**2)))**2))=5450, c=exponent=-0.262191\n",
            "     p.d.f normalization integral is zero or negative @ x=sqrt((((sqrt((493.677 **2) + ((H1_PX**2)+(H1_PY**2)+(H1_PZ**2))))+(sqrt((493.677 **2) + ((H2_PX**2)+(H2_PY**2)+(H2_PZ**2))))+(sqrt((493.677 **2) + ((H3_PX**2)+(H3_PY**2)+(H3_PZ**2)))))**2) - ((sqrt(((H1_PX+H2_PX+H3_PX)**2)+((H1_PY+H2_PY+H3_PY)**2)+((H1_PZ+H2_PZ+H3_PZ)**2)))**2))=5450, c=exponent=-0.262191\n",
            "     p.d.f normalization integral is zero or negative @ x=sqrt((((sqrt((493.677 **2) + ((H1_PX**2)+(H1_PY**2)+(H1_PZ**2))))+(sqrt((493.677 **2) + ((H2_PX**2)+(H2_PY**2)+(H2_PZ**2))))+(sqrt((493.677 **2) + ((H3_PX**2)+(H3_PY**2)+(H3_PZ**2)))))**2) - ((sqrt(((H1_PX+H2_PX+H3_PX)**2)+((H1_PY+H2_PY+H3_PY)**2)+((H1_PZ+H2_PZ+H3_PZ)**2)))**2))=5450, c=exponent=-0.262191\n",
            "     p.d.f normalization integral is zero or negative @ x=sqrt((((sqrt((493.677 **2) + ((H1_PX**2)+(H1_PY**2)+(H1_PZ**2))))+(sqrt((493.677 **2) + ((H2_PX**2)+(H2_PY**2)+(H2_PZ**2))))+(sqrt((493.677 **2) + ((H3_PX**2)+(H3_PY**2)+(H3_PZ**2)))))**2) - ((sqrt(((H1_PX+H2_PX+H3_PX)**2)+((H1_PY+H2_PY+H3_PY)**2)+((H1_PZ+H2_PZ+H3_PZ)**2)))**2))=5450, c=exponent=-0.262191\n",
            "     p.d.f normalization integral is zero or negative @ x=sqrt((((sqrt((493.677 **2) + ((H1_PX**2)+(H1_PY**2)+(H1_PZ**2))))+(sqrt((493.677 **2) + ((H2_PX**2)+(H2_PY**2)+(H2_PZ**2))))+(sqrt((493.677 **2) + ((H3_PX**2)+(H3_PY**2)+(H3_PZ**2)))))**2) - ((sqrt(((H1_PX+H2_PX+H3_PX)**2)+((H1_PY+H2_PY+H3_PY)**2)+((H1_PZ+H2_PZ+H3_PZ)**2)))**2))=5450, c=exponent=-0.262191\n",
            "     p.d.f normalization integral is zero or negative @ x=sqrt((((sqrt((493.677 **2) + ((H1_PX**2)+(H1_PY**2)+(H1_PZ**2))))+(sqrt((493.677 **2) + ((H2_PX**2)+(H2_PY**2)+(H2_PZ**2))))+(sqrt((493.677 **2) + ((H3_PX**2)+(H3_PY**2)+(H3_PZ**2)))))**2) - ((sqrt(((H1_PX+H2_PX+H3_PX)**2)+((H1_PY+H2_PY+H3_PY)**2)+((H1_PZ+H2_PZ+H3_PZ)**2)))**2))=5450, c=exponent=-0.262191\n",
            "     p.d.f normalization integral is zero or negative @ x=sqrt((((sqrt((493.677 **2) + ((H1_PX**2)+(H1_PY**2)+(H1_PZ**2))))+(sqrt((493.677 **2) + ((H2_PX**2)+(H2_PY**2)+(H2_PZ**2))))+(sqrt((493.677 **2) + ((H3_PX**2)+(H3_PY**2)+(H3_PZ**2)))))**2) - ((sqrt(((H1_PX+H2_PX+H3_PX)**2)+((H1_PY+H2_PY+H3_PY)**2)+((H1_PZ+H2_PZ+H3_PZ)**2)))**2))=5450, c=exponent=-0.262191\n",
            "     p.d.f normalization integral is zero or negative @ x=sqrt((((sqrt((493.677 **2) + ((H1_PX**2)+(H1_PY**2)+(H1_PZ**2))))+(sqrt((493.677 **2) + ((H2_PX**2)+(H2_PY**2)+(H2_PZ**2))))+(sqrt((493.677 **2) + ((H3_PX**2)+(H3_PY**2)+(H3_PZ**2)))))**2) - ((sqrt(((H1_PX+H2_PX+H3_PX)**2)+((H1_PY+H2_PY+H3_PY)**2)+((H1_PZ+H2_PZ+H3_PZ)**2)))**2))=5450, c=exponent=-0.262191\n",
            "     p.d.f normalization integral is zero or negative @ x=sqrt((((sqrt((493.677 **2) + ((H1_PX**2)+(H1_PY**2)+(H1_PZ**2))))+(sqrt((493.677 **2) + ((H2_PX**2)+(H2_PY**2)+(H2_PZ**2))))+(sqrt((493.677 **2) + ((H3_PX**2)+(H3_PY**2)+(H3_PZ**2)))))**2) - ((sqrt(((H1_PX+H2_PX+H3_PX)**2)+((H1_PY+H2_PY+H3_PY)**2)+((H1_PZ+H2_PZ+H3_PZ)**2)))**2))=5450, c=exponent=-0.262191\n",
            "     p.d.f normalization integral is zero or negative @ x=sqrt((((sqrt((493.677 **2) + ((H1_PX**2)+(H1_PY**2)+(H1_PZ**2))))+(sqrt((493.677 **2) + ((H2_PX**2)+(H2_PY**2)+(H2_PZ**2))))+(sqrt((493.677 **2) + ((H3_PX**2)+(H3_PY**2)+(H3_PZ**2)))))**2) - ((sqrt(((H1_PX+H2_PX+H3_PX)**2)+((H1_PY+H2_PY+H3_PY)**2)+((H1_PZ+H2_PZ+H3_PZ)**2)))**2))=5450, c=exponent=-0.262191\n",
            "    ... (remaining 1601 messages suppressed)\n",
            "\n",
            "[#0] WARNING:Minization -- RooMinimizerFcn: Minimized function has error status.\n",
            "Returning maximum FCN so far (33437.5) to force MIGRAD to back out of this region. Error log follows\n",
            "Parameter values: Gauss_Norm_Bp=4525.65, Mean=5476.62, Width=6983.4, exp_Norm_Bp=610.248, exponent=1.98714\n",
            "RooAddPdf::Full Model[ Gauss_Norm_Bp * Gaussian Signal + exp_Norm_Bp * Exponential Background ]\n",
            "     p.d.f value is Not-a-Number (-nan), forcing value to zero @ !refCoefNorm=(), !pdfs=(Gaussian Signal = 0.999993/899.371,Exponential Background = inf/-nan), !coefficients=(Gauss_Norm_Bp = 4525.65,exp_Norm_Bp = 610.248)\n",
            "     getLogVal() top-level p.d.f evaluates to zero @ !refCoefNorm=(), !pdfs=(Gaussian Signal = 0.999993/899.371,Exponential Background = inf/-nan), !coefficients=(Gauss_Norm_Bp = 4525.65,exp_Norm_Bp = 610.248)\n",
            "     p.d.f value is Not-a-Number (-nan), forcing value to zero @ !refCoefNorm=(), !pdfs=(Gaussian Signal = 0.999993/899.371,Exponential Background = inf/-nan), !coefficients=(Gauss_Norm_Bp = 4525.65,exp_Norm_Bp = 610.248)\n",
            "     getLogVal() top-level p.d.f evaluates to zero @ !refCoefNorm=(), !pdfs=(Gaussian Signal = 0.999993/899.371,Exponential Background = inf/-nan), !coefficients=(Gauss_Norm_Bp = 4525.65,exp_Norm_Bp = 610.248)\n",
            "     p.d.f value is Not-a-Number (-nan), forcing value to zero @ !refCoefNorm=(), !pdfs=(Gaussian Signal = 0.999993/899.371,Exponential Background = inf/-nan), !coefficients=(Gauss_Norm_Bp = 4525.65,exp_Norm_Bp = 610.248)\n",
            "     getLogVal() top-level p.d.f evaluates to zero @ !refCoefNorm=(), !pdfs=(Gaussian Signal = 0.999993/899.371,Exponential Background = inf/-nan), !coefficients=(Gauss_Norm_Bp = 4525.65,exp_Norm_Bp = 610.248)\n",
            "     p.d.f value is Not-a-Number (-nan), forcing value to zero @ !refCoefNorm=(), !pdfs=(Gaussian Signal = 0.999993/899.371,Exponential Background = inf/-nan), !coefficients=(Gauss_Norm_Bp = 4525.65,exp_Norm_Bp = 610.248)\n",
            "     getLogVal() top-level p.d.f evaluates to zero @ !refCoefNorm=(), !pdfs=(Gaussian Signal = 0.999993/899.371,Exponential Background = inf/-nan), !coefficients=(Gauss_Norm_Bp = 4525.65,exp_Norm_Bp = 610.248)\n",
            "     p.d.f value is Not-a-Number (-nan), forcing value to zero @ !refCoefNorm=(), !pdfs=(Gaussian Signal = 0.999993/899.371,Exponential Background = inf/-nan), !coefficients=(Gauss_Norm_Bp = 4525.65,exp_Norm_Bp = 610.248)\n",
            "     getLogVal() top-level p.d.f evaluates to zero @ !refCoefNorm=(), !pdfs=(Gaussian Signal = 0.999993/899.371,Exponential Background = inf/-nan), !coefficients=(Gauss_Norm_Bp = 4525.65,exp_Norm_Bp = 610.248)\n",
            "     p.d.f value is Not-a-Number (-nan), forcing value to zero @ !refCoefNorm=(), !pdfs=(Gaussian Signal = 0.999993/899.371,Exponential Background = inf/-nan), !coefficients=(Gauss_Norm_Bp = 4525.65,exp_Norm_Bp = 610.248)\n",
            "     getLogVal() top-level p.d.f evaluates to zero @ !refCoefNorm=(), !pdfs=(Gaussian Signal = 0.999993/899.371,Exponential Background = inf/-nan), !coefficients=(Gauss_Norm_Bp = 4525.65,exp_Norm_Bp = 610.248)\n",
            "    ... (remaining 2038 messages suppressed)\n",
            "RooNLLVar::nll_Full Model_Data Set[ paramSet=(Gauss_Norm_Bp,Mean,Width,exp_Norm_Bp,exponent) ]\n",
            "     function value is NAN @ paramSet=(Gauss_Norm_Bp = 4525.65,Mean = 5476.62,Width = 6983.4,exp_Norm_Bp = 610.248,exponent = 1.98714)\n",
            "RooRealIntegral::Exponential Background_Int[sqrt((((sqrt((493.677 **2) + ((H1_PX**2)+(H1_PY**2)+(H1_PZ**2))))+(sqrt((493.677 **2) + ((H2_PX**2)+(H2_PY**2)+(H2_PZ**2))))+(sqrt((493.677 **2) + ((H3_PX**2)+(H3_PY**2)+(H3_PZ**2)))))**2) - ((sqrt(((H1_PX+H2_PX+H3_PX)**2)+((H1_PY+H2_PY+H3_PY)**2)+((H1_PZ+H2_PZ+H3_PZ)**2)))**2))][ Int Exponential Backgroundd[Ana](sqrt((((sqrt((493.677 **2) + ((H1_PX**2)+(H1_PY**2)+(H1_PZ**2))))+(sqrt((493.677 **2) + ((H2_PX**2)+(H2_PY**2)+(H2_PZ**2))))+(sqrt((493.677 **2) + ((H3_PX**2)+(H3_PY**2)+(H3_PZ**2)))))**2) - ((sqrt(((H1_PX+H2_PX+H3_PX)**2)+((H1_PY+H2_PY+H3_PY)**2)+((H1_PZ+H2_PZ+H3_PZ)**2)))**2))) ]\n",
            "     function value is NAN @ !sumList=(), !intList=(), !anaList=(sqrt((((sqrt((493.677 **2) + ((H1_PX**2)+(H1_PY**2)+(H1_PZ**2))))+(sqrt((493.677 **2) + ((H2_PX**2)+(H2_PY**2)+(H2_PZ**2))))+(sqrt((493.677 **2) + ((H3_PX**2)+(H3_PY**2)+(H3_PZ**2)))))**2) - ((sqrt(((H1_PX+H2_PX+H3_PX)**2)+((H1_PY+H2_PY+H3_PY)**2)+((H1_PZ+H2_PZ+H3_PZ)**2)))**2)) = 5450), !jacList=(), !facList=(), !func=Exponential Background=inf/-0, !sumCat=()\n",
            "\n",
            " MIGRAD FAILS TO FIND IMPROVEMENT\n",
            " MIGRAD TERMINATED WITHOUT CONVERGENCE.\n",
            " FCN=765.258 FROM MIGRAD    STATUS=FAILED        178 CALLS         179 TOTAL\n",
            "                     EDM=1.50287e+09    STRATEGY= 1  ERROR MATRIX UNCERTAINTY 100.0 per cent\n",
            "  EXT PARAMETER                APPROXIMATE        STEP         FIRST   \n",
            "  NO.   NAME      VALUE            ERROR          SIZE      DERIVATIVE \n",
            "   1  Gauss_Norm_Bp   7.27943e+01   4.61139e+03  -0.00000e+00   6.39961e+02\n",
            "   2  Mean         5.53196e+03   3.13301e+02   0.00000e+00  -2.34544e+02\n",
            "   3  Width        1.56318e+02   5.95442e+03  -0.00000e+00   6.65042e+02\n",
            "   4  exp_Norm_Bp   1.57878e+03   2.16547e+03  -0.00000e+00   1.22130e+02\n",
            "   5  exponent     1.83279e-03   2.72389e+00  -0.00000e+00   3.45634e+05\n",
            "                               ERR DEF= 0.5\n",
            " EXTERNAL ERROR MATRIX.    NDIM=  25    NPAR=  5    ERR DEF=0.5\n",
            "  1.888e+06  5.550e+02  8.081e-01  1.634e+01  2.043e-04 \n",
            "  5.550e+02  1.163e+05 -1.993e+01 -1.045e+03  6.547e-04 \n",
            "  8.081e-01 -1.993e+01  5.830e+06  3.746e+00  2.296e-05 \n",
            "  1.634e+01 -1.045e+03  3.746e+00  1.414e+07  2.750e-04 \n",
            "  2.043e-04  6.547e-04  2.296e-05  2.750e-04  2.180e+01 \n",
            "ERR MATRIX APPROXIMATE\n",
            " PARAMETER  CORRELATION COEFFICIENTS  \n",
            "       NO.  GLOBAL      1      2      3      4      5\n",
            "        1  0.00118   1.000  0.001  0.000  0.000  0.000\n",
            "        2  0.00144   0.001  1.000 -0.000 -0.001  0.000\n",
            "        3  0.00002   0.000 -0.000  1.000  0.000  0.000\n",
            "        4  0.00081   0.000 -0.001  0.000  1.000  0.000\n",
            "        5  0.00000   0.000  0.000  0.000  0.000  1.000\n",
            " ERR MATRIX APPROXIMATE\n",
            " **********\n",
            " **    7 **SET ERR         0.5\n",
            " **********\n",
            " **********\n",
            " **    8 **SET PRINT           1\n",
            " **********\n",
            " **********\n",
            " **    9 **HESSE        2500\n",
            " **********\n",
            " MINUIT WARNING IN HESSE   \n",
            " ============== Negative diagonal element 1 in Error Matrix\n",
            " MINUIT WARNING IN HESSE   \n",
            " ============== Negative diagonal element 3 in Error Matrix\n",
            " MINUIT WARNING IN HESSE   \n",
            " ============== 3345.08 added to diagonal of error matrix\n",
            " EIGENVALUES OF SECOND-DERIVATIVE MATRIX:\n",
            "        -1.3512e+02  9.5905e-01  1.0262e+00  1.6406e+00  1.3649e+02\n",
            " MINUIT WARNING IN HESSE   \n",
            " ============== MATRIX FORCED POS-DEF BY ADDING 135.253364 TO DIAGONAL.\n",
            " FCN=765.258 FROM HESSE     STATUS=NOT POSDEF     31 CALLS         210 TOTAL\n",
            "                     EDM=1.68619e+06    STRATEGY= 1      ERR MATRIX NOT POS-DEF\n",
            "  EXT PARAMETER                APPROXIMATE     INTERNAL      INTERNAL  \n",
            "  NO.   NAME      VALUE            ERROR       STEP SIZE       VALUE   \n",
            "   1  Gauss_Norm_Bp   7.27943e+01   2.32727e+01   4.06144e-04  -1.81687e+00\n",
            "   2  Mean         5.53196e+03   7.12152e+00   1.41851e-03   2.97482e+03\n",
            "   3  Width        1.56318e+02   5.24432e+03   3.30439e-04  -1.27080e+00\n",
            "   4  exp_Norm_Bp   1.57878e+03   3.65826e+00   5.14791e-04  -2.00022e-02\n",
            "   5  exponent     1.83279e-03   1.54618e-05   9.47570e-07   9.16397e-04\n",
            "                               ERR DEF= 0.5\n",
            " EXTERNAL ERROR MATRIX.    NDIM=  25    NPAR=  5    ERR DEF=0.5\n",
            "  5.419e+02 -1.649e+02  4.598e+04  7.110e+01 -2.868e-04 \n",
            " -1.649e+02  5.072e+01 -1.403e+04 -2.169e+01  8.752e-05 \n",
            "  4.598e+04 -1.403e+04  3.912e+06  6.048e+03 -2.440e-02 \n",
            "  7.110e+01 -2.169e+01  6.048e+03  1.338e+01 -3.773e-05 \n",
            " -2.868e-04  8.752e-05 -2.440e-02 -3.773e-05  2.391e-10 \n",
            "ERR MATRIX NOT POS-DEF\n",
            " PARAMETER  CORRELATION COEFFICIENTS  \n",
            "       NO.  GLOBAL      1      2      3      4      5\n",
            "        1  0.99865   1.000 -0.995  0.999  0.835 -0.797\n",
            "        2  0.99608  -0.995  1.000 -0.996 -0.833  0.795\n",
            "        3  0.99900   0.999 -0.996  1.000  0.836 -0.798\n",
            "        4  0.83592   0.835 -0.833  0.836  1.000 -0.667\n",
            "        5  0.79787  -0.797  0.795 -0.798 -0.667  1.000\n",
            " ERR MATRIX NOT POS-DEF\n",
            "[#1] INFO:Minization -- RooMinimizer::optimizeConst: deactivating const optimization\n",
            "[#1] INFO:Minization -- p.d.f. provides expected number of events, including extended term in likelihood.\n",
            "[#1] INFO:Minization -- RooMinimizer::optimizeConst: activating const optimization\n",
            "[#1] INFO:Minization --  The following expressions will be evaluated in cache-and-track mode: (Gaussian Signal,Exponential Background)\n",
            " **********\n",
            " **   10 **SET PRINT           1\n",
            " **********\n",
            " **********\n",
            " **   11 **SET NOGRAD\n",
            " **********\n",
            " PARAMETER DEFINITIONS:\n",
            "    NO.   NAME         VALUE      STEP SIZE      LIMITS\n",
            "     1 Gauss_Norm_Bm   5.10333e+01  2.55167e+01    0.00000e+00  4.59300e+03\n",
            "     2 Mean         5.53196e+03  7.12152e+00    4.90000e+03  5.90000e+03\n",
            "     3 Width        1.56318e+02  5.24432e+03    0.00000e+00  7.00000e+03\n",
            " MINUIT WARNING IN PARAMETR\n",
            " ============== VARIABLE3 BROUGHT BACK INSIDE LIMITS.\n",
            "     4 exp_Norm_Bm   5.10333e+01  2.55167e+01    0.00000e+00  3.06200e+03\n",
            "     5 exponent     1.83279e-03  1.54618e-05   -2.00000e+00  2.00000e+00\n",
            " **********\n",
            " **   12 **SET ERR         0.5\n",
            " **********\n",
            " **********\n",
            " **   13 **SET PRINT           1\n",
            " **********\n",
            " **********\n",
            " **   14 **SET STR           1\n",
            " **********\n",
            " NOW USING STRATEGY  1: TRY TO BALANCE SPEED AGAINST RELIABILITY\n",
            " **********\n",
            " **   15 **MIGRAD        2500           1\n",
            " **********\n",
            " FIRST CALL TO USER FUNCTION AT NEW START POINT, WITH IFLAG=4.\n",
            " START MIGRAD MINIMIZATION.  STRATEGY  1.  CONVERGENCE WHEN EDM .LT. 1.00e-03\n",
            " FCN=296.05 FROM MIGRAD    STATUS=INITIATE       92 CALLS          93 TOTAL\n",
            "                     EDM= unknown      STRATEGY= 1      NO ERROR MATRIX       \n",
            "  EXT PARAMETER               CURRENT GUESS       STEP         FIRST   \n",
            "  NO.   NAME      VALUE            ERROR          SIZE      DERIVATIVE \n",
            "   1  Gauss_Norm_Bm   3.03498e+02   2.55167e+01   3.08741e-01  -2.54199e+03\n",
            "   2  Mean         5.53196e+03   7.12152e+00   0.00000e+00   6.10876e+03\n",
            "   3  Width        7.96189e+01   5.24432e+03   0.00000e+00  -5.46404e+02\n",
            "   4  exp_Norm_Bm   5.06616e+02   2.55167e+01   0.00000e+00  -1.00455e+02\n",
            "   5  exponent     1.83279e-03   1.54618e-05   0.00000e+00   1.30606e+05\n",
            "                               ERR DEF= 0.5\n",
            " MINUIT WARNING IN MIGRAD  \n",
            " ============== Negative diagonal element 3 in Error Matrix\n",
            " MINUIT WARNING IN MIGRAD  \n",
            " ============== 1 added to diagonal of error matrix\n",
            "[#0] WARNING:Minization -- RooMinimizerFcn: Minimized function has error status.\n",
            "Returning maximum FCN so far (7407.54) to force MIGRAD to back out of this region. Error log follows\n",
            "Parameter values: Gauss_Norm_Bm=4351.51, Mean=5338.59, Width=4987.27, exp_Norm_Bm=2365.83, exponent=1.99037\n",
            "RooNLLVar::nll_Full Model_Data Set[ paramSet=(Gauss_Norm_Bm,Mean,Width,exp_Norm_Bm,exponent) ]\n",
            "     function value is NAN @ paramSet=(Gauss_Norm_Bm = 4351.51,Mean = 5338.59 +/- 7.12152,Width = 4987.27 +/- 5244.32,exp_Norm_Bm = 2365.83,exponent = 1.99037 +/- 1.54618e-05)\n",
            "RooAddPdf::Full Model[ Gauss_Norm_Bm * Gaussian Signal + exp_Norm_Bm * Exponential Background ]\n",
            "     p.d.f value is Not-a-Number (-nan), forcing value to zero @ !refCoefNorm=(), !pdfs=(Gaussian Signal = 0.999751/898.557,Exponential Background = inf/-nan), !coefficients=(Gauss_Norm_Bm = 4351.51,exp_Norm_Bm = 2365.83)\n",
            "     getLogVal() top-level p.d.f evaluates to zero @ !refCoefNorm=(), !pdfs=(Gaussian Signal = 0.999751/898.557,Exponential Background = inf/-nan), !coefficients=(Gauss_Norm_Bm = 4351.51,exp_Norm_Bm = 2365.83)\n",
            "     p.d.f value is Not-a-Number (-nan), forcing value to zero @ !refCoefNorm=(), !pdfs=(Gaussian Signal = 0.999751/898.557,Exponential Background = inf/-nan), !coefficients=(Gauss_Norm_Bm = 4351.51,exp_Norm_Bm = 2365.83)\n",
            "     getLogVal() top-level p.d.f evaluates to zero @ !refCoefNorm=(), !pdfs=(Gaussian Signal = 0.999751/898.557,Exponential Background = inf/-nan), !coefficients=(Gauss_Norm_Bm = 4351.51,exp_Norm_Bm = 2365.83)\n",
            "     p.d.f value is Not-a-Number (-nan), forcing value to zero @ !refCoefNorm=(), !pdfs=(Gaussian Signal = 0.999751/898.557,Exponential Background = inf/-nan), !coefficients=(Gauss_Norm_Bm = 4351.51,exp_Norm_Bm = 2365.83)\n",
            "     getLogVal() top-level p.d.f evaluates to zero @ !refCoefNorm=(), !pdfs=(Gaussian Signal = 0.999751/898.557,Exponential Background = inf/-nan), !coefficients=(Gauss_Norm_Bm = 4351.51,exp_Norm_Bm = 2365.83)\n",
            "     p.d.f value is Not-a-Number (-nan), forcing value to zero @ !refCoefNorm=(), !pdfs=(Gaussian Signal = 0.999751/898.557,Exponential Background = inf/-nan), !coefficients=(Gauss_Norm_Bm = 4351.51,exp_Norm_Bm = 2365.83)\n",
            "     getLogVal() top-level p.d.f evaluates to zero @ !refCoefNorm=(), !pdfs=(Gaussian Signal = 0.999751/898.557,Exponential Background = inf/-nan), !coefficients=(Gauss_Norm_Bm = 4351.51,exp_Norm_Bm = 2365.83)\n",
            "     p.d.f value is Not-a-Number (-nan), forcing value to zero @ !refCoefNorm=(), !pdfs=(Gaussian Signal = 0.999751/898.557,Exponential Background = inf/-nan), !coefficients=(Gauss_Norm_Bm = 4351.51,exp_Norm_Bm = 2365.83)\n",
            "     getLogVal() top-level p.d.f evaluates to zero @ !refCoefNorm=(), !pdfs=(Gaussian Signal = 0.999751/898.557,Exponential Background = inf/-nan), !coefficients=(Gauss_Norm_Bm = 4351.51,exp_Norm_Bm = 2365.83)\n",
            "     p.d.f value is Not-a-Number (-nan), forcing value to zero @ !refCoefNorm=(), !pdfs=(Gaussian Signal = 0.999751/898.557,Exponential Background = inf/-nan), !coefficients=(Gauss_Norm_Bm = 4351.51,exp_Norm_Bm = 2365.83)\n",
            "     getLogVal() top-level p.d.f evaluates to zero @ !refCoefNorm=(), !pdfs=(Gaussian Signal = 0.999751/898.557,Exponential Background = inf/-nan), !coefficients=(Gauss_Norm_Bm = 4351.51,exp_Norm_Bm = 2365.83)\n",
            "    ... (remaining 2038 messages suppressed)\n",
            "RooRealIntegral::Exponential Background_Int[sqrt((((sqrt((493.677 **2) + ((H1_PX**2)+(H1_PY**2)+(H1_PZ**2))))+(sqrt((493.677 **2) + ((H2_PX**2)+(H2_PY**2)+(H2_PZ**2))))+(sqrt((493.677 **2) + ((H3_PX**2)+(H3_PY**2)+(H3_PZ**2)))))**2) - ((sqrt(((H1_PX+H2_PX+H3_PX)**2)+((H1_PY+H2_PY+H3_PY)**2)+((H1_PZ+H2_PZ+H3_PZ)**2)))**2))][ Int Exponential Backgroundd[Ana](sqrt((((sqrt((493.677 **2) + ((H1_PX**2)+(H1_PY**2)+(H1_PZ**2))))+(sqrt((493.677 **2) + ((H2_PX**2)+(H2_PY**2)+(H2_PZ**2))))+(sqrt((493.677 **2) + ((H3_PX**2)+(H3_PY**2)+(H3_PZ**2)))))**2) - ((sqrt(((H1_PX+H2_PX+H3_PX)**2)+((H1_PY+H2_PY+H3_PY)**2)+((H1_PZ+H2_PZ+H3_PZ)**2)))**2))) ]\n",
            "     function value is NAN @ !sumList=(), !intList=(), !anaList=(sqrt((((sqrt((493.677 **2) + ((H1_PX**2)+(H1_PY**2)+(H1_PZ**2))))+(sqrt((493.677 **2) + ((H2_PX**2)+(H2_PY**2)+(H2_PZ**2))))+(sqrt((493.677 **2) + ((H3_PX**2)+(H3_PY**2)+(H3_PZ**2)))))**2) - ((sqrt(((H1_PX+H2_PX+H3_PX)**2)+((H1_PY+H2_PY+H3_PY)**2)+((H1_PZ+H2_PZ+H3_PZ)**2)))**2)) = 5450), !jacList=(), !facList=(), !func=Exponential Background=inf/5.23789e-08, !sumCat=()\n",
            "\n",
            "[#0] WARNING:Minization -- RooMinimizerFcn: Minimized function has error status.\n",
            "Returning maximum FCN so far (7407.54) to force MIGRAD to back out of this region. Error log follows\n",
            "Parameter values: Gauss_Norm_Bm=4542.38, Mean=4901.89, Width=5305.47, exp_Norm_Bm=1954.53, exponent=-1.48044\n",
            "RooExponential::Exponential Background[ x=sqrt((((sqrt((493.677 **2) + ((H1_PX**2)+(H1_PY**2)+(H1_PZ**2))))+(sqrt((493.677 **2) + ((H2_PX**2)+(H2_PY**2)+(H2_PZ**2))))+(sqrt((493.677 **2) + ((H3_PX**2)+(H3_PY**2)+(H3_PZ**2)))))**2) - ((sqrt(((H1_PX+H2_PX+H3_PX)**2)+((H1_PY+H2_PY+H3_PY)**2)+((H1_PZ+H2_PZ+H3_PZ)**2)))**2)) c=exponent ]\n",
            "     p.d.f normalization integral is zero or negative @ x=sqrt((((sqrt((493.677 **2) + ((H1_PX**2)+(H1_PY**2)+(H1_PZ**2))))+(sqrt((493.677 **2) + ((H2_PX**2)+(H2_PY**2)+(H2_PZ**2))))+(sqrt((493.677 **2) + ((H3_PX**2)+(H3_PY**2)+(H3_PZ**2)))))**2) - ((sqrt(((H1_PX+H2_PX+H3_PX)**2)+((H1_PY+H2_PY+H3_PY)**2)+((H1_PZ+H2_PZ+H3_PZ)**2)))**2))=5450, c=exponent=-1.48044 +/- 1.54618e-05\n",
            "     p.d.f normalization integral is zero or negative @ x=sqrt((((sqrt((493.677 **2) + ((H1_PX**2)+(H1_PY**2)+(H1_PZ**2))))+(sqrt((493.677 **2) + ((H2_PX**2)+(H2_PY**2)+(H2_PZ**2))))+(sqrt((493.677 **2) + ((H3_PX**2)+(H3_PY**2)+(H3_PZ**2)))))**2) - ((sqrt(((H1_PX+H2_PX+H3_PX)**2)+((H1_PY+H2_PY+H3_PY)**2)+((H1_PZ+H2_PZ+H3_PZ)**2)))**2))=5450, c=exponent=-1.48044 +/- 1.54618e-05\n",
            "     p.d.f normalization integral is zero or negative @ x=sqrt((((sqrt((493.677 **2) + ((H1_PX**2)+(H1_PY**2)+(H1_PZ**2))))+(sqrt((493.677 **2) + ((H2_PX**2)+(H2_PY**2)+(H2_PZ**2))))+(sqrt((493.677 **2) + ((H3_PX**2)+(H3_PY**2)+(H3_PZ**2)))))**2) - ((sqrt(((H1_PX+H2_PX+H3_PX)**2)+((H1_PY+H2_PY+H3_PY)**2)+((H1_PZ+H2_PZ+H3_PZ)**2)))**2))=5450, c=exponent=-1.48044 +/- 1.54618e-05\n",
            "     p.d.f normalization integral is zero or negative @ x=sqrt((((sqrt((493.677 **2) + ((H1_PX**2)+(H1_PY**2)+(H1_PZ**2))))+(sqrt((493.677 **2) + ((H2_PX**2)+(H2_PY**2)+(H2_PZ**2))))+(sqrt((493.677 **2) + ((H3_PX**2)+(H3_PY**2)+(H3_PZ**2)))))**2) - ((sqrt(((H1_PX+H2_PX+H3_PX)**2)+((H1_PY+H2_PY+H3_PY)**2)+((H1_PZ+H2_PZ+H3_PZ)**2)))**2))=5450, c=exponent=-1.48044 +/- 1.54618e-05\n",
            "     p.d.f normalization integral is zero or negative @ x=sqrt((((sqrt((493.677 **2) + ((H1_PX**2)+(H1_PY**2)+(H1_PZ**2))))+(sqrt((493.677 **2) + ((H2_PX**2)+(H2_PY**2)+(H2_PZ**2))))+(sqrt((493.677 **2) + ((H3_PX**2)+(H3_PY**2)+(H3_PZ**2)))))**2) - ((sqrt(((H1_PX+H2_PX+H3_PX)**2)+((H1_PY+H2_PY+H3_PY)**2)+((H1_PZ+H2_PZ+H3_PZ)**2)))**2))=5450, c=exponent=-1.48044 +/- 1.54618e-05\n",
            "     p.d.f normalization integral is zero or negative @ x=sqrt((((sqrt((493.677 **2) + ((H1_PX**2)+(H1_PY**2)+(H1_PZ**2))))+(sqrt((493.677 **2) + ((H2_PX**2)+(H2_PY**2)+(H2_PZ**2))))+(sqrt((493.677 **2) + ((H3_PX**2)+(H3_PY**2)+(H3_PZ**2)))))**2) - ((sqrt(((H1_PX+H2_PX+H3_PX)**2)+((H1_PY+H2_PY+H3_PY)**2)+((H1_PZ+H2_PZ+H3_PZ)**2)))**2))=5450, c=exponent=-1.48044 +/- 1.54618e-05\n",
            "     p.d.f normalization integral is zero or negative @ x=sqrt((((sqrt((493.677 **2) + ((H1_PX**2)+(H1_PY**2)+(H1_PZ**2))))+(sqrt((493.677 **2) + ((H2_PX**2)+(H2_PY**2)+(H2_PZ**2))))+(sqrt((493.677 **2) + ((H3_PX**2)+(H3_PY**2)+(H3_PZ**2)))))**2) - ((sqrt(((H1_PX+H2_PX+H3_PX)**2)+((H1_PY+H2_PY+H3_PY)**2)+((H1_PZ+H2_PZ+H3_PZ)**2)))**2))=5450, c=exponent=-1.48044 +/- 1.54618e-05\n",
            "     p.d.f normalization integral is zero or negative @ x=sqrt((((sqrt((493.677 **2) + ((H1_PX**2)+(H1_PY**2)+(H1_PZ**2))))+(sqrt((493.677 **2) + ((H2_PX**2)+(H2_PY**2)+(H2_PZ**2))))+(sqrt((493.677 **2) + ((H3_PX**2)+(H3_PY**2)+(H3_PZ**2)))))**2) - ((sqrt(((H1_PX+H2_PX+H3_PX)**2)+((H1_PY+H2_PY+H3_PY)**2)+((H1_PZ+H2_PZ+H3_PZ)**2)))**2))=5450, c=exponent=-1.48044 +/- 1.54618e-05\n",
            "     p.d.f normalization integral is zero or negative @ x=sqrt((((sqrt((493.677 **2) + ((H1_PX**2)+(H1_PY**2)+(H1_PZ**2))))+(sqrt((493.677 **2) + ((H2_PX**2)+(H2_PY**2)+(H2_PZ**2))))+(sqrt((493.677 **2) + ((H3_PX**2)+(H3_PY**2)+(H3_PZ**2)))))**2) - ((sqrt(((H1_PX+H2_PX+H3_PX)**2)+((H1_PY+H2_PY+H3_PY)**2)+((H1_PZ+H2_PZ+H3_PZ)**2)))**2))=5450, c=exponent=-1.48044 +/- 1.54618e-05\n",
            "     p.d.f normalization integral is zero or negative @ x=sqrt((((sqrt((493.677 **2) + ((H1_PX**2)+(H1_PY**2)+(H1_PZ**2))))+(sqrt((493.677 **2) + ((H2_PX**2)+(H2_PY**2)+(H2_PZ**2))))+(sqrt((493.677 **2) + ((H3_PX**2)+(H3_PY**2)+(H3_PZ**2)))))**2) - ((sqrt(((H1_PX+H2_PX+H3_PX)**2)+((H1_PY+H2_PY+H3_PY)**2)+((H1_PZ+H2_PZ+H3_PZ)**2)))**2))=5450, c=exponent=-1.48044 +/- 1.54618e-05\n",
            "     p.d.f normalization integral is zero or negative @ x=sqrt((((sqrt((493.677 **2) + ((H1_PX**2)+(H1_PY**2)+(H1_PZ**2))))+(sqrt((493.677 **2) + ((H2_PX**2)+(H2_PY**2)+(H2_PZ**2))))+(sqrt((493.677 **2) + ((H3_PX**2)+(H3_PY**2)+(H3_PZ**2)))))**2) - ((sqrt(((H1_PX+H2_PX+H3_PX)**2)+((H1_PY+H2_PY+H3_PY)**2)+((H1_PZ+H2_PZ+H3_PZ)**2)))**2))=5450, c=exponent=-1.48044 +/- 1.54618e-05\n",
            "     p.d.f normalization integral is zero or negative @ x=sqrt((((sqrt((493.677 **2) + ((H1_PX**2)+(H1_PY**2)+(H1_PZ**2))))+(sqrt((493.677 **2) + ((H2_PX**2)+(H2_PY**2)+(H2_PZ**2))))+(sqrt((493.677 **2) + ((H3_PX**2)+(H3_PY**2)+(H3_PZ**2)))))**2) - ((sqrt(((H1_PX+H2_PX+H3_PX)**2)+((H1_PY+H2_PY+H3_PY)**2)+((H1_PZ+H2_PZ+H3_PZ)**2)))**2))=5450, c=exponent=-1.48044 +/- 1.54618e-05\n",
            "    ... (remaining 1521 messages suppressed)\n",
            "\n",
            "[#0] WARNING:Minization -- RooMinimizerFcn: Minimized function has error status.\n",
            "Returning maximum FCN so far (7407.54) to force MIGRAD to back out of this region. Error log follows\n",
            "Parameter values: Gauss_Norm_Bm=4258.05, Mean=5071.57, Width=5294.53, exp_Norm_Bm=1329.38, exponent=1.82974\n",
            "RooNLLVar::nll_Full Model_Data Set[ paramSet=(Gauss_Norm_Bm,Mean,Width,exp_Norm_Bm,exponent) ]\n",
            "     function value is NAN @ paramSet=(Gauss_Norm_Bm = 4258.05,Mean = 5071.57 +/- 7.12152,Width = 5294.53 +/- 5244.32,exp_Norm_Bm = 1329.38,exponent = 1.82974 +/- 1.54618e-05)\n",
            "RooAddPdf::Full Model[ Gauss_Norm_Bm * Gaussian Signal + exp_Norm_Bm * Exponential Background ]\n",
            "     p.d.f value is Not-a-Number (-nan), forcing value to zero @ !refCoefNorm=(), !pdfs=(Gaussian Signal = 0.997449/896.63,Exponential Background = inf/-nan), !coefficients=(Gauss_Norm_Bm = 4258.05,exp_Norm_Bm = 1329.38)\n",
            "     getLogVal() top-level p.d.f evaluates to zero @ !refCoefNorm=(), !pdfs=(Gaussian Signal = 0.997449/896.63,Exponential Background = inf/-nan), !coefficients=(Gauss_Norm_Bm = 4258.05,exp_Norm_Bm = 1329.38)\n",
            "     p.d.f value is Not-a-Number (-nan), forcing value to zero @ !refCoefNorm=(), !pdfs=(Gaussian Signal = 0.997449/896.63,Exponential Background = inf/-nan), !coefficients=(Gauss_Norm_Bm = 4258.05,exp_Norm_Bm = 1329.38)\n",
            "     getLogVal() top-level p.d.f evaluates to zero @ !refCoefNorm=(), !pdfs=(Gaussian Signal = 0.997449/896.63,Exponential Background = inf/-nan), !coefficients=(Gauss_Norm_Bm = 4258.05,exp_Norm_Bm = 1329.38)\n",
            "     p.d.f value is Not-a-Number (-nan), forcing value to zero @ !refCoefNorm=(), !pdfs=(Gaussian Signal = 0.997449/896.63,Exponential Background = inf/-nan), !coefficients=(Gauss_Norm_Bm = 4258.05,exp_Norm_Bm = 1329.38)\n",
            "     getLogVal() top-level p.d.f evaluates to zero @ !refCoefNorm=(), !pdfs=(Gaussian Signal = 0.997449/896.63,Exponential Background = inf/-nan), !coefficients=(Gauss_Norm_Bm = 4258.05,exp_Norm_Bm = 1329.38)\n",
            "     p.d.f value is Not-a-Number (-nan), forcing value to zero @ !refCoefNorm=(), !pdfs=(Gaussian Signal = 0.997449/896.63,Exponential Background = inf/-nan), !coefficients=(Gauss_Norm_Bm = 4258.05,exp_Norm_Bm = 1329.38)\n",
            "     getLogVal() top-level p.d.f evaluates to zero @ !refCoefNorm=(), !pdfs=(Gaussian Signal = 0.997449/896.63,Exponential Background = inf/-nan), !coefficients=(Gauss_Norm_Bm = 4258.05,exp_Norm_Bm = 1329.38)\n",
            "     p.d.f value is Not-a-Number (-nan), forcing value to zero @ !refCoefNorm=(), !pdfs=(Gaussian Signal = 0.997449/896.63,Exponential Background = inf/-nan), !coefficients=(Gauss_Norm_Bm = 4258.05,exp_Norm_Bm = 1329.38)\n",
            "     getLogVal() top-level p.d.f evaluates to zero @ !refCoefNorm=(), !pdfs=(Gaussian Signal = 0.997449/896.63,Exponential Background = inf/-nan), !coefficients=(Gauss_Norm_Bm = 4258.05,exp_Norm_Bm = 1329.38)\n",
            "     p.d.f value is Not-a-Number (-nan), forcing value to zero @ !refCoefNorm=(), !pdfs=(Gaussian Signal = 0.997449/896.63,Exponential Background = inf/-nan), !coefficients=(Gauss_Norm_Bm = 4258.05,exp_Norm_Bm = 1329.38)\n",
            "     getLogVal() top-level p.d.f evaluates to zero @ !refCoefNorm=(), !pdfs=(Gaussian Signal = 0.997449/896.63,Exponential Background = inf/-nan), !coefficients=(Gauss_Norm_Bm = 4258.05,exp_Norm_Bm = 1329.38)\n",
            "    ... (remaining 2038 messages suppressed)\n",
            "RooRealIntegral::Exponential Background_Int[sqrt((((sqrt((493.677 **2) + ((H1_PX**2)+(H1_PY**2)+(H1_PZ**2))))+(sqrt((493.677 **2) + ((H2_PX**2)+(H2_PY**2)+(H2_PZ**2))))+(sqrt((493.677 **2) + ((H3_PX**2)+(H3_PY**2)+(H3_PZ**2)))))**2) - ((sqrt(((H1_PX+H2_PX+H3_PX)**2)+((H1_PY+H2_PY+H3_PY)**2)+((H1_PZ+H2_PZ+H3_PZ)**2)))**2))][ Int Exponential Backgroundd[Ana](sqrt((((sqrt((493.677 **2) + ((H1_PX**2)+(H1_PY**2)+(H1_PZ**2))))+(sqrt((493.677 **2) + ((H2_PX**2)+(H2_PY**2)+(H2_PZ**2))))+(sqrt((493.677 **2) + ((H3_PX**2)+(H3_PY**2)+(H3_PZ**2)))))**2) - ((sqrt(((H1_PX+H2_PX+H3_PX)**2)+((H1_PY+H2_PY+H3_PY)**2)+((H1_PZ+H2_PZ+H3_PZ)**2)))**2))) ]\n",
            "     function value is NAN @ !sumList=(), !intList=(), !anaList=(sqrt((((sqrt((493.677 **2) + ((H1_PX**2)+(H1_PY**2)+(H1_PZ**2))))+(sqrt((493.677 **2) + ((H2_PX**2)+(H2_PY**2)+(H2_PZ**2))))+(sqrt((493.677 **2) + ((H3_PX**2)+(H3_PY**2)+(H3_PZ**2)))))**2) - ((sqrt(((H1_PX+H2_PX+H3_PX)**2)+((H1_PY+H2_PY+H3_PY)**2)+((H1_PZ+H2_PZ+H3_PZ)**2)))**2)) = 5450), !jacList=(), !facList=(), !func=Exponential Background=inf/-0, !sumCat=()\n",
            "\n",
            "[#0] WARNING:Minization -- RooMinimizerFcn: Minimized function has error status.\n",
            "Returning maximum FCN so far (7407.54) to force MIGRAD to back out of this region. Error log follows\n",
            "Parameter values: Gauss_Norm_Bm=562.658, Mean=5236.55, Width=5154.19, exp_Norm_Bm=2.57129, exponent=-1.67436\n",
            "RooExponential::Exponential Background[ x=sqrt((((sqrt((493.677 **2) + ((H1_PX**2)+(H1_PY**2)+(H1_PZ**2))))+(sqrt((493.677 **2) + ((H2_PX**2)+(H2_PY**2)+(H2_PZ**2))))+(sqrt((493.677 **2) + ((H3_PX**2)+(H3_PY**2)+(H3_PZ**2)))))**2) - ((sqrt(((H1_PX+H2_PX+H3_PX)**2)+((H1_PY+H2_PY+H3_PY)**2)+((H1_PZ+H2_PZ+H3_PZ)**2)))**2)) c=exponent ]\n",
            "     p.d.f normalization integral is zero or negative @ x=sqrt((((sqrt((493.677 **2) + ((H1_PX**2)+(H1_PY**2)+(H1_PZ**2))))+(sqrt((493.677 **2) + ((H2_PX**2)+(H2_PY**2)+(H2_PZ**2))))+(sqrt((493.677 **2) + ((H3_PX**2)+(H3_PY**2)+(H3_PZ**2)))))**2) - ((sqrt(((H1_PX+H2_PX+H3_PX)**2)+((H1_PY+H2_PY+H3_PY)**2)+((H1_PZ+H2_PZ+H3_PZ)**2)))**2))=5450, c=exponent=-1.67436 +/- 1.54618e-05\n",
            "     p.d.f normalization integral is zero or negative @ x=sqrt((((sqrt((493.677 **2) + ((H1_PX**2)+(H1_PY**2)+(H1_PZ**2))))+(sqrt((493.677 **2) + ((H2_PX**2)+(H2_PY**2)+(H2_PZ**2))))+(sqrt((493.677 **2) + ((H3_PX**2)+(H3_PY**2)+(H3_PZ**2)))))**2) - ((sqrt(((H1_PX+H2_PX+H3_PX)**2)+((H1_PY+H2_PY+H3_PY)**2)+((H1_PZ+H2_PZ+H3_PZ)**2)))**2))=5450, c=exponent=-1.67436 +/- 1.54618e-05\n",
            "     p.d.f normalization integral is zero or negative @ x=sqrt((((sqrt((493.677 **2) + ((H1_PX**2)+(H1_PY**2)+(H1_PZ**2))))+(sqrt((493.677 **2) + ((H2_PX**2)+(H2_PY**2)+(H2_PZ**2))))+(sqrt((493.677 **2) + ((H3_PX**2)+(H3_PY**2)+(H3_PZ**2)))))**2) - ((sqrt(((H1_PX+H2_PX+H3_PX)**2)+((H1_PY+H2_PY+H3_PY)**2)+((H1_PZ+H2_PZ+H3_PZ)**2)))**2))=5450, c=exponent=-1.67436 +/- 1.54618e-05\n",
            "     p.d.f normalization integral is zero or negative @ x=sqrt((((sqrt((493.677 **2) + ((H1_PX**2)+(H1_PY**2)+(H1_PZ**2))))+(sqrt((493.677 **2) + ((H2_PX**2)+(H2_PY**2)+(H2_PZ**2))))+(sqrt((493.677 **2) + ((H3_PX**2)+(H3_PY**2)+(H3_PZ**2)))))**2) - ((sqrt(((H1_PX+H2_PX+H3_PX)**2)+((H1_PY+H2_PY+H3_PY)**2)+((H1_PZ+H2_PZ+H3_PZ)**2)))**2))=5450, c=exponent=-1.67436 +/- 1.54618e-05\n",
            "     p.d.f normalization integral is zero or negative @ x=sqrt((((sqrt((493.677 **2) + ((H1_PX**2)+(H1_PY**2)+(H1_PZ**2))))+(sqrt((493.677 **2) + ((H2_PX**2)+(H2_PY**2)+(H2_PZ**2))))+(sqrt((493.677 **2) + ((H3_PX**2)+(H3_PY**2)+(H3_PZ**2)))))**2) - ((sqrt(((H1_PX+H2_PX+H3_PX)**2)+((H1_PY+H2_PY+H3_PY)**2)+((H1_PZ+H2_PZ+H3_PZ)**2)))**2))=5450, c=exponent=-1.67436 +/- 1.54618e-05\n",
            "     p.d.f normalization integral is zero or negative @ x=sqrt((((sqrt((493.677 **2) + ((H1_PX**2)+(H1_PY**2)+(H1_PZ**2))))+(sqrt((493.677 **2) + ((H2_PX**2)+(H2_PY**2)+(H2_PZ**2))))+(sqrt((493.677 **2) + ((H3_PX**2)+(H3_PY**2)+(H3_PZ**2)))))**2) - ((sqrt(((H1_PX+H2_PX+H3_PX)**2)+((H1_PY+H2_PY+H3_PY)**2)+((H1_PZ+H2_PZ+H3_PZ)**2)))**2))=5450, c=exponent=-1.67436 +/- 1.54618e-05\n",
            "     p.d.f normalization integral is zero or negative @ x=sqrt((((sqrt((493.677 **2) + ((H1_PX**2)+(H1_PY**2)+(H1_PZ**2))))+(sqrt((493.677 **2) + ((H2_PX**2)+(H2_PY**2)+(H2_PZ**2))))+(sqrt((493.677 **2) + ((H3_PX**2)+(H3_PY**2)+(H3_PZ**2)))))**2) - ((sqrt(((H1_PX+H2_PX+H3_PX)**2)+((H1_PY+H2_PY+H3_PY)**2)+((H1_PZ+H2_PZ+H3_PZ)**2)))**2))=5450, c=exponent=-1.67436 +/- 1.54618e-05\n",
            "     p.d.f normalization integral is zero or negative @ x=sqrt((((sqrt((493.677 **2) + ((H1_PX**2)+(H1_PY**2)+(H1_PZ**2))))+(sqrt((493.677 **2) + ((H2_PX**2)+(H2_PY**2)+(H2_PZ**2))))+(sqrt((493.677 **2) + ((H3_PX**2)+(H3_PY**2)+(H3_PZ**2)))))**2) - ((sqrt(((H1_PX+H2_PX+H3_PX)**2)+((H1_PY+H2_PY+H3_PY)**2)+((H1_PZ+H2_PZ+H3_PZ)**2)))**2))=5450, c=exponent=-1.67436 +/- 1.54618e-05\n",
            "     p.d.f normalization integral is zero or negative @ x=sqrt((((sqrt((493.677 **2) + ((H1_PX**2)+(H1_PY**2)+(H1_PZ**2))))+(sqrt((493.677 **2) + ((H2_PX**2)+(H2_PY**2)+(H2_PZ**2))))+(sqrt((493.677 **2) + ((H3_PX**2)+(H3_PY**2)+(H3_PZ**2)))))**2) - ((sqrt(((H1_PX+H2_PX+H3_PX)**2)+((H1_PY+H2_PY+H3_PY)**2)+((H1_PZ+H2_PZ+H3_PZ)**2)))**2))=5450, c=exponent=-1.67436 +/- 1.54618e-05\n",
            "     p.d.f normalization integral is zero or negative @ x=sqrt((((sqrt((493.677 **2) + ((H1_PX**2)+(H1_PY**2)+(H1_PZ**2))))+(sqrt((493.677 **2) + ((H2_PX**2)+(H2_PY**2)+(H2_PZ**2))))+(sqrt((493.677 **2) + ((H3_PX**2)+(H3_PY**2)+(H3_PZ**2)))))**2) - ((sqrt(((H1_PX+H2_PX+H3_PX)**2)+((H1_PY+H2_PY+H3_PY)**2)+((H1_PZ+H2_PZ+H3_PZ)**2)))**2))=5450, c=exponent=-1.67436 +/- 1.54618e-05\n",
            "     p.d.f normalization integral is zero or negative @ x=sqrt((((sqrt((493.677 **2) + ((H1_PX**2)+(H1_PY**2)+(H1_PZ**2))))+(sqrt((493.677 **2) + ((H2_PX**2)+(H2_PY**2)+(H2_PZ**2))))+(sqrt((493.677 **2) + ((H3_PX**2)+(H3_PY**2)+(H3_PZ**2)))))**2) - ((sqrt(((H1_PX+H2_PX+H3_PX)**2)+((H1_PY+H2_PY+H3_PY)**2)+((H1_PZ+H2_PZ+H3_PZ)**2)))**2))=5450, c=exponent=-1.67436 +/- 1.54618e-05\n",
            "     p.d.f normalization integral is zero or negative @ x=sqrt((((sqrt((493.677 **2) + ((H1_PX**2)+(H1_PY**2)+(H1_PZ**2))))+(sqrt((493.677 **2) + ((H2_PX**2)+(H2_PY**2)+(H2_PZ**2))))+(sqrt((493.677 **2) + ((H3_PX**2)+(H3_PY**2)+(H3_PZ**2)))))**2) - ((sqrt(((H1_PX+H2_PX+H3_PX)**2)+((H1_PY+H2_PY+H3_PY)**2)+((H1_PZ+H2_PZ+H3_PZ)**2)))**2))=5450, c=exponent=-1.67436 +/- 1.54618e-05\n",
            "    ... (remaining 1521 messages suppressed)\n",
            "\n",
            "[#0] WARNING:Minization -- RooMinimizerFcn: Minimized function has error status.\n",
            "Returning maximum FCN so far (7407.54) to force MIGRAD to back out of this region. Error log follows\n",
            "Parameter values: Gauss_Norm_Bm=650.235, Mean=5329.63, Width=5368.68, exp_Norm_Bm=2590.71, exponent=1.75997\n",
            "RooNLLVar::nll_Full Model_Data Set[ paramSet=(Gauss_Norm_Bm,Mean,Width,exp_Norm_Bm,exponent) ]\n",
            "     function value is NAN @ paramSet=(Gauss_Norm_Bm = 650.235,Mean = 5329.63 +/- 7.12152,Width = 5368.68 +/- 5244.32,exp_Norm_Bm = 2590.71,exponent = 1.75997 +/- 1.54618e-05)\n",
            "RooAddPdf::Full Model[ Gauss_Norm_Bm * Gaussian Signal + exp_Norm_Bm * Exponential Background ]\n",
            "     p.d.f value is Not-a-Number (-nan), forcing value to zero @ !refCoefNorm=(), !pdfs=(Gaussian Signal = 0.999749/898.722,Exponential Background = inf/-nan), !coefficients=(Gauss_Norm_Bm = 650.235,exp_Norm_Bm = 2590.71)\n",
            "     getLogVal() top-level p.d.f evaluates to zero @ !refCoefNorm=(), !pdfs=(Gaussian Signal = 0.999749/898.722,Exponential Background = inf/-nan), !coefficients=(Gauss_Norm_Bm = 650.235,exp_Norm_Bm = 2590.71)\n",
            "     p.d.f value is Not-a-Number (-nan), forcing value to zero @ !refCoefNorm=(), !pdfs=(Gaussian Signal = 0.999749/898.722,Exponential Background = inf/-nan), !coefficients=(Gauss_Norm_Bm = 650.235,exp_Norm_Bm = 2590.71)\n",
            "     getLogVal() top-level p.d.f evaluates to zero @ !refCoefNorm=(), !pdfs=(Gaussian Signal = 0.999749/898.722,Exponential Background = inf/-nan), !coefficients=(Gauss_Norm_Bm = 650.235,exp_Norm_Bm = 2590.71)\n",
            "     p.d.f value is Not-a-Number (-nan), forcing value to zero @ !refCoefNorm=(), !pdfs=(Gaussian Signal = 0.999749/898.722,Exponential Background = inf/-nan), !coefficients=(Gauss_Norm_Bm = 650.235,exp_Norm_Bm = 2590.71)\n",
            "     getLogVal() top-level p.d.f evaluates to zero @ !refCoefNorm=(), !pdfs=(Gaussian Signal = 0.999749/898.722,Exponential Background = inf/-nan), !coefficients=(Gauss_Norm_Bm = 650.235,exp_Norm_Bm = 2590.71)\n",
            "     p.d.f value is Not-a-Number (-nan), forcing value to zero @ !refCoefNorm=(), !pdfs=(Gaussian Signal = 0.999749/898.722,Exponential Background = inf/-nan), !coefficients=(Gauss_Norm_Bm = 650.235,exp_Norm_Bm = 2590.71)\n",
            "     getLogVal() top-level p.d.f evaluates to zero @ !refCoefNorm=(), !pdfs=(Gaussian Signal = 0.999749/898.722,Exponential Background = inf/-nan), !coefficients=(Gauss_Norm_Bm = 650.235,exp_Norm_Bm = 2590.71)\n",
            "     p.d.f value is Not-a-Number (-nan), forcing value to zero @ !refCoefNorm=(), !pdfs=(Gaussian Signal = 0.999749/898.722,Exponential Background = inf/-nan), !coefficients=(Gauss_Norm_Bm = 650.235,exp_Norm_Bm = 2590.71)\n",
            "     getLogVal() top-level p.d.f evaluates to zero @ !refCoefNorm=(), !pdfs=(Gaussian Signal = 0.999749/898.722,Exponential Background = inf/-nan), !coefficients=(Gauss_Norm_Bm = 650.235,exp_Norm_Bm = 2590.71)\n",
            "     p.d.f value is Not-a-Number (-nan), forcing value to zero @ !refCoefNorm=(), !pdfs=(Gaussian Signal = 0.999749/898.722,Exponential Background = inf/-nan), !coefficients=(Gauss_Norm_Bm = 650.235,exp_Norm_Bm = 2590.71)\n",
            "     getLogVal() top-level p.d.f evaluates to zero @ !refCoefNorm=(), !pdfs=(Gaussian Signal = 0.999749/898.722,Exponential Background = inf/-nan), !coefficients=(Gauss_Norm_Bm = 650.235,exp_Norm_Bm = 2590.71)\n",
            "    ... (remaining 2038 messages suppressed)\n",
            "RooRealIntegral::Exponential Background_Int[sqrt((((sqrt((493.677 **2) + ((H1_PX**2)+(H1_PY**2)+(H1_PZ**2))))+(sqrt((493.677 **2) + ((H2_PX**2)+(H2_PY**2)+(H2_PZ**2))))+(sqrt((493.677 **2) + ((H3_PX**2)+(H3_PY**2)+(H3_PZ**2)))))**2) - ((sqrt(((H1_PX+H2_PX+H3_PX)**2)+((H1_PY+H2_PY+H3_PY)**2)+((H1_PZ+H2_PZ+H3_PZ)**2)))**2))][ Int Exponential Backgroundd[Ana](sqrt((((sqrt((493.677 **2) + ((H1_PX**2)+(H1_PY**2)+(H1_PZ**2))))+(sqrt((493.677 **2) + ((H2_PX**2)+(H2_PY**2)+(H2_PZ**2))))+(sqrt((493.677 **2) + ((H3_PX**2)+(H3_PY**2)+(H3_PZ**2)))))**2) - ((sqrt(((H1_PX+H2_PX+H3_PX)**2)+((H1_PY+H2_PY+H3_PY)**2)+((H1_PZ+H2_PZ+H3_PZ)**2)))**2))) ]\n",
            "     function value is NAN @ !sumList=(), !intList=(), !anaList=(sqrt((((sqrt((493.677 **2) + ((H1_PX**2)+(H1_PY**2)+(H1_PZ**2))))+(sqrt((493.677 **2) + ((H2_PX**2)+(H2_PY**2)+(H2_PZ**2))))+(sqrt((493.677 **2) + ((H3_PX**2)+(H3_PY**2)+(H3_PZ**2)))))**2) - ((sqrt(((H1_PX+H2_PX+H3_PX)**2)+((H1_PY+H2_PY+H3_PY)**2)+((H1_PZ+H2_PZ+H3_PZ)**2)))**2)) = 5450), !jacList=(), !facList=(), !func=Exponential Background=inf/-0, !sumCat=()\n",
            "\n",
            "[#0] WARNING:Minization -- RooMinimizerFcn: Minimized function has error status.\n",
            "Returning maximum FCN so far (7407.54) to force MIGRAD to back out of this region. Error log follows\n",
            "Parameter values: Gauss_Norm_Bm=2424.93, Mean=5422.64, Width=5115.72, exp_Norm_Bm=2946.85, exponent=-1.71644\n",
            "RooExponential::Exponential Background[ x=sqrt((((sqrt((493.677 **2) + ((H1_PX**2)+(H1_PY**2)+(H1_PZ**2))))+(sqrt((493.677 **2) + ((H2_PX**2)+(H2_PY**2)+(H2_PZ**2))))+(sqrt((493.677 **2) + ((H3_PX**2)+(H3_PY**2)+(H3_PZ**2)))))**2) - ((sqrt(((H1_PX+H2_PX+H3_PX)**2)+((H1_PY+H2_PY+H3_PY)**2)+((H1_PZ+H2_PZ+H3_PZ)**2)))**2)) c=exponent ]\n",
            "     p.d.f normalization integral is zero or negative @ x=sqrt((((sqrt((493.677 **2) + ((H1_PX**2)+(H1_PY**2)+(H1_PZ**2))))+(sqrt((493.677 **2) + ((H2_PX**2)+(H2_PY**2)+(H2_PZ**2))))+(sqrt((493.677 **2) + ((H3_PX**2)+(H3_PY**2)+(H3_PZ**2)))))**2) - ((sqrt(((H1_PX+H2_PX+H3_PX)**2)+((H1_PY+H2_PY+H3_PY)**2)+((H1_PZ+H2_PZ+H3_PZ)**2)))**2))=5450, c=exponent=-1.71644 +/- 1.54618e-05\n",
            "     p.d.f normalization integral is zero or negative @ x=sqrt((((sqrt((493.677 **2) + ((H1_PX**2)+(H1_PY**2)+(H1_PZ**2))))+(sqrt((493.677 **2) + ((H2_PX**2)+(H2_PY**2)+(H2_PZ**2))))+(sqrt((493.677 **2) + ((H3_PX**2)+(H3_PY**2)+(H3_PZ**2)))))**2) - ((sqrt(((H1_PX+H2_PX+H3_PX)**2)+((H1_PY+H2_PY+H3_PY)**2)+((H1_PZ+H2_PZ+H3_PZ)**2)))**2))=5450, c=exponent=-1.71644 +/- 1.54618e-05\n",
            "     p.d.f normalization integral is zero or negative @ x=sqrt((((sqrt((493.677 **2) + ((H1_PX**2)+(H1_PY**2)+(H1_PZ**2))))+(sqrt((493.677 **2) + ((H2_PX**2)+(H2_PY**2)+(H2_PZ**2))))+(sqrt((493.677 **2) + ((H3_PX**2)+(H3_PY**2)+(H3_PZ**2)))))**2) - ((sqrt(((H1_PX+H2_PX+H3_PX)**2)+((H1_PY+H2_PY+H3_PY)**2)+((H1_PZ+H2_PZ+H3_PZ)**2)))**2))=5450, c=exponent=-1.71644 +/- 1.54618e-05\n",
            "     p.d.f normalization integral is zero or negative @ x=sqrt((((sqrt((493.677 **2) + ((H1_PX**2)+(H1_PY**2)+(H1_PZ**2))))+(sqrt((493.677 **2) + ((H2_PX**2)+(H2_PY**2)+(H2_PZ**2))))+(sqrt((493.677 **2) + ((H3_PX**2)+(H3_PY**2)+(H3_PZ**2)))))**2) - ((sqrt(((H1_PX+H2_PX+H3_PX)**2)+((H1_PY+H2_PY+H3_PY)**2)+((H1_PZ+H2_PZ+H3_PZ)**2)))**2))=5450, c=exponent=-1.71644 +/- 1.54618e-05\n",
            "     p.d.f normalization integral is zero or negative @ x=sqrt((((sqrt((493.677 **2) + ((H1_PX**2)+(H1_PY**2)+(H1_PZ**2))))+(sqrt((493.677 **2) + ((H2_PX**2)+(H2_PY**2)+(H2_PZ**2))))+(sqrt((493.677 **2) + ((H3_PX**2)+(H3_PY**2)+(H3_PZ**2)))))**2) - ((sqrt(((H1_PX+H2_PX+H3_PX)**2)+((H1_PY+H2_PY+H3_PY)**2)+((H1_PZ+H2_PZ+H3_PZ)**2)))**2))=5450, c=exponent=-1.71644 +/- 1.54618e-05\n",
            "     p.d.f normalization integral is zero or negative @ x=sqrt((((sqrt((493.677 **2) + ((H1_PX**2)+(H1_PY**2)+(H1_PZ**2))))+(sqrt((493.677 **2) + ((H2_PX**2)+(H2_PY**2)+(H2_PZ**2))))+(sqrt((493.677 **2) + ((H3_PX**2)+(H3_PY**2)+(H3_PZ**2)))))**2) - ((sqrt(((H1_PX+H2_PX+H3_PX)**2)+((H1_PY+H2_PY+H3_PY)**2)+((H1_PZ+H2_PZ+H3_PZ)**2)))**2))=5450, c=exponent=-1.71644 +/- 1.54618e-05\n",
            "     p.d.f normalization integral is zero or negative @ x=sqrt((((sqrt((493.677 **2) + ((H1_PX**2)+(H1_PY**2)+(H1_PZ**2))))+(sqrt((493.677 **2) + ((H2_PX**2)+(H2_PY**2)+(H2_PZ**2))))+(sqrt((493.677 **2) + ((H3_PX**2)+(H3_PY**2)+(H3_PZ**2)))))**2) - ((sqrt(((H1_PX+H2_PX+H3_PX)**2)+((H1_PY+H2_PY+H3_PY)**2)+((H1_PZ+H2_PZ+H3_PZ)**2)))**2))=5450, c=exponent=-1.71644 +/- 1.54618e-05\n",
            "     p.d.f normalization integral is zero or negative @ x=sqrt((((sqrt((493.677 **2) + ((H1_PX**2)+(H1_PY**2)+(H1_PZ**2))))+(sqrt((493.677 **2) + ((H2_PX**2)+(H2_PY**2)+(H2_PZ**2))))+(sqrt((493.677 **2) + ((H3_PX**2)+(H3_PY**2)+(H3_PZ**2)))))**2) - ((sqrt(((H1_PX+H2_PX+H3_PX)**2)+((H1_PY+H2_PY+H3_PY)**2)+((H1_PZ+H2_PZ+H3_PZ)**2)))**2))=5450, c=exponent=-1.71644 +/- 1.54618e-05\n",
            "     p.d.f normalization integral is zero or negative @ x=sqrt((((sqrt((493.677 **2) + ((H1_PX**2)+(H1_PY**2)+(H1_PZ**2))))+(sqrt((493.677 **2) + ((H2_PX**2)+(H2_PY**2)+(H2_PZ**2))))+(sqrt((493.677 **2) + ((H3_PX**2)+(H3_PY**2)+(H3_PZ**2)))))**2) - ((sqrt(((H1_PX+H2_PX+H3_PX)**2)+((H1_PY+H2_PY+H3_PY)**2)+((H1_PZ+H2_PZ+H3_PZ)**2)))**2))=5450, c=exponent=-1.71644 +/- 1.54618e-05\n",
            "     p.d.f normalization integral is zero or negative @ x=sqrt((((sqrt((493.677 **2) + ((H1_PX**2)+(H1_PY**2)+(H1_PZ**2))))+(sqrt((493.677 **2) + ((H2_PX**2)+(H2_PY**2)+(H2_PZ**2))))+(sqrt((493.677 **2) + ((H3_PX**2)+(H3_PY**2)+(H3_PZ**2)))))**2) - ((sqrt(((H1_PX+H2_PX+H3_PX)**2)+((H1_PY+H2_PY+H3_PY)**2)+((H1_PZ+H2_PZ+H3_PZ)**2)))**2))=5450, c=exponent=-1.71644 +/- 1.54618e-05\n",
            "     p.d.f normalization integral is zero or negative @ x=sqrt((((sqrt((493.677 **2) + ((H1_PX**2)+(H1_PY**2)+(H1_PZ**2))))+(sqrt((493.677 **2) + ((H2_PX**2)+(H2_PY**2)+(H2_PZ**2))))+(sqrt((493.677 **2) + ((H3_PX**2)+(H3_PY**2)+(H3_PZ**2)))))**2) - ((sqrt(((H1_PX+H2_PX+H3_PX)**2)+((H1_PY+H2_PY+H3_PY)**2)+((H1_PZ+H2_PZ+H3_PZ)**2)))**2))=5450, c=exponent=-1.71644 +/- 1.54618e-05\n",
            "     p.d.f normalization integral is zero or negative @ x=sqrt((((sqrt((493.677 **2) + ((H1_PX**2)+(H1_PY**2)+(H1_PZ**2))))+(sqrt((493.677 **2) + ((H2_PX**2)+(H2_PY**2)+(H2_PZ**2))))+(sqrt((493.677 **2) + ((H3_PX**2)+(H3_PY**2)+(H3_PZ**2)))))**2) - ((sqrt(((H1_PX+H2_PX+H3_PX)**2)+((H1_PY+H2_PY+H3_PY)**2)+((H1_PZ+H2_PZ+H3_PZ)**2)))**2))=5450, c=exponent=-1.71644 +/- 1.54618e-05\n",
            "    ... (remaining 1521 messages suppressed)\n",
            "\n",
            "[#0] WARNING:Minization -- RooMinimizerFcn: Minimized function has error status.\n",
            "Returning maximum FCN so far (7407.54) to force MIGRAD to back out of this region. Error log follows\n",
            "Parameter values: Gauss_Norm_Bm=113.503, Mean=4900, Width=1612.96, exp_Norm_Bm=2372.8, exponent=-1.74078\n",
            "RooExponential::Exponential Background[ x=sqrt((((sqrt((493.677 **2) + ((H1_PX**2)+(H1_PY**2)+(H1_PZ**2))))+(sqrt((493.677 **2) + ((H2_PX**2)+(H2_PY**2)+(H2_PZ**2))))+(sqrt((493.677 **2) + ((H3_PX**2)+(H3_PY**2)+(H3_PZ**2)))))**2) - ((sqrt(((H1_PX+H2_PX+H3_PX)**2)+((H1_PY+H2_PY+H3_PY)**2)+((H1_PZ+H2_PZ+H3_PZ)**2)))**2)) c=exponent ]\n",
            "     p.d.f normalization integral is zero or negative @ x=sqrt((((sqrt((493.677 **2) + ((H1_PX**2)+(H1_PY**2)+(H1_PZ**2))))+(sqrt((493.677 **2) + ((H2_PX**2)+(H2_PY**2)+(H2_PZ**2))))+(sqrt((493.677 **2) + ((H3_PX**2)+(H3_PY**2)+(H3_PZ**2)))))**2) - ((sqrt(((H1_PX+H2_PX+H3_PX)**2)+((H1_PY+H2_PY+H3_PY)**2)+((H1_PZ+H2_PZ+H3_PZ)**2)))**2))=5450, c=exponent=-1.74078 +/- 1.54618e-05\n",
            "     p.d.f normalization integral is zero or negative @ x=sqrt((((sqrt((493.677 **2) + ((H1_PX**2)+(H1_PY**2)+(H1_PZ**2))))+(sqrt((493.677 **2) + ((H2_PX**2)+(H2_PY**2)+(H2_PZ**2))))+(sqrt((493.677 **2) + ((H3_PX**2)+(H3_PY**2)+(H3_PZ**2)))))**2) - ((sqrt(((H1_PX+H2_PX+H3_PX)**2)+((H1_PY+H2_PY+H3_PY)**2)+((H1_PZ+H2_PZ+H3_PZ)**2)))**2))=5450, c=exponent=-1.74078 +/- 1.54618e-05\n",
            "     p.d.f normalization integral is zero or negative @ x=sqrt((((sqrt((493.677 **2) + ((H1_PX**2)+(H1_PY**2)+(H1_PZ**2))))+(sqrt((493.677 **2) + ((H2_PX**2)+(H2_PY**2)+(H2_PZ**2))))+(sqrt((493.677 **2) + ((H3_PX**2)+(H3_PY**2)+(H3_PZ**2)))))**2) - ((sqrt(((H1_PX+H2_PX+H3_PX)**2)+((H1_PY+H2_PY+H3_PY)**2)+((H1_PZ+H2_PZ+H3_PZ)**2)))**2))=5450, c=exponent=-1.74078 +/- 1.54618e-05\n",
            "     p.d.f normalization integral is zero or negative @ x=sqrt((((sqrt((493.677 **2) + ((H1_PX**2)+(H1_PY**2)+(H1_PZ**2))))+(sqrt((493.677 **2) + ((H2_PX**2)+(H2_PY**2)+(H2_PZ**2))))+(sqrt((493.677 **2) + ((H3_PX**2)+(H3_PY**2)+(H3_PZ**2)))))**2) - ((sqrt(((H1_PX+H2_PX+H3_PX)**2)+((H1_PY+H2_PY+H3_PY)**2)+((H1_PZ+H2_PZ+H3_PZ)**2)))**2))=5450, c=exponent=-1.74078 +/- 1.54618e-05\n",
            "     p.d.f normalization integral is zero or negative @ x=sqrt((((sqrt((493.677 **2) + ((H1_PX**2)+(H1_PY**2)+(H1_PZ**2))))+(sqrt((493.677 **2) + ((H2_PX**2)+(H2_PY**2)+(H2_PZ**2))))+(sqrt((493.677 **2) + ((H3_PX**2)+(H3_PY**2)+(H3_PZ**2)))))**2) - ((sqrt(((H1_PX+H2_PX+H3_PX)**2)+((H1_PY+H2_PY+H3_PY)**2)+((H1_PZ+H2_PZ+H3_PZ)**2)))**2))=5450, c=exponent=-1.74078 +/- 1.54618e-05\n",
            "     p.d.f normalization integral is zero or negative @ x=sqrt((((sqrt((493.677 **2) + ((H1_PX**2)+(H1_PY**2)+(H1_PZ**2))))+(sqrt((493.677 **2) + ((H2_PX**2)+(H2_PY**2)+(H2_PZ**2))))+(sqrt((493.677 **2) + ((H3_PX**2)+(H3_PY**2)+(H3_PZ**2)))))**2) - ((sqrt(((H1_PX+H2_PX+H3_PX)**2)+((H1_PY+H2_PY+H3_PY)**2)+((H1_PZ+H2_PZ+H3_PZ)**2)))**2))=5450, c=exponent=-1.74078 +/- 1.54618e-05\n",
            "     p.d.f normalization integral is zero or negative @ x=sqrt((((sqrt((493.677 **2) + ((H1_PX**2)+(H1_PY**2)+(H1_PZ**2))))+(sqrt((493.677 **2) + ((H2_PX**2)+(H2_PY**2)+(H2_PZ**2))))+(sqrt((493.677 **2) + ((H3_PX**2)+(H3_PY**2)+(H3_PZ**2)))))**2) - ((sqrt(((H1_PX+H2_PX+H3_PX)**2)+((H1_PY+H2_PY+H3_PY)**2)+((H1_PZ+H2_PZ+H3_PZ)**2)))**2))=5450, c=exponent=-1.74078 +/- 1.54618e-05\n",
            "     p.d.f normalization integral is zero or negative @ x=sqrt((((sqrt((493.677 **2) + ((H1_PX**2)+(H1_PY**2)+(H1_PZ**2))))+(sqrt((493.677 **2) + ((H2_PX**2)+(H2_PY**2)+(H2_PZ**2))))+(sqrt((493.677 **2) + ((H3_PX**2)+(H3_PY**2)+(H3_PZ**2)))))**2) - ((sqrt(((H1_PX+H2_PX+H3_PX)**2)+((H1_PY+H2_PY+H3_PY)**2)+((H1_PZ+H2_PZ+H3_PZ)**2)))**2))=5450, c=exponent=-1.74078 +/- 1.54618e-05\n",
            "     p.d.f normalization integral is zero or negative @ x=sqrt((((sqrt((493.677 **2) + ((H1_PX**2)+(H1_PY**2)+(H1_PZ**2))))+(sqrt((493.677 **2) + ((H2_PX**2)+(H2_PY**2)+(H2_PZ**2))))+(sqrt((493.677 **2) + ((H3_PX**2)+(H3_PY**2)+(H3_PZ**2)))))**2) - ((sqrt(((H1_PX+H2_PX+H3_PX)**2)+((H1_PY+H2_PY+H3_PY)**2)+((H1_PZ+H2_PZ+H3_PZ)**2)))**2))=5450, c=exponent=-1.74078 +/- 1.54618e-05\n",
            "     p.d.f normalization integral is zero or negative @ x=sqrt((((sqrt((493.677 **2) + ((H1_PX**2)+(H1_PY**2)+(H1_PZ**2))))+(sqrt((493.677 **2) + ((H2_PX**2)+(H2_PY**2)+(H2_PZ**2))))+(sqrt((493.677 **2) + ((H3_PX**2)+(H3_PY**2)+(H3_PZ**2)))))**2) - ((sqrt(((H1_PX+H2_PX+H3_PX)**2)+((H1_PY+H2_PY+H3_PY)**2)+((H1_PZ+H2_PZ+H3_PZ)**2)))**2))=5450, c=exponent=-1.74078 +/- 1.54618e-05\n",
            "     p.d.f normalization integral is zero or negative @ x=sqrt((((sqrt((493.677 **2) + ((H1_PX**2)+(H1_PY**2)+(H1_PZ**2))))+(sqrt((493.677 **2) + ((H2_PX**2)+(H2_PY**2)+(H2_PZ**2))))+(sqrt((493.677 **2) + ((H3_PX**2)+(H3_PY**2)+(H3_PZ**2)))))**2) - ((sqrt(((H1_PX+H2_PX+H3_PX)**2)+((H1_PY+H2_PY+H3_PY)**2)+((H1_PZ+H2_PZ+H3_PZ)**2)))**2))=5450, c=exponent=-1.74078 +/- 1.54618e-05\n",
            "     p.d.f normalization integral is zero or negative @ x=sqrt((((sqrt((493.677 **2) + ((H1_PX**2)+(H1_PY**2)+(H1_PZ**2))))+(sqrt((493.677 **2) + ((H2_PX**2)+(H2_PY**2)+(H2_PZ**2))))+(sqrt((493.677 **2) + ((H3_PX**2)+(H3_PY**2)+(H3_PZ**2)))))**2) - ((sqrt(((H1_PX+H2_PX+H3_PX)**2)+((H1_PY+H2_PY+H3_PY)**2)+((H1_PZ+H2_PZ+H3_PZ)**2)))**2))=5450, c=exponent=-1.74078 +/- 1.54618e-05\n",
            "    ... (remaining 1521 messages suppressed)\n",
            "\n",
            "[#0] WARNING:Minization -- RooMinimizerFcn: Minimized function has error status.\n",
            "Returning maximum FCN so far (7407.54) to force MIGRAD to back out of this region. Error log follows\n",
            "Parameter values: Gauss_Norm_Bm=2939.65, Mean=5744.01, Width=6609.75, exp_Norm_Bm=1958.53, exponent=1.00949\n",
            "RooNLLVar::nll_Full Model_Data Set[ paramSet=(Gauss_Norm_Bm,Mean,Width,exp_Norm_Bm,exponent) ]\n",
            "     function value is NAN @ paramSet=(Gauss_Norm_Bm = 2939.65,Mean = 5744.01 +/- 7.12152,Width = 6609.75 +/- 5244.32,exp_Norm_Bm = 1958.53,exponent = 1.00949 +/- 1.54618e-05)\n",
            "RooAddPdf::Full Model[ Gauss_Norm_Bm * Gaussian Signal + exp_Norm_Bm * Exponential Background ]\n",
            "     p.d.f value is Not-a-Number (-nan), forcing value to zero @ !refCoefNorm=(), !pdfs=(Gaussian Signal = 0.999011/898.417,Exponential Background = inf/-nan), !coefficients=(Gauss_Norm_Bm = 2939.65,exp_Norm_Bm = 1958.53)\n",
            "     getLogVal() top-level p.d.f evaluates to zero @ !refCoefNorm=(), !pdfs=(Gaussian Signal = 0.999011/898.417,Exponential Background = inf/-nan), !coefficients=(Gauss_Norm_Bm = 2939.65,exp_Norm_Bm = 1958.53)\n",
            "     p.d.f value is Not-a-Number (-nan), forcing value to zero @ !refCoefNorm=(), !pdfs=(Gaussian Signal = 0.999011/898.417,Exponential Background = inf/-nan), !coefficients=(Gauss_Norm_Bm = 2939.65,exp_Norm_Bm = 1958.53)\n",
            "     getLogVal() top-level p.d.f evaluates to zero @ !refCoefNorm=(), !pdfs=(Gaussian Signal = 0.999011/898.417,Exponential Background = inf/-nan), !coefficients=(Gauss_Norm_Bm = 2939.65,exp_Norm_Bm = 1958.53)\n",
            "     p.d.f value is Not-a-Number (-nan), forcing value to zero @ !refCoefNorm=(), !pdfs=(Gaussian Signal = 0.999011/898.417,Exponential Background = inf/-nan), !coefficients=(Gauss_Norm_Bm = 2939.65,exp_Norm_Bm = 1958.53)\n",
            "     getLogVal() top-level p.d.f evaluates to zero @ !refCoefNorm=(), !pdfs=(Gaussian Signal = 0.999011/898.417,Exponential Background = inf/-nan), !coefficients=(Gauss_Norm_Bm = 2939.65,exp_Norm_Bm = 1958.53)\n",
            "     p.d.f value is Not-a-Number (-nan), forcing value to zero @ !refCoefNorm=(), !pdfs=(Gaussian Signal = 0.999011/898.417,Exponential Background = inf/-nan), !coefficients=(Gauss_Norm_Bm = 2939.65,exp_Norm_Bm = 1958.53)\n",
            "     getLogVal() top-level p.d.f evaluates to zero @ !refCoefNorm=(), !pdfs=(Gaussian Signal = 0.999011/898.417,Exponential Background = inf/-nan), !coefficients=(Gauss_Norm_Bm = 2939.65,exp_Norm_Bm = 1958.53)\n",
            "     p.d.f value is Not-a-Number (-nan), forcing value to zero @ !refCoefNorm=(), !pdfs=(Gaussian Signal = 0.999011/898.417,Exponential Background = inf/-nan), !coefficients=(Gauss_Norm_Bm = 2939.65,exp_Norm_Bm = 1958.53)\n",
            "     getLogVal() top-level p.d.f evaluates to zero @ !refCoefNorm=(), !pdfs=(Gaussian Signal = 0.999011/898.417,Exponential Background = inf/-nan), !coefficients=(Gauss_Norm_Bm = 2939.65,exp_Norm_Bm = 1958.53)\n",
            "     p.d.f value is Not-a-Number (-nan), forcing value to zero @ !refCoefNorm=(), !pdfs=(Gaussian Signal = 0.999011/898.417,Exponential Background = inf/-nan), !coefficients=(Gauss_Norm_Bm = 2939.65,exp_Norm_Bm = 1958.53)\n",
            "     getLogVal() top-level p.d.f evaluates to zero @ !refCoefNorm=(), !pdfs=(Gaussian Signal = 0.999011/898.417,Exponential Background = inf/-nan), !coefficients=(Gauss_Norm_Bm = 2939.65,exp_Norm_Bm = 1958.53)\n",
            "    ... (remaining 2038 messages suppressed)\n",
            "RooRealIntegral::Exponential Background_Int[sqrt((((sqrt((493.677 **2) + ((H1_PX**2)+(H1_PY**2)+(H1_PZ**2))))+(sqrt((493.677 **2) + ((H2_PX**2)+(H2_PY**2)+(H2_PZ**2))))+(sqrt((493.677 **2) + ((H3_PX**2)+(H3_PY**2)+(H3_PZ**2)))))**2) - ((sqrt(((H1_PX+H2_PX+H3_PX)**2)+((H1_PY+H2_PY+H3_PY)**2)+((H1_PZ+H2_PZ+H3_PZ)**2)))**2))][ Int Exponential Backgroundd[Ana](sqrt((((sqrt((493.677 **2) + ((H1_PX**2)+(H1_PY**2)+(H1_PZ**2))))+(sqrt((493.677 **2) + ((H2_PX**2)+(H2_PY**2)+(H2_PZ**2))))+(sqrt((493.677 **2) + ((H3_PX**2)+(H3_PY**2)+(H3_PZ**2)))))**2) - ((sqrt(((H1_PX+H2_PX+H3_PX)**2)+((H1_PY+H2_PY+H3_PY)**2)+((H1_PZ+H2_PZ+H3_PZ)**2)))**2))) ]\n",
            "     function value is NAN @ !sumList=(), !intList=(), !anaList=(sqrt((((sqrt((493.677 **2) + ((H1_PX**2)+(H1_PY**2)+(H1_PZ**2))))+(sqrt((493.677 **2) + ((H2_PX**2)+(H2_PY**2)+(H2_PZ**2))))+(sqrt((493.677 **2) + ((H3_PX**2)+(H3_PY**2)+(H3_PZ**2)))))**2) - ((sqrt(((H1_PX+H2_PX+H3_PX)**2)+((H1_PY+H2_PY+H3_PY)**2)+((H1_PZ+H2_PZ+H3_PZ)**2)))**2)) = 5450), !jacList=(), !facList=(), !func=Exponential Background=inf/-0, !sumCat=()\n",
            "\n",
            "[#0] WARNING:Minization -- RooMinimizerFcn: Minimized function has error status.\n",
            "Returning maximum FCN so far (7407.54) to force MIGRAD to back out of this region. Error log follows\n",
            "Parameter values: Gauss_Norm_Bm=46.5843, Mean=4931.02, Width=4244.7, exp_Norm_Bm=1327.32, exponent=1.92985\n",
            "RooNLLVar::nll_Full Model_Data Set[ paramSet=(Gauss_Norm_Bm,Mean,Width,exp_Norm_Bm,exponent) ]\n",
            "     function value is NAN @ paramSet=(Gauss_Norm_Bm = 46.5843,Mean = 4931.02 +/- 7.12152,Width = 4244.7 +/- 5244.32,exp_Norm_Bm = 1327.32,exponent = 1.92985 +/- 1.54618e-05)\n",
            "RooAddPdf::Full Model[ Gauss_Norm_Bm * Gaussian Signal + exp_Norm_Bm * Exponential Background ]\n",
            "     p.d.f value is Not-a-Number (-nan), forcing value to zero @ !refCoefNorm=(), !pdfs=(Gaussian Signal = 0.992553/891.652,Exponential Background = inf/-nan), !coefficients=(Gauss_Norm_Bm = 46.5843,exp_Norm_Bm = 1327.32)\n",
            "     getLogVal() top-level p.d.f evaluates to zero @ !refCoefNorm=(), !pdfs=(Gaussian Signal = 0.992553/891.652,Exponential Background = inf/-nan), !coefficients=(Gauss_Norm_Bm = 46.5843,exp_Norm_Bm = 1327.32)\n",
            "     p.d.f value is Not-a-Number (-nan), forcing value to zero @ !refCoefNorm=(), !pdfs=(Gaussian Signal = 0.992553/891.652,Exponential Background = inf/-nan), !coefficients=(Gauss_Norm_Bm = 46.5843,exp_Norm_Bm = 1327.32)\n",
            "     getLogVal() top-level p.d.f evaluates to zero @ !refCoefNorm=(), !pdfs=(Gaussian Signal = 0.992553/891.652,Exponential Background = inf/-nan), !coefficients=(Gauss_Norm_Bm = 46.5843,exp_Norm_Bm = 1327.32)\n",
            "     p.d.f value is Not-a-Number (-nan), forcing value to zero @ !refCoefNorm=(), !pdfs=(Gaussian Signal = 0.992553/891.652,Exponential Background = inf/-nan), !coefficients=(Gauss_Norm_Bm = 46.5843,exp_Norm_Bm = 1327.32)\n",
            "     getLogVal() top-level p.d.f evaluates to zero @ !refCoefNorm=(), !pdfs=(Gaussian Signal = 0.992553/891.652,Exponential Background = inf/-nan), !coefficients=(Gauss_Norm_Bm = 46.5843,exp_Norm_Bm = 1327.32)\n",
            "     p.d.f value is Not-a-Number (-nan), forcing value to zero @ !refCoefNorm=(), !pdfs=(Gaussian Signal = 0.992553/891.652,Exponential Background = inf/-nan), !coefficients=(Gauss_Norm_Bm = 46.5843,exp_Norm_Bm = 1327.32)\n",
            "     getLogVal() top-level p.d.f evaluates to zero @ !refCoefNorm=(), !pdfs=(Gaussian Signal = 0.992553/891.652,Exponential Background = inf/-nan), !coefficients=(Gauss_Norm_Bm = 46.5843,exp_Norm_Bm = 1327.32)\n",
            "     p.d.f value is Not-a-Number (-nan), forcing value to zero @ !refCoefNorm=(), !pdfs=(Gaussian Signal = 0.992553/891.652,Exponential Background = inf/-nan), !coefficients=(Gauss_Norm_Bm = 46.5843,exp_Norm_Bm = 1327.32)\n",
            "     getLogVal() top-level p.d.f evaluates to zero @ !refCoefNorm=(), !pdfs=(Gaussian Signal = 0.992553/891.652,Exponential Background = inf/-nan), !coefficients=(Gauss_Norm_Bm = 46.5843,exp_Norm_Bm = 1327.32)\n",
            "     p.d.f value is Not-a-Number (-nan), forcing value to zero @ !refCoefNorm=(), !pdfs=(Gaussian Signal = 0.992553/891.652,Exponential Background = inf/-nan), !coefficients=(Gauss_Norm_Bm = 46.5843,exp_Norm_Bm = 1327.32)\n",
            "     getLogVal() top-level p.d.f evaluates to zero @ !refCoefNorm=(), !pdfs=(Gaussian Signal = 0.992553/891.652,Exponential Background = inf/-nan), !coefficients=(Gauss_Norm_Bm = 46.5843,exp_Norm_Bm = 1327.32)\n",
            "    ... (remaining 2038 messages suppressed)\n",
            "RooRealIntegral::Exponential Background_Int[sqrt((((sqrt((493.677 **2) + ((H1_PX**2)+(H1_PY**2)+(H1_PZ**2))))+(sqrt((493.677 **2) + ((H2_PX**2)+(H2_PY**2)+(H2_PZ**2))))+(sqrt((493.677 **2) + ((H3_PX**2)+(H3_PY**2)+(H3_PZ**2)))))**2) - ((sqrt(((H1_PX+H2_PX+H3_PX)**2)+((H1_PY+H2_PY+H3_PY)**2)+((H1_PZ+H2_PZ+H3_PZ)**2)))**2))][ Int Exponential Backgroundd[Ana](sqrt((((sqrt((493.677 **2) + ((H1_PX**2)+(H1_PY**2)+(H1_PZ**2))))+(sqrt((493.677 **2) + ((H2_PX**2)+(H2_PY**2)+(H2_PZ**2))))+(sqrt((493.677 **2) + ((H3_PX**2)+(H3_PY**2)+(H3_PZ**2)))))**2) - ((sqrt(((H1_PX+H2_PX+H3_PX)**2)+((H1_PY+H2_PY+H3_PY)**2)+((H1_PZ+H2_PZ+H3_PZ)**2)))**2))) ]\n",
            "     function value is NAN @ !sumList=(), !intList=(), !anaList=(sqrt((((sqrt((493.677 **2) + ((H1_PX**2)+(H1_PY**2)+(H1_PZ**2))))+(sqrt((493.677 **2) + ((H2_PX**2)+(H2_PY**2)+(H2_PZ**2))))+(sqrt((493.677 **2) + ((H3_PX**2)+(H3_PY**2)+(H3_PZ**2)))))**2) - ((sqrt(((H1_PX+H2_PX+H3_PX)**2)+((H1_PY+H2_PY+H3_PY)**2)+((H1_PZ+H2_PZ+H3_PZ)**2)))**2)) = 5450), !jacList=(), !facList=(), !func=Exponential Background=inf/-nan, !sumCat=()\n",
            "\n",
            "[#0] WARNING:Minization -- RooMinimizerFcn: Minimized function has error status.\n",
            "Returning maximum FCN so far (7407.54) to force MIGRAD to back out of this region. Error log follows\n",
            "Parameter values: Gauss_Norm_Bm=1528.85, Mean=4997.07, Width=5760.5, exp_Norm_Bm=2.63193, exponent=1.21274\n",
            "RooNLLVar::nll_Full Model_Data Set[ paramSet=(Gauss_Norm_Bm,Mean,Width,exp_Norm_Bm,exponent) ]\n",
            "     function value is NAN @ paramSet=(Gauss_Norm_Bm = 1528.85,Mean = 4997.07 +/- 7.12152,Width = 5760.5 +/- 5244.32,exp_Norm_Bm = 2.63193,exponent = 1.21274 +/- 1.54618e-05)\n",
            "RooAddPdf::Full Model[ Gauss_Norm_Bm * Gaussian Signal + exp_Norm_Bm * Exponential Background ]\n",
            "     p.d.f value is Not-a-Number (-nan), forcing value to zero @ !refCoefNorm=(), !pdfs=(Gaussian Signal = 0.996914/896.316,Exponential Background = inf/-nan), !coefficients=(Gauss_Norm_Bm = 1528.85,exp_Norm_Bm = 2.63193)\n",
            "     getLogVal() top-level p.d.f evaluates to zero @ !refCoefNorm=(), !pdfs=(Gaussian Signal = 0.996914/896.316,Exponential Background = inf/-nan), !coefficients=(Gauss_Norm_Bm = 1528.85,exp_Norm_Bm = 2.63193)\n",
            "     p.d.f value is Not-a-Number (-nan), forcing value to zero @ !refCoefNorm=(), !pdfs=(Gaussian Signal = 0.996914/896.316,Exponential Background = inf/-nan), !coefficients=(Gauss_Norm_Bm = 1528.85,exp_Norm_Bm = 2.63193)\n",
            "     getLogVal() top-level p.d.f evaluates to zero @ !refCoefNorm=(), !pdfs=(Gaussian Signal = 0.996914/896.316,Exponential Background = inf/-nan), !coefficients=(Gauss_Norm_Bm = 1528.85,exp_Norm_Bm = 2.63193)\n",
            "     p.d.f value is Not-a-Number (-nan), forcing value to zero @ !refCoefNorm=(), !pdfs=(Gaussian Signal = 0.996914/896.316,Exponential Background = inf/-nan), !coefficients=(Gauss_Norm_Bm = 1528.85,exp_Norm_Bm = 2.63193)\n",
            "     getLogVal() top-level p.d.f evaluates to zero @ !refCoefNorm=(), !pdfs=(Gaussian Signal = 0.996914/896.316,Exponential Background = inf/-nan), !coefficients=(Gauss_Norm_Bm = 1528.85,exp_Norm_Bm = 2.63193)\n",
            "     p.d.f value is Not-a-Number (-nan), forcing value to zero @ !refCoefNorm=(), !pdfs=(Gaussian Signal = 0.996914/896.316,Exponential Background = inf/-nan), !coefficients=(Gauss_Norm_Bm = 1528.85,exp_Norm_Bm = 2.63193)\n",
            "     getLogVal() top-level p.d.f evaluates to zero @ !refCoefNorm=(), !pdfs=(Gaussian Signal = 0.996914/896.316,Exponential Background = inf/-nan), !coefficients=(Gauss_Norm_Bm = 1528.85,exp_Norm_Bm = 2.63193)\n",
            "     p.d.f value is Not-a-Number (-nan), forcing value to zero @ !refCoefNorm=(), !pdfs=(Gaussian Signal = 0.996914/896.316,Exponential Background = inf/-nan), !coefficients=(Gauss_Norm_Bm = 1528.85,exp_Norm_Bm = 2.63193)\n",
            "     getLogVal() top-level p.d.f evaluates to zero @ !refCoefNorm=(), !pdfs=(Gaussian Signal = 0.996914/896.316,Exponential Background = inf/-nan), !coefficients=(Gauss_Norm_Bm = 1528.85,exp_Norm_Bm = 2.63193)\n",
            "     p.d.f value is Not-a-Number (-nan), forcing value to zero @ !refCoefNorm=(), !pdfs=(Gaussian Signal = 0.996914/896.316,Exponential Background = inf/-nan), !coefficients=(Gauss_Norm_Bm = 1528.85,exp_Norm_Bm = 2.63193)\n",
            "     getLogVal() top-level p.d.f evaluates to zero @ !refCoefNorm=(), !pdfs=(Gaussian Signal = 0.996914/896.316,Exponential Background = inf/-nan), !coefficients=(Gauss_Norm_Bm = 1528.85,exp_Norm_Bm = 2.63193)\n",
            "    ... (remaining 2038 messages suppressed)\n",
            "RooRealIntegral::Exponential Background_Int[sqrt((((sqrt((493.677 **2) + ((H1_PX**2)+(H1_PY**2)+(H1_PZ**2))))+(sqrt((493.677 **2) + ((H2_PX**2)+(H2_PY**2)+(H2_PZ**2))))+(sqrt((493.677 **2) + ((H3_PX**2)+(H3_PY**2)+(H3_PZ**2)))))**2) - ((sqrt(((H1_PX+H2_PX+H3_PX)**2)+((H1_PY+H2_PY+H3_PY)**2)+((H1_PZ+H2_PZ+H3_PZ)**2)))**2))][ Int Exponential Backgroundd[Ana](sqrt((((sqrt((493.677 **2) + ((H1_PX**2)+(H1_PY**2)+(H1_PZ**2))))+(sqrt((493.677 **2) + ((H2_PX**2)+(H2_PY**2)+(H2_PZ**2))))+(sqrt((493.677 **2) + ((H3_PX**2)+(H3_PY**2)+(H3_PZ**2)))))**2) - ((sqrt(((H1_PX+H2_PX+H3_PX)**2)+((H1_PY+H2_PY+H3_PY)**2)+((H1_PZ+H2_PZ+H3_PZ)**2)))**2))) ]\n",
            "     function value is NAN @ !sumList=(), !intList=(), !anaList=(sqrt((((sqrt((493.677 **2) + ((H1_PX**2)+(H1_PY**2)+(H1_PZ**2))))+(sqrt((493.677 **2) + ((H2_PX**2)+(H2_PY**2)+(H2_PZ**2))))+(sqrt((493.677 **2) + ((H3_PX**2)+(H3_PY**2)+(H3_PZ**2)))))**2) - ((sqrt(((H1_PX+H2_PX+H3_PX)**2)+((H1_PY+H2_PY+H3_PY)**2)+((H1_PZ+H2_PZ+H3_PZ)**2)))**2)) = 5450), !jacList=(), !facList=(), !func=Exponential Background=inf/-nan, !sumCat=()\n",
            "\n",
            "[#0] WARNING:Minization -- RooMinimizerFcn: Minimized function has error status.\n",
            "Returning maximum FCN so far (7407.54) to force MIGRAD to back out of this region. Error log follows\n",
            "Parameter values: Gauss_Norm_Bm=2692.44, Mean=5614.44, Width=4896.33, exp_Norm_Bm=471.667, exponent=0.637963\n",
            "RooNLLVar::nll_Full Model_Data Set[ paramSet=(Gauss_Norm_Bm,Mean,Width,exp_Norm_Bm,exponent) ]\n",
            "     function value is NAN @ paramSet=(Gauss_Norm_Bm = 2692.44,Mean = 5614.44 +/- 7.12152,Width = 4896.33 +/- 5244.32,exp_Norm_Bm = 471.667,exponent = 0.637963 +/- 1.54618e-05)\n",
            "RooAddPdf::Full Model[ Gauss_Norm_Bm * Gaussian Signal + exp_Norm_Bm * Exponential Background ]\n",
            "     p.d.f value is Not-a-Number (-nan), forcing value to zero @ !refCoefNorm=(), !pdfs=(Gaussian Signal = 0.999436/898.229,Exponential Background = inf/-nan), !coefficients=(Gauss_Norm_Bm = 2692.44,exp_Norm_Bm = 471.667)\n",
            "     getLogVal() top-level p.d.f evaluates to zero @ !refCoefNorm=(), !pdfs=(Gaussian Signal = 0.999436/898.229,Exponential Background = inf/-nan), !coefficients=(Gauss_Norm_Bm = 2692.44,exp_Norm_Bm = 471.667)\n",
            "     p.d.f value is Not-a-Number (-nan), forcing value to zero @ !refCoefNorm=(), !pdfs=(Gaussian Signal = 0.999436/898.229,Exponential Background = inf/-nan), !coefficients=(Gauss_Norm_Bm = 2692.44,exp_Norm_Bm = 471.667)\n",
            "     getLogVal() top-level p.d.f evaluates to zero @ !refCoefNorm=(), !pdfs=(Gaussian Signal = 0.999436/898.229,Exponential Background = inf/-nan), !coefficients=(Gauss_Norm_Bm = 2692.44,exp_Norm_Bm = 471.667)\n",
            "     p.d.f value is Not-a-Number (-nan), forcing value to zero @ !refCoefNorm=(), !pdfs=(Gaussian Signal = 0.999436/898.229,Exponential Background = inf/-nan), !coefficients=(Gauss_Norm_Bm = 2692.44,exp_Norm_Bm = 471.667)\n",
            "     getLogVal() top-level p.d.f evaluates to zero @ !refCoefNorm=(), !pdfs=(Gaussian Signal = 0.999436/898.229,Exponential Background = inf/-nan), !coefficients=(Gauss_Norm_Bm = 2692.44,exp_Norm_Bm = 471.667)\n",
            "     p.d.f value is Not-a-Number (-nan), forcing value to zero @ !refCoefNorm=(), !pdfs=(Gaussian Signal = 0.999436/898.229,Exponential Background = inf/-nan), !coefficients=(Gauss_Norm_Bm = 2692.44,exp_Norm_Bm = 471.667)\n",
            "     getLogVal() top-level p.d.f evaluates to zero @ !refCoefNorm=(), !pdfs=(Gaussian Signal = 0.999436/898.229,Exponential Background = inf/-nan), !coefficients=(Gauss_Norm_Bm = 2692.44,exp_Norm_Bm = 471.667)\n",
            "     p.d.f value is Not-a-Number (-nan), forcing value to zero @ !refCoefNorm=(), !pdfs=(Gaussian Signal = 0.999436/898.229,Exponential Background = inf/-nan), !coefficients=(Gauss_Norm_Bm = 2692.44,exp_Norm_Bm = 471.667)\n",
            "     getLogVal() top-level p.d.f evaluates to zero @ !refCoefNorm=(), !pdfs=(Gaussian Signal = 0.999436/898.229,Exponential Background = inf/-nan), !coefficients=(Gauss_Norm_Bm = 2692.44,exp_Norm_Bm = 471.667)\n",
            "     p.d.f value is Not-a-Number (-nan), forcing value to zero @ !refCoefNorm=(), !pdfs=(Gaussian Signal = 0.999436/898.229,Exponential Background = inf/-nan), !coefficients=(Gauss_Norm_Bm = 2692.44,exp_Norm_Bm = 471.667)\n",
            "     getLogVal() top-level p.d.f evaluates to zero @ !refCoefNorm=(), !pdfs=(Gaussian Signal = 0.999436/898.229,Exponential Background = inf/-nan), !coefficients=(Gauss_Norm_Bm = 2692.44,exp_Norm_Bm = 471.667)\n",
            "    ... (remaining 2038 messages suppressed)\n",
            "RooRealIntegral::Exponential Background_Int[sqrt((((sqrt((493.677 **2) + ((H1_PX**2)+(H1_PY**2)+(H1_PZ**2))))+(sqrt((493.677 **2) + ((H2_PX**2)+(H2_PY**2)+(H2_PZ**2))))+(sqrt((493.677 **2) + ((H3_PX**2)+(H3_PY**2)+(H3_PZ**2)))))**2) - ((sqrt(((H1_PX+H2_PX+H3_PX)**2)+((H1_PY+H2_PY+H3_PY)**2)+((H1_PZ+H2_PZ+H3_PZ)**2)))**2))][ Int Exponential Backgroundd[Ana](sqrt((((sqrt((493.677 **2) + ((H1_PX**2)+(H1_PY**2)+(H1_PZ**2))))+(sqrt((493.677 **2) + ((H2_PX**2)+(H2_PY**2)+(H2_PZ**2))))+(sqrt((493.677 **2) + ((H3_PX**2)+(H3_PY**2)+(H3_PZ**2)))))**2) - ((sqrt(((H1_PX+H2_PX+H3_PX)**2)+((H1_PY+H2_PY+H3_PY)**2)+((H1_PZ+H2_PZ+H3_PZ)**2)))**2))) ]\n",
            "     function value is NAN @ !sumList=(), !intList=(), !anaList=(sqrt((((sqrt((493.677 **2) + ((H1_PX**2)+(H1_PY**2)+(H1_PZ**2))))+(sqrt((493.677 **2) + ((H2_PX**2)+(H2_PY**2)+(H2_PZ**2))))+(sqrt((493.677 **2) + ((H3_PX**2)+(H3_PY**2)+(H3_PZ**2)))))**2) - ((sqrt(((H1_PX+H2_PX+H3_PX)**2)+((H1_PY+H2_PY+H3_PY)**2)+((H1_PZ+H2_PZ+H3_PZ)**2)))**2)) = 5450), !jacList=(), !facList=(), !func=Exponential Background=inf/-nan, !sumCat=()\n",
            "\n",
            " MIGRAD FAILS TO FIND IMPROVEMENT\n",
            " MINUIT WARNING IN HESSE   \n",
            " ============== Negative diagonal element 1 in Error Matrix\n",
            " MINUIT WARNING IN HESSE   \n",
            " ============== Negative diagonal element 3 in Error Matrix\n",
            " MINUIT WARNING IN HESSE   \n",
            " ============== Negative diagonal element 5 in Error Matrix\n",
            " MINUIT WARNING IN HESSE   \n",
            " ============== 969036 added to diagonal of error matrix\n",
            " EIGENVALUES OF SECOND-DERIVATIVE MATRIX:\n",
            "        -2.1995e+03  9.9932e-01  1.0000e+00  1.0010e+00  2.2015e+03\n",
            " MINUIT WARNING IN HESSE   \n",
            " ============== MATRIX FORCED POS-DEF BY ADDING 2201.671466 TO DIAGONAL.\n",
            " FCN=-5388.88 FROM HESSE     STATUS=NOT POSDEF     31 CALLS         234 TOTAL\n",
            "                     EDM=1.00919e+09    STRATEGY= 1      ERR MATRIX NOT POS-DEF\n",
            "  EXT PARAMETER                APPROXIMATE        STEP         FIRST   \n",
            "  NO.   NAME      VALUE            ERROR          SIZE      DERIVATIVE \n",
            "   1  Gauss_Norm_Bm   3.75325e+03   3.84371e-02   2.28625e-03   1.05184e+03\n",
            "   2  Mean         5.44948e+03   1.61102e-02   4.15766e-06  -2.24177e+05\n",
            "   3  Width        1.32493e+00   3.90039e+02   5.15010e-05   9.42313e+04\n",
            "   4  exp_Norm_Bm   1.50578e+03   3.31334e-02   1.00983e-02  -1.52930e+03\n",
            "   5  exponent    -4.07333e-03   4.95038e-05   1.79812e-04  -6.70778e+02\n",
            "                               ERR DEF= 0.5\n",
            "[#0] WARNING:Minization -- RooMinimizerFcn: Minimized function has error status.\n",
            "Returning maximum FCN so far (7407.54) to force MIGRAD to back out of this region. Error log follows\n",
            "Parameter values: Gauss_Norm_Bm=3754.01, Mean=5899.92, Width=6911.31, exp_Norm_Bm=1504.36, exponent=-0.883178\n",
            "RooExponential::Exponential Background[ x=sqrt((((sqrt((493.677 **2) + ((H1_PX**2)+(H1_PY**2)+(H1_PZ**2))))+(sqrt((493.677 **2) + ((H2_PX**2)+(H2_PY**2)+(H2_PZ**2))))+(sqrt((493.677 **2) + ((H3_PX**2)+(H3_PY**2)+(H3_PZ**2)))))**2) - ((sqrt(((H1_PX+H2_PX+H3_PX)**2)+((H1_PY+H2_PY+H3_PY)**2)+((H1_PZ+H2_PZ+H3_PZ)**2)))**2)) c=exponent ]\n",
            "     p.d.f normalization integral is zero or negative @ x=sqrt((((sqrt((493.677 **2) + ((H1_PX**2)+(H1_PY**2)+(H1_PZ**2))))+(sqrt((493.677 **2) + ((H2_PX**2)+(H2_PY**2)+(H2_PZ**2))))+(sqrt((493.677 **2) + ((H3_PX**2)+(H3_PY**2)+(H3_PZ**2)))))**2) - ((sqrt(((H1_PX+H2_PX+H3_PX)**2)+((H1_PY+H2_PY+H3_PY)**2)+((H1_PZ+H2_PZ+H3_PZ)**2)))**2))=5450, c=exponent=-0.883178 +/- 1.54618e-05\n",
            "     p.d.f normalization integral is zero or negative @ x=sqrt((((sqrt((493.677 **2) + ((H1_PX**2)+(H1_PY**2)+(H1_PZ**2))))+(sqrt((493.677 **2) + ((H2_PX**2)+(H2_PY**2)+(H2_PZ**2))))+(sqrt((493.677 **2) + ((H3_PX**2)+(H3_PY**2)+(H3_PZ**2)))))**2) - ((sqrt(((H1_PX+H2_PX+H3_PX)**2)+((H1_PY+H2_PY+H3_PY)**2)+((H1_PZ+H2_PZ+H3_PZ)**2)))**2))=5450, c=exponent=-0.883178 +/- 1.54618e-05\n",
            "     p.d.f normalization integral is zero or negative @ x=sqrt((((sqrt((493.677 **2) + ((H1_PX**2)+(H1_PY**2)+(H1_PZ**2))))+(sqrt((493.677 **2) + ((H2_PX**2)+(H2_PY**2)+(H2_PZ**2))))+(sqrt((493.677 **2) + ((H3_PX**2)+(H3_PY**2)+(H3_PZ**2)))))**2) - ((sqrt(((H1_PX+H2_PX+H3_PX)**2)+((H1_PY+H2_PY+H3_PY)**2)+((H1_PZ+H2_PZ+H3_PZ)**2)))**2))=5450, c=exponent=-0.883178 +/- 1.54618e-05\n",
            "     p.d.f normalization integral is zero or negative @ x=sqrt((((sqrt((493.677 **2) + ((H1_PX**2)+(H1_PY**2)+(H1_PZ**2))))+(sqrt((493.677 **2) + ((H2_PX**2)+(H2_PY**2)+(H2_PZ**2))))+(sqrt((493.677 **2) + ((H3_PX**2)+(H3_PY**2)+(H3_PZ**2)))))**2) - ((sqrt(((H1_PX+H2_PX+H3_PX)**2)+((H1_PY+H2_PY+H3_PY)**2)+((H1_PZ+H2_PZ+H3_PZ)**2)))**2))=5450, c=exponent=-0.883178 +/- 1.54618e-05\n",
            "     p.d.f normalization integral is zero or negative @ x=sqrt((((sqrt((493.677 **2) + ((H1_PX**2)+(H1_PY**2)+(H1_PZ**2))))+(sqrt((493.677 **2) + ((H2_PX**2)+(H2_PY**2)+(H2_PZ**2))))+(sqrt((493.677 **2) + ((H3_PX**2)+(H3_PY**2)+(H3_PZ**2)))))**2) - ((sqrt(((H1_PX+H2_PX+H3_PX)**2)+((H1_PY+H2_PY+H3_PY)**2)+((H1_PZ+H2_PZ+H3_PZ)**2)))**2))=5450, c=exponent=-0.883178 +/- 1.54618e-05\n",
            "     p.d.f normalization integral is zero or negative @ x=sqrt((((sqrt((493.677 **2) + ((H1_PX**2)+(H1_PY**2)+(H1_PZ**2))))+(sqrt((493.677 **2) + ((H2_PX**2)+(H2_PY**2)+(H2_PZ**2))))+(sqrt((493.677 **2) + ((H3_PX**2)+(H3_PY**2)+(H3_PZ**2)))))**2) - ((sqrt(((H1_PX+H2_PX+H3_PX)**2)+((H1_PY+H2_PY+H3_PY)**2)+((H1_PZ+H2_PZ+H3_PZ)**2)))**2))=5450, c=exponent=-0.883178 +/- 1.54618e-05\n",
            "     p.d.f normalization integral is zero or negative @ x=sqrt((((sqrt((493.677 **2) + ((H1_PX**2)+(H1_PY**2)+(H1_PZ**2))))+(sqrt((493.677 **2) + ((H2_PX**2)+(H2_PY**2)+(H2_PZ**2))))+(sqrt((493.677 **2) + ((H3_PX**2)+(H3_PY**2)+(H3_PZ**2)))))**2) - ((sqrt(((H1_PX+H2_PX+H3_PX)**2)+((H1_PY+H2_PY+H3_PY)**2)+((H1_PZ+H2_PZ+H3_PZ)**2)))**2))=5450, c=exponent=-0.883178 +/- 1.54618e-05\n",
            "     p.d.f normalization integral is zero or negative @ x=sqrt((((sqrt((493.677 **2) + ((H1_PX**2)+(H1_PY**2)+(H1_PZ**2))))+(sqrt((493.677 **2) + ((H2_PX**2)+(H2_PY**2)+(H2_PZ**2))))+(sqrt((493.677 **2) + ((H3_PX**2)+(H3_PY**2)+(H3_PZ**2)))))**2) - ((sqrt(((H1_PX+H2_PX+H3_PX)**2)+((H1_PY+H2_PY+H3_PY)**2)+((H1_PZ+H2_PZ+H3_PZ)**2)))**2))=5450, c=exponent=-0.883178 +/- 1.54618e-05\n",
            "     p.d.f normalization integral is zero or negative @ x=sqrt((((sqrt((493.677 **2) + ((H1_PX**2)+(H1_PY**2)+(H1_PZ**2))))+(sqrt((493.677 **2) + ((H2_PX**2)+(H2_PY**2)+(H2_PZ**2))))+(sqrt((493.677 **2) + ((H3_PX**2)+(H3_PY**2)+(H3_PZ**2)))))**2) - ((sqrt(((H1_PX+H2_PX+H3_PX)**2)+((H1_PY+H2_PY+H3_PY)**2)+((H1_PZ+H2_PZ+H3_PZ)**2)))**2))=5450, c=exponent=-0.883178 +/- 1.54618e-05\n",
            "     p.d.f normalization integral is zero or negative @ x=sqrt((((sqrt((493.677 **2) + ((H1_PX**2)+(H1_PY**2)+(H1_PZ**2))))+(sqrt((493.677 **2) + ((H2_PX**2)+(H2_PY**2)+(H2_PZ**2))))+(sqrt((493.677 **2) + ((H3_PX**2)+(H3_PY**2)+(H3_PZ**2)))))**2) - ((sqrt(((H1_PX+H2_PX+H3_PX)**2)+((H1_PY+H2_PY+H3_PY)**2)+((H1_PZ+H2_PZ+H3_PZ)**2)))**2))=5450, c=exponent=-0.883178 +/- 1.54618e-05\n",
            "     p.d.f normalization integral is zero or negative @ x=sqrt((((sqrt((493.677 **2) + ((H1_PX**2)+(H1_PY**2)+(H1_PZ**2))))+(sqrt((493.677 **2) + ((H2_PX**2)+(H2_PY**2)+(H2_PZ**2))))+(sqrt((493.677 **2) + ((H3_PX**2)+(H3_PY**2)+(H3_PZ**2)))))**2) - ((sqrt(((H1_PX+H2_PX+H3_PX)**2)+((H1_PY+H2_PY+H3_PY)**2)+((H1_PZ+H2_PZ+H3_PZ)**2)))**2))=5450, c=exponent=-0.883178 +/- 1.54618e-05\n",
            "     p.d.f normalization integral is zero or negative @ x=sqrt((((sqrt((493.677 **2) + ((H1_PX**2)+(H1_PY**2)+(H1_PZ**2))))+(sqrt((493.677 **2) + ((H2_PX**2)+(H2_PY**2)+(H2_PZ**2))))+(sqrt((493.677 **2) + ((H3_PX**2)+(H3_PY**2)+(H3_PZ**2)))))**2) - ((sqrt(((H1_PX+H2_PX+H3_PX)**2)+((H1_PY+H2_PY+H3_PY)**2)+((H1_PZ+H2_PZ+H3_PZ)**2)))**2))=5450, c=exponent=-0.883178 +/- 1.54618e-05\n",
            "    ... (remaining 1521 messages suppressed)\n",
            "\n",
            "[#0] WARNING:Minization -- RooMinimizerFcn: Minimized function has error status.\n",
            "Returning maximum FCN so far (7407.54) to force MIGRAD to back out of this region. Error log follows\n",
            "Parameter values: Gauss_Norm_Bm=3753.63, Mean=5767.53, Width=2823.71, exp_Norm_Bm=1505.07, exponent=-0.455374\n",
            "RooExponential::Exponential Background[ x=sqrt((((sqrt((493.677 **2) + ((H1_PX**2)+(H1_PY**2)+(H1_PZ**2))))+(sqrt((493.677 **2) + ((H2_PX**2)+(H2_PY**2)+(H2_PZ**2))))+(sqrt((493.677 **2) + ((H3_PX**2)+(H3_PY**2)+(H3_PZ**2)))))**2) - ((sqrt(((H1_PX+H2_PX+H3_PX)**2)+((H1_PY+H2_PY+H3_PY)**2)+((H1_PZ+H2_PZ+H3_PZ)**2)))**2)) c=exponent ]\n",
            "     p.d.f normalization integral is zero or negative @ x=sqrt((((sqrt((493.677 **2) + ((H1_PX**2)+(H1_PY**2)+(H1_PZ**2))))+(sqrt((493.677 **2) + ((H2_PX**2)+(H2_PY**2)+(H2_PZ**2))))+(sqrt((493.677 **2) + ((H3_PX**2)+(H3_PY**2)+(H3_PZ**2)))))**2) - ((sqrt(((H1_PX+H2_PX+H3_PX)**2)+((H1_PY+H2_PY+H3_PY)**2)+((H1_PZ+H2_PZ+H3_PZ)**2)))**2))=5450, c=exponent=-0.455374 +/- 1.54618e-05\n",
            "     p.d.f normalization integral is zero or negative @ x=sqrt((((sqrt((493.677 **2) + ((H1_PX**2)+(H1_PY**2)+(H1_PZ**2))))+(sqrt((493.677 **2) + ((H2_PX**2)+(H2_PY**2)+(H2_PZ**2))))+(sqrt((493.677 **2) + ((H3_PX**2)+(H3_PY**2)+(H3_PZ**2)))))**2) - ((sqrt(((H1_PX+H2_PX+H3_PX)**2)+((H1_PY+H2_PY+H3_PY)**2)+((H1_PZ+H2_PZ+H3_PZ)**2)))**2))=5450, c=exponent=-0.455374 +/- 1.54618e-05\n",
            "     p.d.f normalization integral is zero or negative @ x=sqrt((((sqrt((493.677 **2) + ((H1_PX**2)+(H1_PY**2)+(H1_PZ**2))))+(sqrt((493.677 **2) + ((H2_PX**2)+(H2_PY**2)+(H2_PZ**2))))+(sqrt((493.677 **2) + ((H3_PX**2)+(H3_PY**2)+(H3_PZ**2)))))**2) - ((sqrt(((H1_PX+H2_PX+H3_PX)**2)+((H1_PY+H2_PY+H3_PY)**2)+((H1_PZ+H2_PZ+H3_PZ)**2)))**2))=5450, c=exponent=-0.455374 +/- 1.54618e-05\n",
            "     p.d.f normalization integral is zero or negative @ x=sqrt((((sqrt((493.677 **2) + ((H1_PX**2)+(H1_PY**2)+(H1_PZ**2))))+(sqrt((493.677 **2) + ((H2_PX**2)+(H2_PY**2)+(H2_PZ**2))))+(sqrt((493.677 **2) + ((H3_PX**2)+(H3_PY**2)+(H3_PZ**2)))))**2) - ((sqrt(((H1_PX+H2_PX+H3_PX)**2)+((H1_PY+H2_PY+H3_PY)**2)+((H1_PZ+H2_PZ+H3_PZ)**2)))**2))=5450, c=exponent=-0.455374 +/- 1.54618e-05\n",
            "     p.d.f normalization integral is zero or negative @ x=sqrt((((sqrt((493.677 **2) + ((H1_PX**2)+(H1_PY**2)+(H1_PZ**2))))+(sqrt((493.677 **2) + ((H2_PX**2)+(H2_PY**2)+(H2_PZ**2))))+(sqrt((493.677 **2) + ((H3_PX**2)+(H3_PY**2)+(H3_PZ**2)))))**2) - ((sqrt(((H1_PX+H2_PX+H3_PX)**2)+((H1_PY+H2_PY+H3_PY)**2)+((H1_PZ+H2_PZ+H3_PZ)**2)))**2))=5450, c=exponent=-0.455374 +/- 1.54618e-05\n",
            "     p.d.f normalization integral is zero or negative @ x=sqrt((((sqrt((493.677 **2) + ((H1_PX**2)+(H1_PY**2)+(H1_PZ**2))))+(sqrt((493.677 **2) + ((H2_PX**2)+(H2_PY**2)+(H2_PZ**2))))+(sqrt((493.677 **2) + ((H3_PX**2)+(H3_PY**2)+(H3_PZ**2)))))**2) - ((sqrt(((H1_PX+H2_PX+H3_PX)**2)+((H1_PY+H2_PY+H3_PY)**2)+((H1_PZ+H2_PZ+H3_PZ)**2)))**2))=5450, c=exponent=-0.455374 +/- 1.54618e-05\n",
            "     p.d.f normalization integral is zero or negative @ x=sqrt((((sqrt((493.677 **2) + ((H1_PX**2)+(H1_PY**2)+(H1_PZ**2))))+(sqrt((493.677 **2) + ((H2_PX**2)+(H2_PY**2)+(H2_PZ**2))))+(sqrt((493.677 **2) + ((H3_PX**2)+(H3_PY**2)+(H3_PZ**2)))))**2) - ((sqrt(((H1_PX+H2_PX+H3_PX)**2)+((H1_PY+H2_PY+H3_PY)**2)+((H1_PZ+H2_PZ+H3_PZ)**2)))**2))=5450, c=exponent=-0.455374 +/- 1.54618e-05\n",
            "     p.d.f normalization integral is zero or negative @ x=sqrt((((sqrt((493.677 **2) + ((H1_PX**2)+(H1_PY**2)+(H1_PZ**2))))+(sqrt((493.677 **2) + ((H2_PX**2)+(H2_PY**2)+(H2_PZ**2))))+(sqrt((493.677 **2) + ((H3_PX**2)+(H3_PY**2)+(H3_PZ**2)))))**2) - ((sqrt(((H1_PX+H2_PX+H3_PX)**2)+((H1_PY+H2_PY+H3_PY)**2)+((H1_PZ+H2_PZ+H3_PZ)**2)))**2))=5450, c=exponent=-0.455374 +/- 1.54618e-05\n",
            "     p.d.f normalization integral is zero or negative @ x=sqrt((((sqrt((493.677 **2) + ((H1_PX**2)+(H1_PY**2)+(H1_PZ**2))))+(sqrt((493.677 **2) + ((H2_PX**2)+(H2_PY**2)+(H2_PZ**2))))+(sqrt((493.677 **2) + ((H3_PX**2)+(H3_PY**2)+(H3_PZ**2)))))**2) - ((sqrt(((H1_PX+H2_PX+H3_PX)**2)+((H1_PY+H2_PY+H3_PY)**2)+((H1_PZ+H2_PZ+H3_PZ)**2)))**2))=5450, c=exponent=-0.455374 +/- 1.54618e-05\n",
            "     p.d.f normalization integral is zero or negative @ x=sqrt((((sqrt((493.677 **2) + ((H1_PX**2)+(H1_PY**2)+(H1_PZ**2))))+(sqrt((493.677 **2) + ((H2_PX**2)+(H2_PY**2)+(H2_PZ**2))))+(sqrt((493.677 **2) + ((H3_PX**2)+(H3_PY**2)+(H3_PZ**2)))))**2) - ((sqrt(((H1_PX+H2_PX+H3_PX)**2)+((H1_PY+H2_PY+H3_PY)**2)+((H1_PZ+H2_PZ+H3_PZ)**2)))**2))=5450, c=exponent=-0.455374 +/- 1.54618e-05\n",
            "     p.d.f normalization integral is zero or negative @ x=sqrt((((sqrt((493.677 **2) + ((H1_PX**2)+(H1_PY**2)+(H1_PZ**2))))+(sqrt((493.677 **2) + ((H2_PX**2)+(H2_PY**2)+(H2_PZ**2))))+(sqrt((493.677 **2) + ((H3_PX**2)+(H3_PY**2)+(H3_PZ**2)))))**2) - ((sqrt(((H1_PX+H2_PX+H3_PX)**2)+((H1_PY+H2_PY+H3_PY)**2)+((H1_PZ+H2_PZ+H3_PZ)**2)))**2))=5450, c=exponent=-0.455374 +/- 1.54618e-05\n",
            "     p.d.f normalization integral is zero or negative @ x=sqrt((((sqrt((493.677 **2) + ((H1_PX**2)+(H1_PY**2)+(H1_PZ**2))))+(sqrt((493.677 **2) + ((H2_PX**2)+(H2_PY**2)+(H2_PZ**2))))+(sqrt((493.677 **2) + ((H3_PX**2)+(H3_PY**2)+(H3_PZ**2)))))**2) - ((sqrt(((H1_PX+H2_PX+H3_PX)**2)+((H1_PY+H2_PY+H3_PY)**2)+((H1_PZ+H2_PZ+H3_PZ)**2)))**2))=5450, c=exponent=-0.455374 +/- 1.54618e-05\n",
            "    ... (remaining 1521 messages suppressed)\n",
            "\n",
            "[#0] WARNING:Minization -- RooMinimizerFcn: Minimized function has error status.\n",
            "Returning maximum FCN so far (7407.54) to force MIGRAD to back out of this region. Error log follows\n",
            "Parameter values: Gauss_Norm_Bm=3753.44, Mean=5623.06, Width=624.278, exp_Norm_Bm=1505.42, exponent=-0.231217\n",
            "RooExponential::Exponential Background[ x=sqrt((((sqrt((493.677 **2) + ((H1_PX**2)+(H1_PY**2)+(H1_PZ**2))))+(sqrt((493.677 **2) + ((H2_PX**2)+(H2_PY**2)+(H2_PZ**2))))+(sqrt((493.677 **2) + ((H3_PX**2)+(H3_PY**2)+(H3_PZ**2)))))**2) - ((sqrt(((H1_PX+H2_PX+H3_PX)**2)+((H1_PY+H2_PY+H3_PY)**2)+((H1_PZ+H2_PZ+H3_PZ)**2)))**2)) c=exponent ]\n",
            "     p.d.f normalization integral is zero or negative @ x=sqrt((((sqrt((493.677 **2) + ((H1_PX**2)+(H1_PY**2)+(H1_PZ**2))))+(sqrt((493.677 **2) + ((H2_PX**2)+(H2_PY**2)+(H2_PZ**2))))+(sqrt((493.677 **2) + ((H3_PX**2)+(H3_PY**2)+(H3_PZ**2)))))**2) - ((sqrt(((H1_PX+H2_PX+H3_PX)**2)+((H1_PY+H2_PY+H3_PY)**2)+((H1_PZ+H2_PZ+H3_PZ)**2)))**2))=5450, c=exponent=-0.231217 +/- 1.54618e-05\n",
            "     p.d.f normalization integral is zero or negative @ x=sqrt((((sqrt((493.677 **2) + ((H1_PX**2)+(H1_PY**2)+(H1_PZ**2))))+(sqrt((493.677 **2) + ((H2_PX**2)+(H2_PY**2)+(H2_PZ**2))))+(sqrt((493.677 **2) + ((H3_PX**2)+(H3_PY**2)+(H3_PZ**2)))))**2) - ((sqrt(((H1_PX+H2_PX+H3_PX)**2)+((H1_PY+H2_PY+H3_PY)**2)+((H1_PZ+H2_PZ+H3_PZ)**2)))**2))=5450, c=exponent=-0.231217 +/- 1.54618e-05\n",
            "     p.d.f normalization integral is zero or negative @ x=sqrt((((sqrt((493.677 **2) + ((H1_PX**2)+(H1_PY**2)+(H1_PZ**2))))+(sqrt((493.677 **2) + ((H2_PX**2)+(H2_PY**2)+(H2_PZ**2))))+(sqrt((493.677 **2) + ((H3_PX**2)+(H3_PY**2)+(H3_PZ**2)))))**2) - ((sqrt(((H1_PX+H2_PX+H3_PX)**2)+((H1_PY+H2_PY+H3_PY)**2)+((H1_PZ+H2_PZ+H3_PZ)**2)))**2))=5450, c=exponent=-0.231217 +/- 1.54618e-05\n",
            "     p.d.f normalization integral is zero or negative @ x=sqrt((((sqrt((493.677 **2) + ((H1_PX**2)+(H1_PY**2)+(H1_PZ**2))))+(sqrt((493.677 **2) + ((H2_PX**2)+(H2_PY**2)+(H2_PZ**2))))+(sqrt((493.677 **2) + ((H3_PX**2)+(H3_PY**2)+(H3_PZ**2)))))**2) - ((sqrt(((H1_PX+H2_PX+H3_PX)**2)+((H1_PY+H2_PY+H3_PY)**2)+((H1_PZ+H2_PZ+H3_PZ)**2)))**2))=5450, c=exponent=-0.231217 +/- 1.54618e-05\n",
            "     p.d.f normalization integral is zero or negative @ x=sqrt((((sqrt((493.677 **2) + ((H1_PX**2)+(H1_PY**2)+(H1_PZ**2))))+(sqrt((493.677 **2) + ((H2_PX**2)+(H2_PY**2)+(H2_PZ**2))))+(sqrt((493.677 **2) + ((H3_PX**2)+(H3_PY**2)+(H3_PZ**2)))))**2) - ((sqrt(((H1_PX+H2_PX+H3_PX)**2)+((H1_PY+H2_PY+H3_PY)**2)+((H1_PZ+H2_PZ+H3_PZ)**2)))**2))=5450, c=exponent=-0.231217 +/- 1.54618e-05\n",
            "     p.d.f normalization integral is zero or negative @ x=sqrt((((sqrt((493.677 **2) + ((H1_PX**2)+(H1_PY**2)+(H1_PZ**2))))+(sqrt((493.677 **2) + ((H2_PX**2)+(H2_PY**2)+(H2_PZ**2))))+(sqrt((493.677 **2) + ((H3_PX**2)+(H3_PY**2)+(H3_PZ**2)))))**2) - ((sqrt(((H1_PX+H2_PX+H3_PX)**2)+((H1_PY+H2_PY+H3_PY)**2)+((H1_PZ+H2_PZ+H3_PZ)**2)))**2))=5450, c=exponent=-0.231217 +/- 1.54618e-05\n",
            "     p.d.f normalization integral is zero or negative @ x=sqrt((((sqrt((493.677 **2) + ((H1_PX**2)+(H1_PY**2)+(H1_PZ**2))))+(sqrt((493.677 **2) + ((H2_PX**2)+(H2_PY**2)+(H2_PZ**2))))+(sqrt((493.677 **2) + ((H3_PX**2)+(H3_PY**2)+(H3_PZ**2)))))**2) - ((sqrt(((H1_PX+H2_PX+H3_PX)**2)+((H1_PY+H2_PY+H3_PY)**2)+((H1_PZ+H2_PZ+H3_PZ)**2)))**2))=5450, c=exponent=-0.231217 +/- 1.54618e-05\n",
            "     p.d.f normalization integral is zero or negative @ x=sqrt((((sqrt((493.677 **2) + ((H1_PX**2)+(H1_PY**2)+(H1_PZ**2))))+(sqrt((493.677 **2) + ((H2_PX**2)+(H2_PY**2)+(H2_PZ**2))))+(sqrt((493.677 **2) + ((H3_PX**2)+(H3_PY**2)+(H3_PZ**2)))))**2) - ((sqrt(((H1_PX+H2_PX+H3_PX)**2)+((H1_PY+H2_PY+H3_PY)**2)+((H1_PZ+H2_PZ+H3_PZ)**2)))**2))=5450, c=exponent=-0.231217 +/- 1.54618e-05\n",
            "     p.d.f normalization integral is zero or negative @ x=sqrt((((sqrt((493.677 **2) + ((H1_PX**2)+(H1_PY**2)+(H1_PZ**2))))+(sqrt((493.677 **2) + ((H2_PX**2)+(H2_PY**2)+(H2_PZ**2))))+(sqrt((493.677 **2) + ((H3_PX**2)+(H3_PY**2)+(H3_PZ**2)))))**2) - ((sqrt(((H1_PX+H2_PX+H3_PX)**2)+((H1_PY+H2_PY+H3_PY)**2)+((H1_PZ+H2_PZ+H3_PZ)**2)))**2))=5450, c=exponent=-0.231217 +/- 1.54618e-05\n",
            "     p.d.f normalization integral is zero or negative @ x=sqrt((((sqrt((493.677 **2) + ((H1_PX**2)+(H1_PY**2)+(H1_PZ**2))))+(sqrt((493.677 **2) + ((H2_PX**2)+(H2_PY**2)+(H2_PZ**2))))+(sqrt((493.677 **2) + ((H3_PX**2)+(H3_PY**2)+(H3_PZ**2)))))**2) - ((sqrt(((H1_PX+H2_PX+H3_PX)**2)+((H1_PY+H2_PY+H3_PY)**2)+((H1_PZ+H2_PZ+H3_PZ)**2)))**2))=5450, c=exponent=-0.231217 +/- 1.54618e-05\n",
            "     p.d.f normalization integral is zero or negative @ x=sqrt((((sqrt((493.677 **2) + ((H1_PX**2)+(H1_PY**2)+(H1_PZ**2))))+(sqrt((493.677 **2) + ((H2_PX**2)+(H2_PY**2)+(H2_PZ**2))))+(sqrt((493.677 **2) + ((H3_PX**2)+(H3_PY**2)+(H3_PZ**2)))))**2) - ((sqrt(((H1_PX+H2_PX+H3_PX)**2)+((H1_PY+H2_PY+H3_PY)**2)+((H1_PZ+H2_PZ+H3_PZ)**2)))**2))=5450, c=exponent=-0.231217 +/- 1.54618e-05\n",
            "     p.d.f normalization integral is zero or negative @ x=sqrt((((sqrt((493.677 **2) + ((H1_PX**2)+(H1_PY**2)+(H1_PZ**2))))+(sqrt((493.677 **2) + ((H2_PX**2)+(H2_PY**2)+(H2_PZ**2))))+(sqrt((493.677 **2) + ((H3_PX**2)+(H3_PY**2)+(H3_PZ**2)))))**2) - ((sqrt(((H1_PX+H2_PX+H3_PX)**2)+((H1_PY+H2_PY+H3_PY)**2)+((H1_PZ+H2_PZ+H3_PZ)**2)))**2))=5450, c=exponent=-0.231217 +/- 1.54618e-05\n",
            "    ... (remaining 1521 messages suppressed)\n",
            "\n",
            " MIGRAD FAILS TO FIND IMPROVEMENT\n",
            " MIGRAD TERMINATED WITHOUT CONVERGENCE.\n",
            " FCN=-5388.88 FROM MIGRAD    STATUS=FAILED        244 CALLS         245 TOTAL\n",
            "                     EDM=1.00919e+09    STRATEGY= 1      ERR MATRIX NOT POS-DEF\n",
            "  EXT PARAMETER                APPROXIMATE        STEP         FIRST   \n",
            "  NO.   NAME      VALUE            ERROR          SIZE      DERIVATIVE \n",
            "   1  Gauss_Norm_Bm   3.75325e+03   3.84371e-02   0.00000e+00   1.05184e+03\n",
            "   2  Mean         5.44948e+03   1.61102e-02   0.00000e+00  -2.24177e+05\n",
            "   3  Width        1.32493e+00   3.90039e+02  -0.00000e+00   9.42313e+04\n",
            "   4  exp_Norm_Bm   1.50578e+03   3.31334e-02   0.00000e+00  -1.52930e+03\n",
            "   5  exponent    -4.07333e-03   4.95038e-05  -0.00000e+00  -6.70778e+02\n",
            "                               ERR DEF= 0.5\n",
            " EXTERNAL ERROR MATRIX.    NDIM=  25    NPAR=  5    ERR DEF=0.5\n",
            "  1.477e-03  2.732e-07 -7.792e-04  5.351e-10 -3.443e-10 \n",
            "  2.732e-07  2.595e-04 -7.388e-01  5.070e-07 -3.262e-07 \n",
            " -7.792e-04 -7.388e-01  2.107e+03 -1.446e-03  9.305e-04 \n",
            "  5.351e-10  5.070e-07 -1.446e-03  1.098e-03 -6.390e-10 \n",
            " -3.443e-10 -3.262e-07  9.305e-04 -6.390e-10  2.451e-09 \n",
            "ERR MATRIX NOT POS-DEF\n",
            " PARAMETER  CORRELATION COEFFICIENTS  \n",
            "       NO.  GLOBAL      1      2      3      4      5\n",
            "        1  0.00044   1.000  0.000 -0.000  0.000 -0.000\n",
            "        2  0.99900   0.000  1.000 -0.999  0.001 -0.409\n",
            "        3  0.99900  -0.000 -0.999  1.000 -0.001  0.409\n",
            "        4  0.00095   0.000  0.001 -0.001  1.000 -0.000\n",
            "        5  0.40947  -0.000 -0.409  0.409 -0.000  1.000\n",
            " ERR MATRIX NOT POS-DEF\n",
            " **********\n",
            " **   16 **SET ERR         0.5\n",
            " **********\n",
            " **********\n",
            " **   17 **SET PRINT           1\n",
            " **********\n",
            " **********\n",
            " **   18 **HESSE        2500\n",
            " **********\n",
            " MINUIT WARNING IN HESSE   \n",
            " ============== Negative diagonal element 1 in Error Matrix\n",
            " MINUIT WARNING IN HESSE   \n",
            " ============== Negative diagonal element 3 in Error Matrix\n",
            " MINUIT WARNING IN HESSE   \n",
            " ============== Negative diagonal element 5 in Error Matrix\n",
            " MINUIT WARNING IN HESSE   \n",
            " ============== 969065 added to diagonal of error matrix\n",
            " EIGENVALUES OF SECOND-DERIVATIVE MATRIX:\n",
            "        -2.2112e+03  9.9932e-01  1.0000e+00  1.0010e+00  2.2132e+03\n",
            " MINUIT WARNING IN HESSE   \n",
            " ============== MATRIX FORCED POS-DEF BY ADDING 2213.454447 TO DIAGONAL.\n",
            " FCN=-5388.88 FROM HESSE     STATUS=NOT POSDEF     31 CALLS         276 TOTAL\n",
            "                     EDM=2.00765e+09    STRATEGY= 1      ERR MATRIX NOT POS-DEF\n",
            "  EXT PARAMETER                APPROXIMATE     INTERNAL      INTERNAL  \n",
            "  NO.   NAME      VALUE            ERROR       STEP SIZE       VALUE   \n",
            "   1  Gauss_Norm_Bm   3.75325e+03   3.83341e-02   4.57250e-04   6.87149e-01\n",
            "   2  Mean         5.44948e+03   1.60674e-02   8.31531e-07   9.91280e-02\n",
            "   3  Width        1.32493e+00   3.88004e+02   1.03002e-05  -1.54328e+00\n",
            "   4  exp_Norm_Bm   1.50578e+03   3.30446e-02   2.01966e-03  -3.12512e+00\n",
            "   5  exponent    -4.07333e-03   4.92956e-05   3.59623e-05  -2.03667e-03\n",
            "                               ERR DEF= 0.5\n",
            " EXTERNAL ERROR MATRIX.    NDIM=  25    NPAR=  5    ERR DEF=0.5\n",
            "  1.470e-03  2.704e-07 -7.713e-04  5.264e-10 -3.369e-10 \n",
            "  2.704e-07  2.582e-04 -7.348e-01  5.011e-07 -3.207e-07 \n",
            " -7.713e-04 -7.348e-01  2.096e+03 -1.429e-03  9.148e-04 \n",
            "  5.264e-10  5.011e-07 -1.429e-03  1.092e-03 -6.243e-10 \n",
            " -3.369e-10 -3.207e-07  9.148e-04 -6.243e-10  2.430e-09 \n",
            "ERR MATRIX NOT POS-DEF\n",
            " PARAMETER  CORRELATION COEFFICIENTS  \n",
            "       NO.  GLOBAL      1      2      3      4      5\n",
            "        1  0.00044   1.000  0.000 -0.000  0.000 -0.000\n",
            "        2  0.99900   0.000  1.000 -0.999  0.001 -0.405\n",
            "        3  0.99900  -0.000 -0.999  1.000 -0.001  0.405\n",
            "        4  0.00094   0.000  0.001 -0.001  1.000 -0.000\n",
            "        5  0.40534  -0.000 -0.405  0.405 -0.000  1.000\n",
            " ERR MATRIX NOT POS-DEF\n",
            "[#1] INFO:Minization -- RooMinimizer::optimizeConst: deactivating const optimization\n",
            "[#1] INFO:Plotting -- RooAbsPdf::plotOn(Full Model) directly selected PDF components: (Gaussian Signal)\n",
            "[#1] INFO:Plotting -- RooAbsPdf::plotOn(Full Model) indirectly selected PDF components: ()\n",
            "[#1] INFO:Plotting -- RooAbsPdf::plotOn(Full Model) directly selected PDF components: (Exponential Background)\n",
            "[#1] INFO:Plotting -- RooAbsPdf::plotOn(Full Model) indirectly selected PDF components: ()\n",
            "[#1] INFO:Plotting -- RooAbsPdf::plotOn(Full Model) directly selected PDF components: (Gaussian Signal)\n",
            "[#1] INFO:Plotting -- RooAbsPdf::plotOn(Full Model) indirectly selected PDF components: ()\n",
            "[#1] INFO:Plotting -- RooAbsPdf::plotOn(Full Model) directly selected PDF components: (Exponential Background)\n",
            "[#1] INFO:Plotting -- RooAbsPdf::plotOn(Full Model) indirectly selected PDF components: ()\n"
          ]
        }
      ]
    },
    {
      "cell_type": "code",
      "source": [
        "#Find error values\n",
        "gaussBp_val = Gauss_Norm_Bp.getValV()\n",
        "gaussBm_val = Gauss_Norm_Bm.getValV()\n",
        "gaussBp_err = Gauss_Norm_Bp.getError()\n",
        "gaussBm_err = Gauss_Norm_Bm.getError()\n",
        "chi2_Bp = frame_Bp.chiSquare()\n",
        "chi2_Bm = frame_Bm.chiSquare()\n",
        "print(\"The values for B+ are:\")\n",
        "print(gaussBp_val)\n",
        "print(gaussBp_err)\n",
        "print(chi2_Bp)\n",
        "print(\"The values for B- are:\")\n",
        "print(gaussBm_val)\n",
        "print(gaussBm_err)\n",
        "print(chi2_Bm)  "
      ],
      "metadata": {
        "colab": {
          "base_uri": "https://localhost:8080/"
        },
        "id": "94uNmaq0TiX2",
        "outputId": "12768836-2771-480f-abcd-915f18d31f53"
      },
      "execution_count": 11,
      "outputs": [
        {
          "output_type": "stream",
          "name": "stdout",
          "text": [
            "The values for B+ are:\n",
            "72.79425712131537\n",
            "23.272748797262288\n",
            "1581.6858232583443\n",
            "The values for B- are:\n",
            "3753.2527258512678\n",
            "0.03833408892660373\n",
            "867.3994948033029\n"
          ]
        }
      ]
    },
    {
      "cell_type": "code",
      "source": [
        "#Calcule the asymmetry\n",
        "A = (gaussBm_val - gaussBp_val)/(gaussBm_val+gaussBp_val)\n",
        "print(\"The asymmetry in A is\")\n",
        "print(A)"
      ],
      "metadata": {
        "colab": {
          "base_uri": "https://localhost:8080/"
        },
        "id": "ZhsG3dBJT_EP",
        "outputId": "6f180009-235a-42ac-c518-5bc1410ea6a9"
      },
      "execution_count": 12,
      "outputs": [
        {
          "output_type": "stream",
          "name": "stdout",
          "text": [
            "The asymmetry in A is\n",
            "0.9619480589520838\n"
          ]
        }
      ]
    },
    {
      "cell_type": "code",
      "source": [
        "#calculating the uncertainty on A\n",
        "sigma = sqrt((1- A**2)/gaussBm_val+gaussBp_val)\n",
        "print('The uncertainty is')\n",
        "print(sigma)"
      ],
      "metadata": {
        "colab": {
          "base_uri": "https://localhost:8080/"
        },
        "id": "2_lRZQ3dUQKp",
        "outputId": "24c587d5-257c-46e7-d0a5-2825d830b4c7"
      },
      "execution_count": 13,
      "outputs": [
        {
          "output_type": "stream",
          "name": "stdout",
          "text": [
            "The uncertainty is\n",
            "8.531956224237824\n"
          ]
        }
      ]
    },
    {
      "cell_type": "markdown",
      "metadata": {
        "id": "r5B--_33okz1"
      },
      "source": [
        "#Congratulations!\n",
        "\n",
        "You just made your first LHCb physics analysis. Does this seem like a reasonable result? Did we explain why we have an excess of mass in the Universe?"
      ]
    },
    {
      "cell_type": "markdown",
      "metadata": {
        "id": "dzybWZylomGu"
      },
      "source": [
        "## **Bonus content only below here:**"
      ]
    },
    {
      "cell_type": "markdown",
      "metadata": {
        "id": "odpbRqdoou5M"
      },
      "source": [
        "To make a further anaysis, we can look into the intermediate processes.\n",
        "\n",
        "We have so far considered only that the B meson ultimately decays into three kaons. It may be that on the way, the B meson first decays into a Kaon and another particle, and then from that particle to two Kaons.\n",
        "\n",
        "We would expect this to be one of three possible modes (for B<sup>+</sup>):\n",
        "\n",
        "$R^{++} \\rightarrow K_1^+ +K_2^+$\n",
        "\n",
        "(we don't expect this to happen because of the like charges in the Kaons)\n",
        "\n",
        "$R^0 \\rightarrow K_1^+ +K_3^-$\n",
        "\n",
        "$R^0 \\rightarrow K_2^+ +K_3^-$\n",
        "\n",
        "(Expect symmetric arrangements for B<sup>-</sup>)\n",
        "\n",
        "To analyse the intermediate states we can measure the invarient masses of the intermediate states and then plot them on what is called a Dalitz plot (this is a 2D plot with two different two body decays (from the three body decay) on each axis)\n",
        "\n",
        "![Dalitz Plot](https://slideplayer.com/slide/15960097/88/images/15/Dalitz+plot%3A+%CE%9B+c+%2B+%E2%86%92%F0%9D%91%9D+%F0%9D%90%BE+%E2%88%92+%F0%9D%9C%8B+%2B.jpg)\n"
      ]
    },
    {
      "cell_type": "code",
      "metadata": {
        "id": "SqJxvZSKo1cW"
      },
      "source": [
        "#Define a function to find the invarient mass of two given Kaons"
      ],
      "execution_count": null,
      "outputs": []
    },
    {
      "cell_type": "code",
      "metadata": {
        "id": "YPVqECfPo3Wc"
      },
      "source": [
        "#Then, ensuring you're still taking the data after the selection, make a Dalitz plot. This is a 2-D scatter plot (use e.g. TH2F to make the plot where we used TH1F before)\n",
        "#Choose an appropriate binning in your scatter "
      ],
      "execution_count": null,
      "outputs": []
    },
    {
      "cell_type": "markdown",
      "metadata": {
        "id": "qPoPLt4Uo6QB"
      },
      "source": [
        "We can further improve our plot, since two sets of particles on each axis are exactly the same (one positive Kaon, one negative Kaon). So we can plot the maximum of the two values on one axis and the minimum on the other. We can use a quick numpy check and then plot those values."
      ]
    },
    {
      "cell_type": "code",
      "metadata": {
        "id": "KJ_fe2R3o8Aq"
      },
      "source": [
        "#Make the revised Dalitz plot here for B+ mesons"
      ],
      "execution_count": null,
      "outputs": []
    },
    {
      "cell_type": "code",
      "metadata": {
        "id": "t46slV8Yo-Ed"
      },
      "source": [
        "#Make the revised Dalitz plot here for B- mesons"
      ],
      "execution_count": null,
      "outputs": []
    },
    {
      "cell_type": "code",
      "metadata": {
        "id": "RfTDh69qo9_q"
      },
      "source": [
        "#Where we have a higher density of points (or a bigger value in the bin) this is indication of an intermediate resonance\n",
        "#Check out the possible resonances you have found in the PDG (http://pdg.lbl.gov/2020/tables/contents_tables.html)"
      ],
      "execution_count": null,
      "outputs": []
    }
  ]
}